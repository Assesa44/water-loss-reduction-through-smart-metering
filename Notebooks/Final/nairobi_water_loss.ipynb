{
 "cells": [
  {
   "cell_type": "markdown",
   "id": "5d12d624",
   "metadata": {},
   "source": [
    "## **BUSINESS UNDERSTANDING**"
   ]
  },
  {
   "cell_type": "markdown",
   "id": "09522bbd",
   "metadata": {},
   "source": [
    "### **BACKGROUND**"
   ]
  },
  {
   "cell_type": "markdown",
   "id": "ba4df07e",
   "metadata": {},
   "source": [
    "\n",
    "\n",
    "The Nairobi City Water and Sewerage Company (NCWSC) is responsible for supplying clean and safe water to Nairobi residents. Despite heavy investment in water infrastructure, the company struggles with non-revenue water (NRW) — water that is produced but not billed due to physical losses (leakages, illegal connections) and commercial losses (meter inaccuracies, billing errors).\n",
    "According to the Water Services Regulatory Board (WASREB), NCWSC loses nearly 50% of the water it produces. This situation leads to:\n",
    "- Reduced revenue and financial instability.\n",
    "- Inefficient use of already scarce water resources.\n",
    "- Constraints on sustaining infrastructure improvements.\n",
    "\n",
    "\n",
    "To address this, NCWSC is investing in smart metering technology. Smart meters offer accurate, real-time consumption data, helping detect leakages, curb illegal connections, and improve billing accuracy. A KES 300 million budget has been allocated for 2,000 smart meters in priority zones, with the expectation of significantly reducing losses and improving efficiency.\n"
   ]
  },
  {
   "cell_type": "markdown",
   "id": "9fc26e10",
   "metadata": {},
   "source": [
    "### **PROBLEM STATEMENT**"
   ]
  },
  {
   "cell_type": "markdown",
   "id": "459c850d",
   "metadata": {},
   "source": [
    "\n",
    "Nairobi, home to over 5 million people, is a city under mounting water stress. Despite heavy public and donor investment in infrastructure, nearly 50% of the water produced by Nairobi City Water and Sewerage Company (NCWSC) is lost as non-revenue water (NRW). This loss rate is twice the global benchmark of 20 - 25% and among the highest in Africa\n",
    "\n"
   ]
  },
  {
   "cell_type": "markdown",
   "id": "2a8fd578",
   "metadata": {},
   "source": [
    "#### **Problem**\n",
    "\n",
    "The core challenge is not only the physical and commercial loss of water, but NCWSC’s lack of a systematic, evidence-based approach to target interventions. Current practices rely on aging infrastructure, mechanical meters prone to under-recording, weak enforcement against illegal connections and limited data use for decision-making. As a result, billions of shillings in revenue are lost annually, undermining the financial stability of the utility."
   ]
  },
  {
   "cell_type": "markdown",
   "id": "8c68e6c0",
   "metadata": {},
   "source": [
    "#### **Implications**\n",
    "- Financial - Annual losses weaken NCWSC’s ability to maintain operations, repay debts, and attract capital investment.\n",
    "- Social -  In a water-scarce city, every cubic meter lost could have supplied households, industries, and hospitals; instead, customers face erratic supply and mistrust due to faulty billing.\n",
    "- Strategic - Persistent inefficiency erodes NCWSC’s credibility with regulators, donors, and city planners, threatening Nairobi’s long-term resilience and ability to meet SDG 6 (Clean Water and Sanitation)."
   ]
  },
  {
   "cell_type": "markdown",
   "id": "df062bed",
   "metadata": {},
   "source": [
    "#### **Opportunity**\n",
    "Smart metering technology, with KES 300 million already allocated for 2,000 devices, could help detect leaks, curb theft, and improve billing accuracy. However, at KES 477,000 per unit (excluding installation), universal rollout is financially unrealistic. Without a data-driven prioritization framework, the risk is high that investments will be scattered rather than transformational."
   ]
  },
  {
   "cell_type": "markdown",
   "id": "e425c394",
   "metadata": {},
   "source": [
    "#### **Guiding Question**\n",
    "How can NCWSC strategically identify the zones and customer segments with the greatest water losses, and prioritize smart meter investments in a way that maximizes return on investment while sustainably reducing non-revenue water?\n",
    "\n"
   ]
  },
  {
   "cell_type": "markdown",
   "id": "cdce2dbd",
   "metadata": {},
   "source": [
    "### **PROJECT OBJECTIVES**"
   ]
  },
  {
   "cell_type": "markdown",
   "id": "e51889a7",
   "metadata": {},
   "source": [
    "#### **General Objective**\n",
    "The main goal of this project is to study the gap between the water produced and the water billed by the Nairobi City Water and Sewerage Company (NCWSC). By focusing on areas with the highest losses and exploring the potential of smart meters, the project aims to propose practical ways to reduce non-revenue water (NRW), enhance efficiency, and make the company more financially sustainable.\n",
    "\n",
    "#### **Specific Objectives**\n",
    "1. \tQuantify Water Losses\n",
    "- Measure the difference between water produced and billed across regions.\n",
    "Before anything can be fixed, the problem must be clearly measured. This objective focuses on showing exactly how much water is being lost, where it is being lost, and the scale of the challenge in both volume and percentage terms.\n",
    "2. \tPrioritize High Impact Areas\n",
    "- Identify and rank zones with the greatest losses.\n",
    "With limited resources, NCWSC cannot fix everything at once. This objective is about spotlighting the regions where interventions will matter most, ensuring that investments in smart meters deliver maximum benefit.\n",
    "3. \tEvaluate ROI for Smart Meters\n",
    "- Assess the financial returns from smart meter installations.\n",
    "Smart meters are expensive, so it is important to ask: are they worth it? This objective evaluates whether the money spent on installing 2,000 meters will be recovered through improved billing accuracy and reduced losses.\n",
    "4. \tImprove Data Quality\n",
    "- Clean and standardize datasets before analysis.\n",
    "Reliable insights depend on reliable data. This objective ensures that the project works with clean, standardized, and consistent information so that the conclusions drawn are accurate and trustworthy.\n",
    "5. \tDevelop Monitoring Tools\n",
    "- Suggest dashboards and indicators to track progress.\n",
    "Reducing NRW is not a one-off exercise; it needs continuous follow-up. This objective focuses on creating simple tools like dashboards and key performance indicators that NCWSC can use to monitor whether changes are working.\n",
    "6. \tSupport Long-Term Strategy\n",
    "- Recommend reforms that go beyond the pilot project.\n",
    "Fixing water losses is not just about smart meters. This objective pushes the project to look at the bigger picture: improving governance, maintaining infrastructure, and building a culture of accountability for lasting results.\n",
    "7. \tCritical Thinking Objective\n",
    "- Test whether smart meters alone can solve NRW.\n",
    "A key part of this project is not taking things at face value. This objective challenges the idea that smart meters are the only solution by comparing them with alternatives like repairing old pipes, clamping down on illegal connections, and working more closely with communities.\n"
   ]
  },
  {
   "cell_type": "markdown",
   "id": "604ca7a6",
   "metadata": {},
   "source": [
    "### **STAKEHOLDERS**"
   ]
  },
  {
   "cell_type": "markdown",
   "id": "ef9bba50",
   "metadata": {},
   "source": [
    "Some of the major stakeholders include;\n",
    "\n",
    "- NCWSC Management & Operations Teams – oversee production, distribution, and billing; directly responsible for reducing non-revenue water.\n",
    "\n",
    "\n",
    "- Policy Makers & Regulators (e.g., WASREB, Ministry of Water & Sanitation) – set compliance standards, monitor performance, and allocate resources.\n",
    "\n",
    "\n",
    "- Nairobi City Planners & County Government – align water management with urban development plans.\n",
    "\n",
    "\n",
    "- Customers – end-users who rely on the water supply and are directly affected by service reliability, pricing, and billing accuracy.\n",
    "\n",
    "\n",
    "- Technical Partners/Vendors – providers of smart metering technology and IoT solutions.\n",
    "\n",
    "\n",
    "- Donors/Investors (if applicable) – external organizations funding or supporting water infrastructure projects.\n"
   ]
  },
  {
   "cell_type": "markdown",
   "id": "e4a38d2d",
   "metadata": {},
   "source": [
    "### **SUCCESS CRITERIA**"
   ]
  },
  {
   "cell_type": "markdown",
   "id": "e6e2d5a3",
   "metadata": {},
   "source": [
    "\n",
    "The success of this project will be evaluated based on both technical performance and business impact:\n",
    "#### **Technical Success**\n",
    "\n",
    "\n",
    "- Accurate calculation of water loss percentages across all Nairobi zones.\n",
    "\n",
    "\n",
    "Successful development of predictive models with performance metrics such as:\n",
    "\n",
    "\n",
    "- R² ≥ 0.70 (indicating strong explanatory power).\n",
    "\n",
    "\n",
    "- RMSE and MAE within acceptable error margins for billing/production volumes.\n",
    "\n",
    "\n",
    "- Clear and interpretable visualizations (charts,dashboards, maps) that highlight high-loss areas.\n",
    "\n",
    "\n",
    "#### **Business Success**\n",
    "\n",
    "\n",
    "- Identification of the top high-loss zones to prioritize smart meter deployment.\n",
    "\n",
    "\n",
    "- Actionable insights that enable NCWSC to reduce water loss and improve billing accuracy.\n",
    "\n",
    "\n",
    "- Evidence-based recommendations for the allocation of 2,000 smart meters (KES 300M budget) to maximize impact.\n",
    "\n",
    "\n",
    "#### **Operational Success**\n",
    "\n",
    "\n",
    "- A reproducible and well-documented workflow for data cleaning, analysis, and modeling.\n",
    "\n",
    "\n",
    "- Deployment of an interactive dashboard/report that NCWSC managers can use for ongoing monitoring.\n",
    "\n",
    "\n",
    "- Enhanced capacity for NCWSC to integrate smart metering data into future decision-making processes.\n",
    "\n",
    "\n",
    "\n",
    "\n",
    "\n",
    "\n",
    "\n",
    "\n",
    "\n",
    "\n",
    "\n"
   ]
  },
  {
   "cell_type": "markdown",
   "id": "a3c552aa",
   "metadata": {},
   "source": [
    "### **SCOPE AND LIMITATIONS**"
   ]
  },
  {
   "cell_type": "markdown",
   "id": "4d36538c",
   "metadata": {},
   "source": [
    "\n",
    "#### **Scope**\n",
    " This project focuses on analyzing discrepancies between water production and billing volumes across Nairobi City Water and Sewerage Company (NCWSC) service zones. The scope includes:\n",
    "- Collecting and integrating operational, billing, and regulatory datasets.\n",
    "\n",
    "\n",
    "- Cleaning and preprocessing the data to ensure consistency and reliability.\n",
    "\n",
    "\n",
    "- Calculating and visualizing water loss percentages at zonal and temporal levels.\n",
    "\n",
    "\n",
    "- Developing baseline and advanced predictive models to identify high-loss zones.\n",
    "\n",
    "\n",
    "- Recommending optimal deployment strategies for 2,000 smart meters within the allocated KES 300M budget.\n",
    "\n",
    "\n",
    "- Producing visual reports and dashboards to support NCWSC managers in decision-making.\n",
    "\n",
    "\n",
    "#### **Limitations**\n",
    " While the project aims to provide actionable insights, several limitations are acknowledged:\n",
    "- Data quality challenges such as missing values, inconsistent meter readings, and incomplete historical records may impact accuracy.\n",
    "\n",
    "\n",
    "- The analysis relies on existing NCWSC operational and billing data, which may not capture unrecorded illegal connections or unmetered consumption.\n",
    "\n",
    "\n",
    "- Physical infrastructure issues such as pipe bursts, leakages, and maintenance practices are outside the scope of this project and will not be directly addressed.\n",
    "\n",
    "\n",
    "- Recommendations will be limited to the analytical and predictive modeling phase; the actual procurement, installation, and maintenance of smart meters are beyond the scope.\n",
    "\n",
    "- Timeframe constraints (four weeks) limit the ability to conduct long-term monitoring and evaluation of smart meter impact.\n",
    "\n",
    "\n",
    "\n"
   ]
  },
  {
   "cell_type": "markdown",
   "id": "078c0c5a",
   "metadata": {},
   "source": [
    "### **EXPECTED IMPACT**"
   ]
  },
  {
   "cell_type": "markdown",
   "id": "963ded75",
   "metadata": {},
   "source": [
    "\n",
    "The outcomes of this project are expected to generate both short-term and long-term benefits for NCWSC and Nairobi residents:\n",
    "#### **Financial Impact**\n",
    "- Reduction in non-revenue water (NRW) through more accurate measurement and billing.\n",
    "\n",
    "\n",
    "- Improved revenue collection efficiency by minimizing discrepancies between water produced and billed.\n",
    "\n",
    "\n",
    "- Optimized allocation of the KES 300 million smart metering budget, ensuring the highest return on investment.\n",
    "\n",
    "\n",
    "#### **Operational Impact**\n",
    "- Data-driven identification of high-loss zones will allow NCWSC to prioritize interventions and focus maintenance efforts where they are most needed.\n",
    "\n",
    "\n",
    "- Predictive modeling will enhance the utility’s ability to forecast future water losses, improving planning and resource allocation.\n",
    "\n",
    "\n",
    "- Deployment of an interactive dashboard will enable continuous monitoring and faster response to anomalies.\n",
    "\n",
    "\n",
    "#### **Social and Environmental Impact**\n",
    "- More reliable water supply for Nairobi residents, particularly in underserved zones.\n",
    "\n",
    "\n",
    "- Enhanced customer trust through transparent billing and reduced service disruptions.\n",
    "\n",
    "\n",
    "- Contribution to sustainable urban water management by minimizing waste and conserving resources.\n",
    "\n",
    "\n",
    "- Overall, the project will strengthen NCWSC’s operational efficiency, support policy formulation in the water sector, and enhance water security for Nairobi’s population.\n",
    "\n",
    "\n",
    "\n",
    "\n",
    "\n",
    "\n",
    "\n",
    "\n"
   ]
  },
  {
   "cell_type": "markdown",
   "id": "b874ad86",
   "metadata": {},
   "source": [
    "## **DATA UNDERSTANDING**"
   ]
  },
  {
   "cell_type": "markdown",
   "id": "f8ae4fd6",
   "metadata": {},
   "source": [
    "\n",
    "This project will leverage multiple data sources to capture a comprehensive picture of water production, billing, and distribution patterns across Nairobi:\n",
    "\n",
    "- NCWSC Operational Data – records of total water production volumes at treatment plants and distribution points.\n",
    "\n",
    "\n",
    "- Billing Data – customer-level and zonal billing records reflecting consumption and revenue collection.\n",
    "\n",
    "\n",
    "- WASREB Reports – regulatory benchmarks and performance indicators that provide context for evaluating NCWSC’s efficiency relative to national standards.\n",
    "\n",
    "\n",
    "The dataset is expected to include both numerical variables (e.g., production volumes, billed volumes), categorical variables (e.g., zones, customer types), and temporal variables (e.g., billing cycles, monthly/annual summaries).\n",
    "Key features will include:\n",
    "- Meter readings (production and consumption)\n",
    "\n",
    "\n",
    "- Billed volumes and revenue records\n",
    "\n",
    "\n",
    "- Production records from plants and reservoirs\n",
    "\n",
    "\n",
    "- Geographical identifiers (zones/areas)\n",
    "\n",
    "\n",
    "- Dates/time stamps (billing cycle, production cycle)"
   ]
  },
  {
   "cell_type": "markdown",
   "id": "76f3c311",
   "metadata": {},
   "source": [
    "### **Key Features**\n",
    "The dataset contains several fields. The most relevant ones are:\n",
    "●\tRegion: The largest supply areas, used for high-level performance tracking.\n",
    "\n",
    "●\tZone: A subdivision of each region, providing intermediate granularity.\n",
    "\n",
    "●\tSub-zone: Smaller divisions, often neighborhood-specific.\n",
    "\n",
    "●\tBill Volume (m³): The volume of water billed to consumers in cubic meters. This is the primary measure of consumption and revenue.\n",
    "\n",
    "●\tCustomer Category : Classification of consumer type (domestic, commercial, institutional, etc.), which may explain variations in billing volumes.\n",
    "\n",
    "●\tTime Period : Month or year of billing, useful for trend analysis.\n",
    "\n",
    "\n"
   ]
  },
  {
   "cell_type": "code",
   "execution_count": null,
   "id": "19c4bef9",
   "metadata": {},
   "outputs": [],
   "source": []
  }
 ],
 "metadata": {
  "kernelspec": {
   "display_name": "base",
   "language": "python",
   "name": "python3"
  },
  "language_info": {
   "name": "python",
   "version": "3.11.7"
  }
 },
 "nbformat": 4,
 "nbformat_minor": 5
}
