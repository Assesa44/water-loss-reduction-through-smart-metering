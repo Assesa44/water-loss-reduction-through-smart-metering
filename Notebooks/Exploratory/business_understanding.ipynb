{
 "cells": [
  {
   "cell_type": "markdown",
   "id": "93dd653d",
   "metadata": {},
   "source": [
    "## **BUSINESS UNDERSTANDING**\n"
   ]
  },
  {
   "cell_type": "markdown",
   "id": "58fd0eaf",
   "metadata": {},
   "source": [
    "### **BACKGROUND**"
   ]
  },
  {
   "cell_type": "markdown",
   "id": "73533527",
   "metadata": {},
   "source": [
    "\n",
    "\n",
    "The Nairobi City Water and Sewerage Company (NCWSC) is responsible for supplying clean and safe water to Nairobi residents. Despite heavy investment in water infrastructure, the company struggles with non-revenue water (NRW) — water that is produced but not billed due to physical losses (leakages, illegal connections) and commercial losses (meter inaccuracies, billing errors).\n",
    "According to the Water Services Regulatory Board (WASREB), NCWSC loses nearly 50% of the water it produces. This situation leads to:\n",
    "- Reduced revenue and financial instability.\n",
    "- Inefficient use of already scarce water resources.\n",
    "- Constraints on sustaining infrastructure improvements.\n",
    "\n",
    "\n",
    "To address this, NCWSC is investing in smart metering technology. Smart meters offer accurate, real-time consumption data, helping detect leakages, curb illegal connections, and improve billing accuracy. A KES 300 million budget has been allocated for 2,000 smart meters in priority zones, with the expectation of significantly reducing losses and improving efficiency.\n"
   ]
  },
  {
   "cell_type": "markdown",
   "id": "d8f3a0c7",
   "metadata": {},
   "source": [
    "### **PROBLEM STATEMENT**"
   ]
  },
  {
   "cell_type": "markdown",
   "id": "e3532eb6",
   "metadata": {},
   "source": [
    "\n",
    "Nairobi, home to over 5 million people, is a city under mounting water stress. Despite heavy public and donor investment in infrastructure, nearly 50% of the water produced by Nairobi City Water and Sewerage Company (NCWSC) is lost as non-revenue water (NRW). This loss rate is twice the global benchmark of 20 - 25% and among the highest in Africa\n",
    "\n"
   ]
  },
  {
   "cell_type": "markdown",
   "id": "daa2f0f9",
   "metadata": {},
   "source": [
    "#### **Problem**\n",
    "\n",
    "The core challenge is not only the physical and commercial loss of water, but NCWSC’s lack of a systematic, evidence-based approach to target interventions. Current practices rely on aging infrastructure, mechanical meters prone to under-recording, weak enforcement against illegal connections and limited data use for decision-making. As a result, billions of shillings in revenue are lost annually, undermining the financial stability of the utility."
   ]
  },
  {
   "cell_type": "markdown",
   "id": "38598a62",
   "metadata": {},
   "source": [
    "#### **Implications**\n",
    "- Financial - Annual losses weaken NCWSC’s ability to maintain operations, repay debts, and attract capital investment.\n",
    "- Social -  In a water-scarce city, every cubic meter lost could have supplied households, industries, and hospitals; instead, customers face erratic supply and mistrust due to faulty billing.\n",
    "- Strategic - Persistent inefficiency erodes NCWSC’s credibility with regulators, donors, and city planners, threatening Nairobi’s long-term resilience and ability to meet SDG 6 (Clean Water and Sanitation)."
   ]
  },
  {
   "cell_type": "markdown",
   "id": "01075cd6",
   "metadata": {},
   "source": [
    "#### **Opportunity**\n",
    "Smart metering technology, with KES 300 million already allocated for 2,000 devices, could help detect leaks, curb theft, and improve billing accuracy. However, at KES 477,000 per unit (excluding installation), universal rollout is financially unrealistic. Without a data-driven prioritization framework, the risk is high that investments will be scattered rather than transformational."
   ]
  },
  {
   "cell_type": "markdown",
   "id": "ae9ac0e8",
   "metadata": {},
   "source": [
    "#### **Guiding Question**\n",
    "How can NCWSC strategically identify the zones and customer segments with the greatest water losses, and prioritize smart meter investments in a way that maximizes return on investment while sustainably reducing non-revenue water?\n",
    "\n"
   ]
  },
  {
   "cell_type": "markdown",
   "id": "dfdf26c6",
   "metadata": {},
   "source": [
    "### **PROJECT OBJECTIVES**"
   ]
  },
  {
   "cell_type": "markdown",
   "id": "00be9065",
   "metadata": {},
   "source": [
    "#### **General Objective**\n",
    "The main goal of this project is to study the gap between the water produced and the water billed by the Nairobi City Water and Sewerage Company (NCWSC). By focusing on areas with the highest losses and exploring the potential of smart meters, the project aims to propose practical ways to reduce non-revenue water (NRW), enhance efficiency, and make the company more financially sustainable.\n",
    "\n",
    "#### **Specific Objectives**\n",
    "1. \tQuantify Water Losses\n",
    "- Measure the difference between water produced and billed across regions.\n",
    "Before anything can be fixed, the problem must be clearly measured. This objective focuses on showing exactly how much water is being lost, where it is being lost, and the scale of the challenge in both volume and percentage terms.\n",
    "2. \tPrioritize High Impact Areas\n",
    "- Identify and rank zones with the greatest losses.\n",
    "With limited resources, NCWSC cannot fix everything at once. This objective is about spotlighting the regions where interventions will matter most, ensuring that investments in smart meters deliver maximum benefit.\n",
    "3. \tEvaluate ROI for Smart Meters\n",
    "- Assess the financial returns from smart meter installations.\n",
    "Smart meters are expensive, so it is important to ask: are they worth it? This objective evaluates whether the money spent on installing 2,000 meters will be recovered through improved billing accuracy and reduced losses.\n",
    "4. \tImprove Data Quality\n",
    "- Clean and standardize datasets before analysis.\n",
    "Reliable insights depend on reliable data. This objective ensures that the project works with clean, standardized, and consistent information so that the conclusions drawn are accurate and trustworthy.\n",
    "5. \tDevelop Monitoring Tools\n",
    "- Suggest dashboards and indicators to track progress.\n",
    "Reducing NRW is not a one-off exercise; it needs continuous follow-up. This objective focuses on creating simple tools like dashboards and key performance indicators that NCWSC can use to monitor whether changes are working.\n",
    "6. \tSupport Long-Term Strategy\n",
    "- Recommend reforms that go beyond the pilot project.\n",
    "Fixing water losses is not just about smart meters. This objective pushes the project to look at the bigger picture: improving governance, maintaining infrastructure, and building a culture of accountability for lasting results.\n",
    "7. \tCritical Thinking Objective\n",
    "- Test whether smart meters alone can solve NRW.\n",
    "A key part of this project is not taking things at face value. This objective challenges the idea that smart meters are the only solution by comparing them with alternatives like repairing old pipes, clamping down on illegal connections, and working more closely with communities.\n"
   ]
  },
  {
   "cell_type": "markdown",
   "id": "40c9c474",
   "metadata": {},
   "source": [
    "### **STAKEHOLDERS**"
   ]
  },
  {
   "cell_type": "markdown",
   "id": "c2f1beec",
   "metadata": {},
   "source": [
    "Some of the major stakeholders include;\n",
    "\n",
    "- NCWSC Management & Operations Teams – oversee production, distribution, and billing; directly responsible for reducing non-revenue water.\n",
    "\n",
    "\n",
    "- Policy Makers & Regulators (e.g., WASREB, Ministry of Water & Sanitation) – set compliance standards, monitor performance, and allocate resources.\n",
    "\n",
    "\n",
    "- Nairobi City Planners & County Government – align water management with urban development plans.\n",
    "\n",
    "\n",
    "- Customers – end-users who rely on the water supply and are directly affected by service reliability, pricing, and billing accuracy.\n",
    "\n",
    "\n",
    "- Technical Partners/Vendors – providers of smart metering technology and IoT solutions.\n",
    "\n",
    "\n",
    "- Donors/Investors (if applicable) – external organizations funding or supporting water infrastructure projects.\n"
   ]
  }
 ],
 "metadata": {
  "kernelspec": {
   "display_name": "base",
   "language": "python",
   "name": "python3"
  },
  "language_info": {
   "name": "python",
   "version": "3.12.7"
  }
 },
 "nbformat": 4,
 "nbformat_minor": 5
}
