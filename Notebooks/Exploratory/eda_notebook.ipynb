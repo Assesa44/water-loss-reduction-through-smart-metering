{
 "cells": [
  {
   "cell_type": "code",
   "execution_count": 27,
   "id": "86d50d84",
   "metadata": {},
   "outputs": [],
   "source": [
    "import pandas as pd\n",
    "import warnings\n",
    "from tqdm import tqdm\n",
    "import matplotlib.pyplot as plt\n",
    "import seaborn as sns\n",
    "warnings.filterwarnings(\"ignore\")"
   ]
  },
  {
   "cell_type": "markdown",
   "id": "ae1f6c06",
   "metadata": {},
   "source": [
    "Initializing the data paths for referencing"
   ]
  },
  {
   "cell_type": "code",
   "execution_count": 28,
   "id": "3ec422a9",
   "metadata": {},
   "outputs": [],
   "source": [
    "data_path = \"./Moringa_NCWSC_Dataset.xlsx\"\n",
    "parq_path = './nwcs_dataset.parquet'"
   ]
  },
  {
   "cell_type": "code",
   "execution_count": 29,
   "id": "f986438d",
   "metadata": {},
   "outputs": [
    {
     "name": "stdout",
     "output_type": "stream",
     "text": [
      "AUGUST_2024\n",
      "SEP_2024\n",
      "OCT_2024\n",
      "NOV_2024\n",
      "DEC_2024\n",
      "JAN_2025\n",
      "FEB_2025\n",
      "MAR_2025\n",
      "APR_2025\n",
      "MAY_2025\n"
     ]
    }
   ],
   "source": [
    "# Trying to view the number and naming of sheets we will be working with\n",
    "xls = pd.ExcelFile(data_path)\n",
    "for sheet in xls.sheet_names:\n",
    "    print(sheet)"
   ]
  },
  {
   "cell_type": "markdown",
   "id": "1db7b8e2",
   "metadata": {},
   "source": [
    "Since the data is too big and is taking too long to run because of the size,\n",
    "we will convert it to parquet for ease in loading and for preliminary exploratory analysis"
   ]
  },
  {
   "cell_type": "code",
   "execution_count": 30,
   "id": "8ed8ccdb",
   "metadata": {},
   "outputs": [],
   "source": [
    "def excel_to_parquet_concat(excel_path, parquet_path):\n",
    "    # Creating a map for the columns\n",
    "    column_mapping = {\n",
    "        \"CVSTALLATION_KEY\": \"INSTALLATION_KEY\",\n",
    "        \"REGION_AD\": \"REGION\",\n",
    "        \"ZONE_AD\": \"ZONE\",\n",
    "        \"SUB_ZONE_AD\": \"SUB_ZONE\"\n",
    "    }\n",
    "\n",
    "    # Load workbook to get sheet names\n",
    "    xls = pd.ExcelFile(excel_path)\n",
    "    sheet_names = xls.sheet_names\n",
    "\n",
    "    big_df = None\n",
    "\n",
    "    # tqdm for showing a progress bar\n",
    "    for sheet in tqdm(sheet_names, desc=\"Processing sheets\", unit=\"sheet\"):\n",
    "        # Read sheet\n",
    "        df = pd.read_excel(excel_path, sheet_name=sheet)\n",
    "\n",
    "        # Rename columns\n",
    "        df.rename(columns=lambda c: column_mapping.get(c.strip(), c.strip()), inplace=True)\n",
    "\n",
    "        # 🟢 Extract Month and Year from sheet name\n",
    "        # Example: \"AUGUST_2024\" → month = \"AUGUST\", year = 2024\n",
    "        try:\n",
    "            month, year = sheet.split(\"_\")\n",
    "        except ValueError:\n",
    "            month, year = sheet, None  # fallback in case sheet name doesn’t fit\n",
    "\n",
    "        df[\"MONTH\"] = month.capitalize()   # Ensure nice formatting\n",
    "        df[\"YEAR\"] = year\n",
    "\n",
    "        # Align columns with existing big_df\n",
    "        if big_df is None:\n",
    "            big_df = df\n",
    "        else:\n",
    "            big_df = pd.concat([big_df, df], axis=0, ignore_index=True, join=\"outer\")\n",
    "\n",
    "    # Convert dtypes\n",
    "    big_df = big_df.convert_dtypes()\n",
    "\n",
    "    # 🔑 Fix mixed object columns → force string\n",
    "    for col in big_df.columns:\n",
    "        if str(big_df[col].dtype) == \"object\":\n",
    "            big_df[col] = big_df[col].astype(str)\n",
    "\n",
    "    # Save as parquet\n",
    "    big_df.to_parquet(parquet_path, engine=\"pyarrow\", index=False)\n",
    "\n",
    "    print(f\"✅ Done! All sheets merged and saved to {parquet_path}\")\n",
    "    return big_df\n"
   ]
  },
  {
   "cell_type": "code",
   "execution_count": 31,
   "id": "2db0d24d",
   "metadata": {},
   "outputs": [
    {
     "name": "stderr",
     "output_type": "stream",
     "text": [
      "Processing sheets:   0%|          | 0/10 [01:00<?, ?sheet/s]\n"
     ]
    },
    {
     "ename": "KeyboardInterrupt",
     "evalue": "",
     "output_type": "error",
     "traceback": [
      "\u001b[31m---------------------------------------------------------------------------\u001b[39m",
      "\u001b[31mKeyboardInterrupt\u001b[39m                         Traceback (most recent call last)",
      "\u001b[36mCell\u001b[39m\u001b[36m \u001b[39m\u001b[32mIn[31]\u001b[39m\u001b[32m, line 2\u001b[39m\n\u001b[32m      1\u001b[39m \u001b[38;5;66;03m# Running the function above to convert the data to parquet\u001b[39;00m\n\u001b[32m----> \u001b[39m\u001b[32m2\u001b[39m \u001b[43mexcel_to_parquet_concat\u001b[49m\u001b[43m(\u001b[49m\u001b[43mdata_path\u001b[49m\u001b[43m,\u001b[49m\u001b[43m \u001b[49m\u001b[43mparq_path\u001b[49m\u001b[43m)\u001b[49m\n",
      "\u001b[36mCell\u001b[39m\u001b[36m \u001b[39m\u001b[32mIn[30]\u001b[39m\u001b[32m, line 19\u001b[39m, in \u001b[36mexcel_to_parquet_concat\u001b[39m\u001b[34m(excel_path, parquet_path)\u001b[39m\n\u001b[32m     16\u001b[39m \u001b[38;5;66;03m# tqdm for showing a progress bar\u001b[39;00m\n\u001b[32m     17\u001b[39m \u001b[38;5;28;01mfor\u001b[39;00m sheet \u001b[38;5;129;01min\u001b[39;00m tqdm(sheet_names, desc=\u001b[33m\"\u001b[39m\u001b[33mProcessing sheets\u001b[39m\u001b[33m\"\u001b[39m, unit=\u001b[33m\"\u001b[39m\u001b[33msheet\u001b[39m\u001b[33m\"\u001b[39m):\n\u001b[32m     18\u001b[39m     \u001b[38;5;66;03m# Read sheet\u001b[39;00m\n\u001b[32m---> \u001b[39m\u001b[32m19\u001b[39m     df = \u001b[43mpd\u001b[49m\u001b[43m.\u001b[49m\u001b[43mread_excel\u001b[49m\u001b[43m(\u001b[49m\u001b[43mexcel_path\u001b[49m\u001b[43m,\u001b[49m\u001b[43m \u001b[49m\u001b[43msheet_name\u001b[49m\u001b[43m=\u001b[49m\u001b[43msheet\u001b[49m\u001b[43m)\u001b[49m\n\u001b[32m     21\u001b[39m     \u001b[38;5;66;03m# Rename columns\u001b[39;00m\n\u001b[32m     22\u001b[39m     df.rename(columns=\u001b[38;5;28;01mlambda\u001b[39;00m c: column_mapping.get(c.strip(), c.strip()), inplace=\u001b[38;5;28;01mTrue\u001b[39;00m)\n",
      "\u001b[36mFile \u001b[39m\u001b[32mc:\\Users\\Johny\\Documents\\moringa\\phase4\\project\\nairobi_water_loss\\nairobi_water_vev\\Lib\\site-packages\\pandas\\io\\excel\\_base.py:508\u001b[39m, in \u001b[36mread_excel\u001b[39m\u001b[34m(io, sheet_name, header, names, index_col, usecols, dtype, engine, converters, true_values, false_values, skiprows, nrows, na_values, keep_default_na, na_filter, verbose, parse_dates, date_parser, date_format, thousands, decimal, comment, skipfooter, storage_options, dtype_backend, engine_kwargs)\u001b[39m\n\u001b[32m    502\u001b[39m     \u001b[38;5;28;01mraise\u001b[39;00m \u001b[38;5;167;01mValueError\u001b[39;00m(\n\u001b[32m    503\u001b[39m         \u001b[33m\"\u001b[39m\u001b[33mEngine should not be specified when passing \u001b[39m\u001b[33m\"\u001b[39m\n\u001b[32m    504\u001b[39m         \u001b[33m\"\u001b[39m\u001b[33man ExcelFile - ExcelFile already has the engine set\u001b[39m\u001b[33m\"\u001b[39m\n\u001b[32m    505\u001b[39m     )\n\u001b[32m    507\u001b[39m \u001b[38;5;28;01mtry\u001b[39;00m:\n\u001b[32m--> \u001b[39m\u001b[32m508\u001b[39m     data = \u001b[43mio\u001b[49m\u001b[43m.\u001b[49m\u001b[43mparse\u001b[49m\u001b[43m(\u001b[49m\n\u001b[32m    509\u001b[39m \u001b[43m        \u001b[49m\u001b[43msheet_name\u001b[49m\u001b[43m=\u001b[49m\u001b[43msheet_name\u001b[49m\u001b[43m,\u001b[49m\n\u001b[32m    510\u001b[39m \u001b[43m        \u001b[49m\u001b[43mheader\u001b[49m\u001b[43m=\u001b[49m\u001b[43mheader\u001b[49m\u001b[43m,\u001b[49m\n\u001b[32m    511\u001b[39m \u001b[43m        \u001b[49m\u001b[43mnames\u001b[49m\u001b[43m=\u001b[49m\u001b[43mnames\u001b[49m\u001b[43m,\u001b[49m\n\u001b[32m    512\u001b[39m \u001b[43m        \u001b[49m\u001b[43mindex_col\u001b[49m\u001b[43m=\u001b[49m\u001b[43mindex_col\u001b[49m\u001b[43m,\u001b[49m\n\u001b[32m    513\u001b[39m \u001b[43m        \u001b[49m\u001b[43musecols\u001b[49m\u001b[43m=\u001b[49m\u001b[43musecols\u001b[49m\u001b[43m,\u001b[49m\n\u001b[32m    514\u001b[39m \u001b[43m        \u001b[49m\u001b[43mdtype\u001b[49m\u001b[43m=\u001b[49m\u001b[43mdtype\u001b[49m\u001b[43m,\u001b[49m\n\u001b[32m    515\u001b[39m \u001b[43m        \u001b[49m\u001b[43mconverters\u001b[49m\u001b[43m=\u001b[49m\u001b[43mconverters\u001b[49m\u001b[43m,\u001b[49m\n\u001b[32m    516\u001b[39m \u001b[43m        \u001b[49m\u001b[43mtrue_values\u001b[49m\u001b[43m=\u001b[49m\u001b[43mtrue_values\u001b[49m\u001b[43m,\u001b[49m\n\u001b[32m    517\u001b[39m \u001b[43m        \u001b[49m\u001b[43mfalse_values\u001b[49m\u001b[43m=\u001b[49m\u001b[43mfalse_values\u001b[49m\u001b[43m,\u001b[49m\n\u001b[32m    518\u001b[39m \u001b[43m        \u001b[49m\u001b[43mskiprows\u001b[49m\u001b[43m=\u001b[49m\u001b[43mskiprows\u001b[49m\u001b[43m,\u001b[49m\n\u001b[32m    519\u001b[39m \u001b[43m        \u001b[49m\u001b[43mnrows\u001b[49m\u001b[43m=\u001b[49m\u001b[43mnrows\u001b[49m\u001b[43m,\u001b[49m\n\u001b[32m    520\u001b[39m \u001b[43m        \u001b[49m\u001b[43mna_values\u001b[49m\u001b[43m=\u001b[49m\u001b[43mna_values\u001b[49m\u001b[43m,\u001b[49m\n\u001b[32m    521\u001b[39m \u001b[43m        \u001b[49m\u001b[43mkeep_default_na\u001b[49m\u001b[43m=\u001b[49m\u001b[43mkeep_default_na\u001b[49m\u001b[43m,\u001b[49m\n\u001b[32m    522\u001b[39m \u001b[43m        \u001b[49m\u001b[43mna_filter\u001b[49m\u001b[43m=\u001b[49m\u001b[43mna_filter\u001b[49m\u001b[43m,\u001b[49m\n\u001b[32m    523\u001b[39m \u001b[43m        \u001b[49m\u001b[43mverbose\u001b[49m\u001b[43m=\u001b[49m\u001b[43mverbose\u001b[49m\u001b[43m,\u001b[49m\n\u001b[32m    524\u001b[39m \u001b[43m        \u001b[49m\u001b[43mparse_dates\u001b[49m\u001b[43m=\u001b[49m\u001b[43mparse_dates\u001b[49m\u001b[43m,\u001b[49m\n\u001b[32m    525\u001b[39m \u001b[43m        \u001b[49m\u001b[43mdate_parser\u001b[49m\u001b[43m=\u001b[49m\u001b[43mdate_parser\u001b[49m\u001b[43m,\u001b[49m\n\u001b[32m    526\u001b[39m \u001b[43m        \u001b[49m\u001b[43mdate_format\u001b[49m\u001b[43m=\u001b[49m\u001b[43mdate_format\u001b[49m\u001b[43m,\u001b[49m\n\u001b[32m    527\u001b[39m \u001b[43m        \u001b[49m\u001b[43mthousands\u001b[49m\u001b[43m=\u001b[49m\u001b[43mthousands\u001b[49m\u001b[43m,\u001b[49m\n\u001b[32m    528\u001b[39m \u001b[43m        \u001b[49m\u001b[43mdecimal\u001b[49m\u001b[43m=\u001b[49m\u001b[43mdecimal\u001b[49m\u001b[43m,\u001b[49m\n\u001b[32m    529\u001b[39m \u001b[43m        \u001b[49m\u001b[43mcomment\u001b[49m\u001b[43m=\u001b[49m\u001b[43mcomment\u001b[49m\u001b[43m,\u001b[49m\n\u001b[32m    530\u001b[39m \u001b[43m        \u001b[49m\u001b[43mskipfooter\u001b[49m\u001b[43m=\u001b[49m\u001b[43mskipfooter\u001b[49m\u001b[43m,\u001b[49m\n\u001b[32m    531\u001b[39m \u001b[43m        \u001b[49m\u001b[43mdtype_backend\u001b[49m\u001b[43m=\u001b[49m\u001b[43mdtype_backend\u001b[49m\u001b[43m,\u001b[49m\n\u001b[32m    532\u001b[39m \u001b[43m    \u001b[49m\u001b[43m)\u001b[49m\n\u001b[32m    533\u001b[39m \u001b[38;5;28;01mfinally\u001b[39;00m:\n\u001b[32m    534\u001b[39m     \u001b[38;5;66;03m# make sure to close opened file handles\u001b[39;00m\n\u001b[32m    535\u001b[39m     \u001b[38;5;28;01mif\u001b[39;00m should_close:\n",
      "\u001b[36mFile \u001b[39m\u001b[32mc:\\Users\\Johny\\Documents\\moringa\\phase4\\project\\nairobi_water_loss\\nairobi_water_vev\\Lib\\site-packages\\pandas\\io\\excel\\_base.py:1616\u001b[39m, in \u001b[36mExcelFile.parse\u001b[39m\u001b[34m(self, sheet_name, header, names, index_col, usecols, converters, true_values, false_values, skiprows, nrows, na_values, parse_dates, date_parser, date_format, thousands, comment, skipfooter, dtype_backend, **kwds)\u001b[39m\n\u001b[32m   1576\u001b[39m \u001b[38;5;28;01mdef\u001b[39;00m\u001b[38;5;250m \u001b[39m\u001b[34mparse\u001b[39m(\n\u001b[32m   1577\u001b[39m     \u001b[38;5;28mself\u001b[39m,\n\u001b[32m   1578\u001b[39m     sheet_name: \u001b[38;5;28mstr\u001b[39m | \u001b[38;5;28mint\u001b[39m | \u001b[38;5;28mlist\u001b[39m[\u001b[38;5;28mint\u001b[39m] | \u001b[38;5;28mlist\u001b[39m[\u001b[38;5;28mstr\u001b[39m] | \u001b[38;5;28;01mNone\u001b[39;00m = \u001b[32m0\u001b[39m,\n\u001b[32m   (...)\u001b[39m\u001b[32m   1596\u001b[39m     **kwds,\n\u001b[32m   1597\u001b[39m ) -> DataFrame | \u001b[38;5;28mdict\u001b[39m[\u001b[38;5;28mstr\u001b[39m, DataFrame] | \u001b[38;5;28mdict\u001b[39m[\u001b[38;5;28mint\u001b[39m, DataFrame]:\n\u001b[32m   1598\u001b[39m \u001b[38;5;250m    \u001b[39m\u001b[33;03m\"\"\"\u001b[39;00m\n\u001b[32m   1599\u001b[39m \u001b[33;03m    Parse specified sheet(s) into a DataFrame.\u001b[39;00m\n\u001b[32m   1600\u001b[39m \n\u001b[32m   (...)\u001b[39m\u001b[32m   1614\u001b[39m \u001b[33;03m    >>> file.parse()  # doctest: +SKIP\u001b[39;00m\n\u001b[32m   1615\u001b[39m \u001b[33;03m    \"\"\"\u001b[39;00m\n\u001b[32m-> \u001b[39m\u001b[32m1616\u001b[39m     \u001b[38;5;28;01mreturn\u001b[39;00m \u001b[38;5;28;43mself\u001b[39;49m\u001b[43m.\u001b[49m\u001b[43m_reader\u001b[49m\u001b[43m.\u001b[49m\u001b[43mparse\u001b[49m\u001b[43m(\u001b[49m\n\u001b[32m   1617\u001b[39m \u001b[43m        \u001b[49m\u001b[43msheet_name\u001b[49m\u001b[43m=\u001b[49m\u001b[43msheet_name\u001b[49m\u001b[43m,\u001b[49m\n\u001b[32m   1618\u001b[39m \u001b[43m        \u001b[49m\u001b[43mheader\u001b[49m\u001b[43m=\u001b[49m\u001b[43mheader\u001b[49m\u001b[43m,\u001b[49m\n\u001b[32m   1619\u001b[39m \u001b[43m        \u001b[49m\u001b[43mnames\u001b[49m\u001b[43m=\u001b[49m\u001b[43mnames\u001b[49m\u001b[43m,\u001b[49m\n\u001b[32m   1620\u001b[39m \u001b[43m        \u001b[49m\u001b[43mindex_col\u001b[49m\u001b[43m=\u001b[49m\u001b[43mindex_col\u001b[49m\u001b[43m,\u001b[49m\n\u001b[32m   1621\u001b[39m \u001b[43m        \u001b[49m\u001b[43musecols\u001b[49m\u001b[43m=\u001b[49m\u001b[43musecols\u001b[49m\u001b[43m,\u001b[49m\n\u001b[32m   1622\u001b[39m \u001b[43m        \u001b[49m\u001b[43mconverters\u001b[49m\u001b[43m=\u001b[49m\u001b[43mconverters\u001b[49m\u001b[43m,\u001b[49m\n\u001b[32m   1623\u001b[39m \u001b[43m        \u001b[49m\u001b[43mtrue_values\u001b[49m\u001b[43m=\u001b[49m\u001b[43mtrue_values\u001b[49m\u001b[43m,\u001b[49m\n\u001b[32m   1624\u001b[39m \u001b[43m        \u001b[49m\u001b[43mfalse_values\u001b[49m\u001b[43m=\u001b[49m\u001b[43mfalse_values\u001b[49m\u001b[43m,\u001b[49m\n\u001b[32m   1625\u001b[39m \u001b[43m        \u001b[49m\u001b[43mskiprows\u001b[49m\u001b[43m=\u001b[49m\u001b[43mskiprows\u001b[49m\u001b[43m,\u001b[49m\n\u001b[32m   1626\u001b[39m \u001b[43m        \u001b[49m\u001b[43mnrows\u001b[49m\u001b[43m=\u001b[49m\u001b[43mnrows\u001b[49m\u001b[43m,\u001b[49m\n\u001b[32m   1627\u001b[39m \u001b[43m        \u001b[49m\u001b[43mna_values\u001b[49m\u001b[43m=\u001b[49m\u001b[43mna_values\u001b[49m\u001b[43m,\u001b[49m\n\u001b[32m   1628\u001b[39m \u001b[43m        \u001b[49m\u001b[43mparse_dates\u001b[49m\u001b[43m=\u001b[49m\u001b[43mparse_dates\u001b[49m\u001b[43m,\u001b[49m\n\u001b[32m   1629\u001b[39m \u001b[43m        \u001b[49m\u001b[43mdate_parser\u001b[49m\u001b[43m=\u001b[49m\u001b[43mdate_parser\u001b[49m\u001b[43m,\u001b[49m\n\u001b[32m   1630\u001b[39m \u001b[43m        \u001b[49m\u001b[43mdate_format\u001b[49m\u001b[43m=\u001b[49m\u001b[43mdate_format\u001b[49m\u001b[43m,\u001b[49m\n\u001b[32m   1631\u001b[39m \u001b[43m        \u001b[49m\u001b[43mthousands\u001b[49m\u001b[43m=\u001b[49m\u001b[43mthousands\u001b[49m\u001b[43m,\u001b[49m\n\u001b[32m   1632\u001b[39m \u001b[43m        \u001b[49m\u001b[43mcomment\u001b[49m\u001b[43m=\u001b[49m\u001b[43mcomment\u001b[49m\u001b[43m,\u001b[49m\n\u001b[32m   1633\u001b[39m \u001b[43m        \u001b[49m\u001b[43mskipfooter\u001b[49m\u001b[43m=\u001b[49m\u001b[43mskipfooter\u001b[49m\u001b[43m,\u001b[49m\n\u001b[32m   1634\u001b[39m \u001b[43m        \u001b[49m\u001b[43mdtype_backend\u001b[49m\u001b[43m=\u001b[49m\u001b[43mdtype_backend\u001b[49m\u001b[43m,\u001b[49m\n\u001b[32m   1635\u001b[39m \u001b[43m        \u001b[49m\u001b[43m*\u001b[49m\u001b[43m*\u001b[49m\u001b[43mkwds\u001b[49m\u001b[43m,\u001b[49m\n\u001b[32m   1636\u001b[39m \u001b[43m    \u001b[49m\u001b[43m)\u001b[49m\n",
      "\u001b[36mFile \u001b[39m\u001b[32mc:\\Users\\Johny\\Documents\\moringa\\phase4\\project\\nairobi_water_loss\\nairobi_water_vev\\Lib\\site-packages\\pandas\\io\\excel\\_base.py:778\u001b[39m, in \u001b[36mBaseExcelReader.parse\u001b[39m\u001b[34m(self, sheet_name, header, names, index_col, usecols, dtype, true_values, false_values, skiprows, nrows, na_values, verbose, parse_dates, date_parser, date_format, thousands, decimal, comment, skipfooter, dtype_backend, **kwds)\u001b[39m\n\u001b[32m    775\u001b[39m     sheet = \u001b[38;5;28mself\u001b[39m.get_sheet_by_index(asheetname)\n\u001b[32m    777\u001b[39m file_rows_needed = \u001b[38;5;28mself\u001b[39m._calc_rows(header, index_col, skiprows, nrows)\n\u001b[32m--> \u001b[39m\u001b[32m778\u001b[39m data = \u001b[38;5;28;43mself\u001b[39;49m\u001b[43m.\u001b[49m\u001b[43mget_sheet_data\u001b[49m\u001b[43m(\u001b[49m\u001b[43msheet\u001b[49m\u001b[43m,\u001b[49m\u001b[43m \u001b[49m\u001b[43mfile_rows_needed\u001b[49m\u001b[43m)\u001b[49m\n\u001b[32m    779\u001b[39m \u001b[38;5;28;01mif\u001b[39;00m \u001b[38;5;28mhasattr\u001b[39m(sheet, \u001b[33m\"\u001b[39m\u001b[33mclose\u001b[39m\u001b[33m\"\u001b[39m):\n\u001b[32m    780\u001b[39m     \u001b[38;5;66;03m# pyxlsb opens two TemporaryFiles\u001b[39;00m\n\u001b[32m    781\u001b[39m     sheet.close()\n",
      "\u001b[36mFile \u001b[39m\u001b[32mc:\\Users\\Johny\\Documents\\moringa\\phase4\\project\\nairobi_water_loss\\nairobi_water_vev\\Lib\\site-packages\\pandas\\io\\excel\\_openpyxl.py:615\u001b[39m, in \u001b[36mOpenpyxlReader.get_sheet_data\u001b[39m\u001b[34m(self, sheet, file_rows_needed)\u001b[39m\n\u001b[32m    613\u001b[39m data: \u001b[38;5;28mlist\u001b[39m[\u001b[38;5;28mlist\u001b[39m[Scalar]] = []\n\u001b[32m    614\u001b[39m last_row_with_data = -\u001b[32m1\u001b[39m\n\u001b[32m--> \u001b[39m\u001b[32m615\u001b[39m \u001b[43m\u001b[49m\u001b[38;5;28;43;01mfor\u001b[39;49;00m\u001b[43m \u001b[49m\u001b[43mrow_number\u001b[49m\u001b[43m,\u001b[49m\u001b[43m \u001b[49m\u001b[43mrow\u001b[49m\u001b[43m \u001b[49m\u001b[38;5;129;43;01min\u001b[39;49;00m\u001b[43m \u001b[49m\u001b[38;5;28;43menumerate\u001b[39;49m\u001b[43m(\u001b[49m\u001b[43msheet\u001b[49m\u001b[43m.\u001b[49m\u001b[43mrows\u001b[49m\u001b[43m)\u001b[49m\u001b[43m:\u001b[49m\n\u001b[32m    616\u001b[39m \u001b[43m    \u001b[49m\u001b[43mconverted_row\u001b[49m\u001b[43m \u001b[49m\u001b[43m=\u001b[49m\u001b[43m \u001b[49m\u001b[43m[\u001b[49m\u001b[38;5;28;43mself\u001b[39;49m\u001b[43m.\u001b[49m\u001b[43m_convert_cell\u001b[49m\u001b[43m(\u001b[49m\u001b[43mcell\u001b[49m\u001b[43m)\u001b[49m\u001b[43m \u001b[49m\u001b[38;5;28;43;01mfor\u001b[39;49;00m\u001b[43m \u001b[49m\u001b[43mcell\u001b[49m\u001b[43m \u001b[49m\u001b[38;5;129;43;01min\u001b[39;49;00m\u001b[43m \u001b[49m\u001b[43mrow\u001b[49m\u001b[43m]\u001b[49m\n\u001b[32m    617\u001b[39m \u001b[43m    \u001b[49m\u001b[38;5;28;43;01mwhile\u001b[39;49;00m\u001b[43m \u001b[49m\u001b[43mconverted_row\u001b[49m\u001b[43m \u001b[49m\u001b[38;5;129;43;01mand\u001b[39;49;00m\u001b[43m \u001b[49m\u001b[43mconverted_row\u001b[49m\u001b[43m[\u001b[49m\u001b[43m-\u001b[49m\u001b[32;43m1\u001b[39;49m\u001b[43m]\u001b[49m\u001b[43m \u001b[49m\u001b[43m==\u001b[49m\u001b[43m \u001b[49m\u001b[33;43m\"\u001b[39;49m\u001b[33;43m\"\u001b[39;49m\u001b[43m:\u001b[49m\n\u001b[32m    618\u001b[39m \u001b[43m        \u001b[49m\u001b[38;5;66;43;03m# trim trailing empty elements\u001b[39;49;00m\n",
      "\u001b[36mFile \u001b[39m\u001b[32mc:\\Users\\Johny\\Documents\\moringa\\phase4\\project\\nairobi_water_loss\\nairobi_water_vev\\Lib\\site-packages\\openpyxl\\worksheet\\_read_only.py:85\u001b[39m, in \u001b[36mReadOnlyWorksheet._cells_by_row\u001b[39m\u001b[34m(self, min_col, min_row, max_col, max_row, values_only)\u001b[39m\n\u001b[32m     77\u001b[39m \u001b[38;5;28;01mwith\u001b[39;00m \u001b[38;5;28mself\u001b[39m._get_source() \u001b[38;5;28;01mas\u001b[39;00m src:\n\u001b[32m     78\u001b[39m     parser = WorkSheetParser(src,\n\u001b[32m     79\u001b[39m                              \u001b[38;5;28mself\u001b[39m._shared_strings,\n\u001b[32m     80\u001b[39m                              data_only=\u001b[38;5;28mself\u001b[39m.parent.data_only,\n\u001b[32m     81\u001b[39m                              epoch=\u001b[38;5;28mself\u001b[39m.parent.epoch,\n\u001b[32m     82\u001b[39m                              date_formats=\u001b[38;5;28mself\u001b[39m.parent._date_formats,\n\u001b[32m     83\u001b[39m                              timedelta_formats=\u001b[38;5;28mself\u001b[39m.parent._timedelta_formats)\n\u001b[32m---> \u001b[39m\u001b[32m85\u001b[39m \u001b[43m    \u001b[49m\u001b[38;5;28;43;01mfor\u001b[39;49;00m\u001b[43m \u001b[49m\u001b[43midx\u001b[49m\u001b[43m,\u001b[49m\u001b[43m \u001b[49m\u001b[43mrow\u001b[49m\u001b[43m \u001b[49m\u001b[38;5;129;43;01min\u001b[39;49;00m\u001b[43m \u001b[49m\u001b[43mparser\u001b[49m\u001b[43m.\u001b[49m\u001b[43mparse\u001b[49m\u001b[43m(\u001b[49m\u001b[43m)\u001b[49m\u001b[43m:\u001b[49m\n\u001b[32m     86\u001b[39m \u001b[43m        \u001b[49m\u001b[38;5;28;43;01mif\u001b[39;49;00m\u001b[43m \u001b[49m\u001b[43mmax_row\u001b[49m\u001b[43m \u001b[49m\u001b[38;5;129;43;01mis\u001b[39;49;00m\u001b[43m \u001b[49m\u001b[38;5;129;43;01mnot\u001b[39;49;00m\u001b[43m \u001b[49m\u001b[38;5;28;43;01mNone\u001b[39;49;00m\u001b[43m \u001b[49m\u001b[38;5;129;43;01mand\u001b[39;49;00m\u001b[43m \u001b[49m\u001b[43midx\u001b[49m\u001b[43m \u001b[49m\u001b[43m>\u001b[49m\u001b[43m \u001b[49m\u001b[43mmax_row\u001b[49m\u001b[43m:\u001b[49m\n\u001b[32m     87\u001b[39m \u001b[43m            \u001b[49m\u001b[38;5;28;43;01mbreak\u001b[39;49;00m\n",
      "\u001b[36mFile \u001b[39m\u001b[32mc:\\Users\\Johny\\Documents\\moringa\\phase4\\project\\nairobi_water_loss\\nairobi_water_vev\\Lib\\site-packages\\openpyxl\\worksheet\\_reader.py:156\u001b[39m, in \u001b[36mWorkSheetParser.parse\u001b[39m\u001b[34m(self)\u001b[39m\n\u001b[32m    137\u001b[39m properties = {\n\u001b[32m    138\u001b[39m     PRINT_TAG: (\u001b[33m'\u001b[39m\u001b[33mprint_options\u001b[39m\u001b[33m'\u001b[39m, PrintOptions),\n\u001b[32m    139\u001b[39m     MARGINS_TAG: (\u001b[33m'\u001b[39m\u001b[33mpage_margins\u001b[39m\u001b[33m'\u001b[39m, PageMargins),\n\u001b[32m   (...)\u001b[39m\u001b[32m    151\u001b[39m \n\u001b[32m    152\u001b[39m }\n\u001b[32m    154\u001b[39m it = iterparse(\u001b[38;5;28mself\u001b[39m.source) \u001b[38;5;66;03m# add a finaliser to close the source when this becomes possible\u001b[39;00m\n\u001b[32m--> \u001b[39m\u001b[32m156\u001b[39m \u001b[43m\u001b[49m\u001b[38;5;28;43;01mfor\u001b[39;49;00m\u001b[43m \u001b[49m\u001b[43m_\u001b[49m\u001b[43m,\u001b[49m\u001b[43m \u001b[49m\u001b[43melement\u001b[49m\u001b[43m \u001b[49m\u001b[38;5;129;43;01min\u001b[39;49;00m\u001b[43m \u001b[49m\u001b[43mit\u001b[49m\u001b[43m:\u001b[49m\n\u001b[32m    157\u001b[39m \u001b[43m    \u001b[49m\u001b[43mtag_name\u001b[49m\u001b[43m \u001b[49m\u001b[43m=\u001b[49m\u001b[43m \u001b[49m\u001b[43melement\u001b[49m\u001b[43m.\u001b[49m\u001b[43mtag\u001b[49m\n\u001b[32m    158\u001b[39m \u001b[43m    \u001b[49m\u001b[38;5;28;43;01mif\u001b[39;49;00m\u001b[43m \u001b[49m\u001b[43mtag_name\u001b[49m\u001b[43m \u001b[49m\u001b[38;5;129;43;01min\u001b[39;49;00m\u001b[43m \u001b[49m\u001b[43mdispatcher\u001b[49m\u001b[43m:\u001b[49m\n",
      "\u001b[36mFile \u001b[39m\u001b[32m~\\AppData\\Local\\Programs\\Python\\Python312\\Lib\\xml\\etree\\ElementTree.py:1236\u001b[39m, in \u001b[36miterparse.<locals>.iterator\u001b[39m\u001b[34m(source)\u001b[39m\n\u001b[32m   1234\u001b[39m \u001b[38;5;28;01myield from\u001b[39;00m pullparser.read_events()\n\u001b[32m   1235\u001b[39m \u001b[38;5;66;03m# load event buffer\u001b[39;00m\n\u001b[32m-> \u001b[39m\u001b[32m1236\u001b[39m data = \u001b[43msource\u001b[49m\u001b[43m.\u001b[49m\u001b[43mread\u001b[49m\u001b[43m(\u001b[49m\u001b[32;43m16\u001b[39;49m\u001b[43m \u001b[49m\u001b[43m*\u001b[49m\u001b[43m \u001b[49m\u001b[32;43m1024\u001b[39;49m\u001b[43m)\u001b[49m\n\u001b[32m   1237\u001b[39m \u001b[38;5;28;01mif\u001b[39;00m \u001b[38;5;129;01mnot\u001b[39;00m data:\n\u001b[32m   1238\u001b[39m     \u001b[38;5;28;01mbreak\u001b[39;00m\n",
      "\u001b[36mFile \u001b[39m\u001b[32m~\\AppData\\Local\\Programs\\Python\\Python312\\Lib\\zipfile\\__init__.py:979\u001b[39m, in \u001b[36mZipExtFile.read\u001b[39m\u001b[34m(self, n)\u001b[39m\n\u001b[32m    977\u001b[39m \u001b[38;5;28mself\u001b[39m._offset = \u001b[32m0\u001b[39m\n\u001b[32m    978\u001b[39m \u001b[38;5;28;01mwhile\u001b[39;00m n > \u001b[32m0\u001b[39m \u001b[38;5;129;01mand\u001b[39;00m \u001b[38;5;129;01mnot\u001b[39;00m \u001b[38;5;28mself\u001b[39m._eof:\n\u001b[32m--> \u001b[39m\u001b[32m979\u001b[39m     data = \u001b[38;5;28;43mself\u001b[39;49m\u001b[43m.\u001b[49m\u001b[43m_read1\u001b[49m\u001b[43m(\u001b[49m\u001b[43mn\u001b[49m\u001b[43m)\u001b[49m\n\u001b[32m    980\u001b[39m     \u001b[38;5;28;01mif\u001b[39;00m n < \u001b[38;5;28mlen\u001b[39m(data):\n\u001b[32m    981\u001b[39m         \u001b[38;5;28mself\u001b[39m._readbuffer = data\n",
      "\u001b[36mFile \u001b[39m\u001b[32m~\\AppData\\Local\\Programs\\Python\\Python312\\Lib\\zipfile\\__init__.py:1055\u001b[39m, in \u001b[36mZipExtFile._read1\u001b[39m\u001b[34m(self, n)\u001b[39m\n\u001b[32m   1053\u001b[39m \u001b[38;5;28;01melif\u001b[39;00m \u001b[38;5;28mself\u001b[39m._compress_type == ZIP_DEFLATED:\n\u001b[32m   1054\u001b[39m     n = \u001b[38;5;28mmax\u001b[39m(n, \u001b[38;5;28mself\u001b[39m.MIN_READ_SIZE)\n\u001b[32m-> \u001b[39m\u001b[32m1055\u001b[39m     data = \u001b[38;5;28;43mself\u001b[39;49m\u001b[43m.\u001b[49m\u001b[43m_decompressor\u001b[49m\u001b[43m.\u001b[49m\u001b[43mdecompress\u001b[49m\u001b[43m(\u001b[49m\u001b[43mdata\u001b[49m\u001b[43m,\u001b[49m\u001b[43m \u001b[49m\u001b[43mn\u001b[49m\u001b[43m)\u001b[49m\n\u001b[32m   1056\u001b[39m     \u001b[38;5;28mself\u001b[39m._eof = (\u001b[38;5;28mself\u001b[39m._decompressor.eof \u001b[38;5;129;01mor\u001b[39;00m\n\u001b[32m   1057\u001b[39m                  \u001b[38;5;28mself\u001b[39m._compress_left <= \u001b[32m0\u001b[39m \u001b[38;5;129;01mand\u001b[39;00m\n\u001b[32m   1058\u001b[39m                  \u001b[38;5;129;01mnot\u001b[39;00m \u001b[38;5;28mself\u001b[39m._decompressor.unconsumed_tail)\n\u001b[32m   1059\u001b[39m     \u001b[38;5;28;01mif\u001b[39;00m \u001b[38;5;28mself\u001b[39m._eof:\n",
      "\u001b[31mKeyboardInterrupt\u001b[39m: "
     ]
    }
   ],
   "source": [
    "# Running the function above to convert the data to parquet\n",
    "excel_to_parquet_concat(data_path, parq_path)"
   ]
  },
  {
   "cell_type": "code",
   "execution_count": 32,
   "id": "7cab6319",
   "metadata": {},
   "outputs": [],
   "source": [
    "# Loading the converted dataset\n",
    "df = pd.read_parquet('./nwcs_dataset.parquet')"
   ]
  },
  {
   "cell_type": "code",
   "execution_count": 33,
   "id": "8e2591a2",
   "metadata": {},
   "outputs": [
    {
     "name": "stdout",
     "output_type": "stream",
     "text": [
      "The file has the following columns: \n",
      "----------------------------------------\n",
      " Index(['REGION', 'ZONE', 'SUB_ZONE', 'INSTALLATION_KEY', 'INST_TYPE_CODE',\n",
      "       'INSTALLATION_TYPE_DESC', 'ACTIVITY_TYPE_INS', 'METER_SIZE',\n",
      "       'BILL_DATE', 'BILL_ESTIMATE_ACTUAL', 'BILL_VALID_INVALID',\n",
      "       'MAIN_SERVICE', 'SHADOW_SERVICE', 'WATER_AMOUNT', 'SEWER_AMOUNT',\n",
      "       'BILL_AMOUNT', 'BILL_VOLUME', 'MONTH', 'YEAR', 'METER_RENT_AMOUNT',\n",
      "       'ADDRESS', 'BILL_DAYS'],\n",
      "      dtype='object') \n",
      "\n",
      "----------------------------------------\n",
      " A total of 22 columns and a shape of (2464244, 22) rows and columns respectively\n"
     ]
    }
   ],
   "source": [
    "print(f\"The file has the following columns: \\n{\"--\" * 20}\\n {df.columns} \\n\")\n",
    "print(f\"{\"--\" * 20}\\n A total of {len(df.columns)} columns and a shape of {df.shape} rows and columns respectively\")"
   ]
  },
  {
   "cell_type": "code",
   "execution_count": 34,
   "id": "6d822191",
   "metadata": {},
   "outputs": [
    {
     "data": {
      "application/vnd.microsoft.datawrangler.viewer.v0+json": {
       "columns": [
        {
         "name": "index",
         "rawType": "int64",
         "type": "integer"
        },
        {
         "name": "REGION",
         "rawType": "string",
         "type": "string"
        },
        {
         "name": "ZONE",
         "rawType": "string",
         "type": "string"
        },
        {
         "name": "SUB_ZONE",
         "rawType": "string",
         "type": "string"
        },
        {
         "name": "INSTALLATION_KEY",
         "rawType": "string",
         "type": "string"
        },
        {
         "name": "INST_TYPE_CODE",
         "rawType": "string",
         "type": "string"
        },
        {
         "name": "INSTALLATION_TYPE_DESC",
         "rawType": "string",
         "type": "string"
        },
        {
         "name": "ACTIVITY_TYPE_INS",
         "rawType": "string",
         "type": "string"
        },
        {
         "name": "METER_SIZE",
         "rawType": "Float64",
         "type": "float"
        },
        {
         "name": "BILL_DATE",
         "rawType": "object",
         "type": "string"
        },
        {
         "name": "BILL_ESTIMATE_ACTUAL",
         "rawType": "string",
         "type": "string"
        },
        {
         "name": "BILL_VALID_INVALID",
         "rawType": "string",
         "type": "string"
        },
        {
         "name": "MAIN_SERVICE",
         "rawType": "string",
         "type": "string"
        },
        {
         "name": "SHADOW_SERVICE",
         "rawType": "string",
         "type": "string"
        },
        {
         "name": "WATER_AMOUNT",
         "rawType": "object",
         "type": "string"
        },
        {
         "name": "SEWER_AMOUNT",
         "rawType": "object",
         "type": "string"
        },
        {
         "name": "BILL_AMOUNT",
         "rawType": "object",
         "type": "string"
        },
        {
         "name": "BILL_VOLUME",
         "rawType": "object",
         "type": "string"
        },
        {
         "name": "MONTH",
         "rawType": "string",
         "type": "string"
        },
        {
         "name": "YEAR",
         "rawType": "string",
         "type": "string"
        },
        {
         "name": "METER_RENT_AMOUNT",
         "rawType": "Float64",
         "type": "float"
        },
        {
         "name": "ADDRESS",
         "rawType": "string",
         "type": "string"
        },
        {
         "name": "BILL_DAYS",
         "rawType": "Int64",
         "type": "integer"
        }
       ],
       "ref": "dadd7239-30e0-4dfd-9f8f-b8f18eed2a90",
       "rows": [
        [
         "0",
         "DAGORETTI",
         "KILIMANI-KILELESHWA",
         "HURLINGHAM",
         "CV-7000001",
         "DOM",
         "DOMESTIC",
         "NORMAL SINGLE-DWELLING UNIT",
         "0.5",
         "2024-08-09 00:00:00",
         "ACTUAL",
         "VALID",
         "WAT",
         "SEW",
         "90.0",
         "86.0",
         "176.0",
         "2",
         "August",
         "2024",
         null,
         null,
         null
        ],
        [
         "1",
         "CENTRAL",
         "KAMUKUNJI",
         "EASTLEIGH",
         "CV-7000002",
         "DOM",
         "DOMESTIC",
         "NORMAL SINGLE-DWELLING UNIT",
         "0.5",
         "2024-08-08 00:00:00",
         "ESTIMATED",
         "VALID",
         "WAT",
         "SEW",
         "0.0",
         "0.0",
         "0.0",
         "0",
         "August",
         "2024",
         null,
         null,
         null
        ],
        [
         "2",
         "CENTRAL",
         "KAMUKUNJI",
         "EASTLEIGH",
         "CV-7000003",
         "DOM",
         "DOMESTIC",
         "NORMAL SINGLE-DWELLING UNIT",
         "0.5",
         "2024-08-02 00:00:00",
         "ESTIMATED",
         "VALID",
         "WAT",
         "SEW",
         "1978.0",
         "1231.0",
         "3209.0",
         "31",
         "August",
         "2024",
         null,
         null,
         null
        ],
        [
         "3",
         "CENTRAL",
         "KAMUKUNJI",
         "MOI AIR BASE_BAHATI",
         "CV-7000004",
         "DOM",
         "DOMESTIC",
         "NORMAL SINGLE-DWELLING UNIT",
         "0.5",
         "2024-08-14 00:00:00",
         "ACTUAL",
         "VALID",
         "WAT",
         "SEW",
         "315.0",
         "215.0",
         "530.0",
         "7",
         "August",
         "2024",
         null,
         null,
         null
        ],
        [
         "4",
         "LANGATA",
         "SOUTH C- NAIROBI WEST",
         "SOUTH C_MOMBASA RD",
         "CV-7000005",
         "DOM",
         "DOMESTIC",
         "NORMAL SINGLE-DWELLING UNIT",
         "0.5",
         "2024-08-05 00:00:00",
         "ACTUAL",
         "VALID",
         "WAT",
         "SEW",
         "2860.0",
         "1834.0",
         "4694.0",
         "44",
         "August",
         "2024",
         null,
         null,
         null
        ]
       ],
       "shape": {
        "columns": 22,
        "rows": 5
       }
      },
      "text/html": [
       "<div>\n",
       "<style scoped>\n",
       "    .dataframe tbody tr th:only-of-type {\n",
       "        vertical-align: middle;\n",
       "    }\n",
       "\n",
       "    .dataframe tbody tr th {\n",
       "        vertical-align: top;\n",
       "    }\n",
       "\n",
       "    .dataframe thead th {\n",
       "        text-align: right;\n",
       "    }\n",
       "</style>\n",
       "<table border=\"1\" class=\"dataframe\">\n",
       "  <thead>\n",
       "    <tr style=\"text-align: right;\">\n",
       "      <th></th>\n",
       "      <th>REGION</th>\n",
       "      <th>ZONE</th>\n",
       "      <th>SUB_ZONE</th>\n",
       "      <th>INSTALLATION_KEY</th>\n",
       "      <th>INST_TYPE_CODE</th>\n",
       "      <th>INSTALLATION_TYPE_DESC</th>\n",
       "      <th>ACTIVITY_TYPE_INS</th>\n",
       "      <th>METER_SIZE</th>\n",
       "      <th>BILL_DATE</th>\n",
       "      <th>BILL_ESTIMATE_ACTUAL</th>\n",
       "      <th>...</th>\n",
       "      <th>SHADOW_SERVICE</th>\n",
       "      <th>WATER_AMOUNT</th>\n",
       "      <th>SEWER_AMOUNT</th>\n",
       "      <th>BILL_AMOUNT</th>\n",
       "      <th>BILL_VOLUME</th>\n",
       "      <th>MONTH</th>\n",
       "      <th>YEAR</th>\n",
       "      <th>METER_RENT_AMOUNT</th>\n",
       "      <th>ADDRESS</th>\n",
       "      <th>BILL_DAYS</th>\n",
       "    </tr>\n",
       "  </thead>\n",
       "  <tbody>\n",
       "    <tr>\n",
       "      <th>0</th>\n",
       "      <td>DAGORETTI</td>\n",
       "      <td>KILIMANI-KILELESHWA</td>\n",
       "      <td>HURLINGHAM</td>\n",
       "      <td>CV-7000001</td>\n",
       "      <td>DOM</td>\n",
       "      <td>DOMESTIC</td>\n",
       "      <td>NORMAL SINGLE-DWELLING UNIT</td>\n",
       "      <td>0.5</td>\n",
       "      <td>2024-08-09 00:00:00</td>\n",
       "      <td>ACTUAL</td>\n",
       "      <td>...</td>\n",
       "      <td>SEW</td>\n",
       "      <td>90.0</td>\n",
       "      <td>86.0</td>\n",
       "      <td>176.0</td>\n",
       "      <td>2</td>\n",
       "      <td>August</td>\n",
       "      <td>2024</td>\n",
       "      <td>&lt;NA&gt;</td>\n",
       "      <td>&lt;NA&gt;</td>\n",
       "      <td>&lt;NA&gt;</td>\n",
       "    </tr>\n",
       "    <tr>\n",
       "      <th>1</th>\n",
       "      <td>CENTRAL</td>\n",
       "      <td>KAMUKUNJI</td>\n",
       "      <td>EASTLEIGH</td>\n",
       "      <td>CV-7000002</td>\n",
       "      <td>DOM</td>\n",
       "      <td>DOMESTIC</td>\n",
       "      <td>NORMAL SINGLE-DWELLING UNIT</td>\n",
       "      <td>0.5</td>\n",
       "      <td>2024-08-08 00:00:00</td>\n",
       "      <td>ESTIMATED</td>\n",
       "      <td>...</td>\n",
       "      <td>SEW</td>\n",
       "      <td>0.0</td>\n",
       "      <td>0.0</td>\n",
       "      <td>0.0</td>\n",
       "      <td>0</td>\n",
       "      <td>August</td>\n",
       "      <td>2024</td>\n",
       "      <td>&lt;NA&gt;</td>\n",
       "      <td>&lt;NA&gt;</td>\n",
       "      <td>&lt;NA&gt;</td>\n",
       "    </tr>\n",
       "    <tr>\n",
       "      <th>2</th>\n",
       "      <td>CENTRAL</td>\n",
       "      <td>KAMUKUNJI</td>\n",
       "      <td>EASTLEIGH</td>\n",
       "      <td>CV-7000003</td>\n",
       "      <td>DOM</td>\n",
       "      <td>DOMESTIC</td>\n",
       "      <td>NORMAL SINGLE-DWELLING UNIT</td>\n",
       "      <td>0.5</td>\n",
       "      <td>2024-08-02 00:00:00</td>\n",
       "      <td>ESTIMATED</td>\n",
       "      <td>...</td>\n",
       "      <td>SEW</td>\n",
       "      <td>1978.0</td>\n",
       "      <td>1231.0</td>\n",
       "      <td>3209.0</td>\n",
       "      <td>31</td>\n",
       "      <td>August</td>\n",
       "      <td>2024</td>\n",
       "      <td>&lt;NA&gt;</td>\n",
       "      <td>&lt;NA&gt;</td>\n",
       "      <td>&lt;NA&gt;</td>\n",
       "    </tr>\n",
       "    <tr>\n",
       "      <th>3</th>\n",
       "      <td>CENTRAL</td>\n",
       "      <td>KAMUKUNJI</td>\n",
       "      <td>MOI AIR BASE_BAHATI</td>\n",
       "      <td>CV-7000004</td>\n",
       "      <td>DOM</td>\n",
       "      <td>DOMESTIC</td>\n",
       "      <td>NORMAL SINGLE-DWELLING UNIT</td>\n",
       "      <td>0.5</td>\n",
       "      <td>2024-08-14 00:00:00</td>\n",
       "      <td>ACTUAL</td>\n",
       "      <td>...</td>\n",
       "      <td>SEW</td>\n",
       "      <td>315.0</td>\n",
       "      <td>215.0</td>\n",
       "      <td>530.0</td>\n",
       "      <td>7</td>\n",
       "      <td>August</td>\n",
       "      <td>2024</td>\n",
       "      <td>&lt;NA&gt;</td>\n",
       "      <td>&lt;NA&gt;</td>\n",
       "      <td>&lt;NA&gt;</td>\n",
       "    </tr>\n",
       "    <tr>\n",
       "      <th>4</th>\n",
       "      <td>LANGATA</td>\n",
       "      <td>SOUTH C- NAIROBI WEST</td>\n",
       "      <td>SOUTH C_MOMBASA RD</td>\n",
       "      <td>CV-7000005</td>\n",
       "      <td>DOM</td>\n",
       "      <td>DOMESTIC</td>\n",
       "      <td>NORMAL SINGLE-DWELLING UNIT</td>\n",
       "      <td>0.5</td>\n",
       "      <td>2024-08-05 00:00:00</td>\n",
       "      <td>ACTUAL</td>\n",
       "      <td>...</td>\n",
       "      <td>SEW</td>\n",
       "      <td>2860.0</td>\n",
       "      <td>1834.0</td>\n",
       "      <td>4694.0</td>\n",
       "      <td>44</td>\n",
       "      <td>August</td>\n",
       "      <td>2024</td>\n",
       "      <td>&lt;NA&gt;</td>\n",
       "      <td>&lt;NA&gt;</td>\n",
       "      <td>&lt;NA&gt;</td>\n",
       "    </tr>\n",
       "  </tbody>\n",
       "</table>\n",
       "<p>5 rows × 22 columns</p>\n",
       "</div>"
      ],
      "text/plain": [
       "      REGION                   ZONE             SUB_ZONE INSTALLATION_KEY  \\\n",
       "0  DAGORETTI    KILIMANI-KILELESHWA           HURLINGHAM       CV-7000001   \n",
       "1    CENTRAL              KAMUKUNJI            EASTLEIGH       CV-7000002   \n",
       "2    CENTRAL              KAMUKUNJI            EASTLEIGH       CV-7000003   \n",
       "3    CENTRAL              KAMUKUNJI  MOI AIR BASE_BAHATI       CV-7000004   \n",
       "4    LANGATA  SOUTH C- NAIROBI WEST   SOUTH C_MOMBASA RD       CV-7000005   \n",
       "\n",
       "  INST_TYPE_CODE INSTALLATION_TYPE_DESC            ACTIVITY_TYPE_INS  \\\n",
       "0            DOM               DOMESTIC  NORMAL SINGLE-DWELLING UNIT   \n",
       "1            DOM               DOMESTIC  NORMAL SINGLE-DWELLING UNIT   \n",
       "2            DOM               DOMESTIC  NORMAL SINGLE-DWELLING UNIT   \n",
       "3            DOM               DOMESTIC  NORMAL SINGLE-DWELLING UNIT   \n",
       "4            DOM               DOMESTIC  NORMAL SINGLE-DWELLING UNIT   \n",
       "\n",
       "   METER_SIZE            BILL_DATE BILL_ESTIMATE_ACTUAL  ... SHADOW_SERVICE  \\\n",
       "0         0.5  2024-08-09 00:00:00               ACTUAL  ...            SEW   \n",
       "1         0.5  2024-08-08 00:00:00            ESTIMATED  ...            SEW   \n",
       "2         0.5  2024-08-02 00:00:00            ESTIMATED  ...            SEW   \n",
       "3         0.5  2024-08-14 00:00:00               ACTUAL  ...            SEW   \n",
       "4         0.5  2024-08-05 00:00:00               ACTUAL  ...            SEW   \n",
       "\n",
       "  WATER_AMOUNT SEWER_AMOUNT BILL_AMOUNT BILL_VOLUME   MONTH  YEAR  \\\n",
       "0         90.0         86.0       176.0           2  August  2024   \n",
       "1          0.0          0.0         0.0           0  August  2024   \n",
       "2       1978.0       1231.0      3209.0          31  August  2024   \n",
       "3        315.0        215.0       530.0           7  August  2024   \n",
       "4       2860.0       1834.0      4694.0          44  August  2024   \n",
       "\n",
       "  METER_RENT_AMOUNT ADDRESS  BILL_DAYS  \n",
       "0              <NA>    <NA>       <NA>  \n",
       "1              <NA>    <NA>       <NA>  \n",
       "2              <NA>    <NA>       <NA>  \n",
       "3              <NA>    <NA>       <NA>  \n",
       "4              <NA>    <NA>       <NA>  \n",
       "\n",
       "[5 rows x 22 columns]"
      ]
     },
     "execution_count": 34,
     "metadata": {},
     "output_type": "execute_result"
    }
   ],
   "source": [
    "# Viewing the first few columns\n",
    "df.head()"
   ]
  },
  {
   "cell_type": "markdown",
   "id": "dda0aad4",
   "metadata": {},
   "source": [
    "### Checking for mising values"
   ]
  },
  {
   "cell_type": "code",
   "execution_count": 35,
   "id": "8561d45d",
   "metadata": {},
   "outputs": [
    {
     "data": {
      "application/vnd.microsoft.datawrangler.viewer.v0+json": {
       "columns": [
        {
         "name": "index",
         "rawType": "object",
         "type": "string"
        },
        {
         "name": "Missing values",
         "rawType": "int64",
         "type": "integer"
        },
        {
         "name": "sorted %",
         "rawType": "float64",
         "type": "float"
        }
       ],
       "ref": "089af772-3e97-4c48-a8ea-beb3fc300fb5",
       "rows": [
        [
         "ACTIVITY_TYPE_INS",
         "2227801",
         "90.40504917532517"
        ],
        [
         "ADDRESS",
         "2217447",
         "89.98487974405131"
        ],
        [
         "METER_RENT_AMOUNT",
         "1970981",
         "79.98319159953317"
        ],
        [
         "BILL_DAYS",
         "986360",
         "40.02688045501988"
        ],
        [
         "BILL_VALID_INVALID",
         "246343",
         "9.996696755678416"
        ],
        [
         "BILL_ESTIMATE_ACTUAL",
         "8933",
         "0.3625046870358617"
        ],
        [
         "METER_SIZE",
         "8933",
         "0.3625046870358617"
        ],
        [
         "SUB_ZONE",
         "1594",
         "0.0646851529312844"
        ],
        [
         "REGION",
         "798",
         "0.03238315686271327"
        ],
        [
         "ZONE",
         "798",
         "0.03238315686271327"
        ],
        [
         "INSTALLATION_TYPE_DESC",
         "0",
         "0.0"
        ],
        [
         "INST_TYPE_CODE",
         "0",
         "0.0"
        ],
        [
         "INSTALLATION_KEY",
         "0",
         "0.0"
        ],
        [
         "BILL_DATE",
         "0",
         "0.0"
        ],
        [
         "WATER_AMOUNT",
         "0",
         "0.0"
        ],
        [
         "SHADOW_SERVICE",
         "0",
         "0.0"
        ],
        [
         "MAIN_SERVICE",
         "0",
         "0.0"
        ],
        [
         "SEWER_AMOUNT",
         "0",
         "0.0"
        ],
        [
         "MONTH",
         "0",
         "0.0"
        ],
        [
         "BILL_VOLUME",
         "0",
         "0.0"
        ],
        [
         "BILL_AMOUNT",
         "0",
         "0.0"
        ],
        [
         "YEAR",
         "0",
         "0.0"
        ]
       ],
       "shape": {
        "columns": 2,
        "rows": 22
       }
      },
      "text/html": [
       "<div>\n",
       "<style scoped>\n",
       "    .dataframe tbody tr th:only-of-type {\n",
       "        vertical-align: middle;\n",
       "    }\n",
       "\n",
       "    .dataframe tbody tr th {\n",
       "        vertical-align: top;\n",
       "    }\n",
       "\n",
       "    .dataframe thead th {\n",
       "        text-align: right;\n",
       "    }\n",
       "</style>\n",
       "<table border=\"1\" class=\"dataframe\">\n",
       "  <thead>\n",
       "    <tr style=\"text-align: right;\">\n",
       "      <th></th>\n",
       "      <th>Missing values</th>\n",
       "      <th>sorted %</th>\n",
       "    </tr>\n",
       "  </thead>\n",
       "  <tbody>\n",
       "    <tr>\n",
       "      <th>ACTIVITY_TYPE_INS</th>\n",
       "      <td>2227801</td>\n",
       "      <td>90.405049</td>\n",
       "    </tr>\n",
       "    <tr>\n",
       "      <th>ADDRESS</th>\n",
       "      <td>2217447</td>\n",
       "      <td>89.984880</td>\n",
       "    </tr>\n",
       "    <tr>\n",
       "      <th>METER_RENT_AMOUNT</th>\n",
       "      <td>1970981</td>\n",
       "      <td>79.983192</td>\n",
       "    </tr>\n",
       "    <tr>\n",
       "      <th>BILL_DAYS</th>\n",
       "      <td>986360</td>\n",
       "      <td>40.026880</td>\n",
       "    </tr>\n",
       "    <tr>\n",
       "      <th>BILL_VALID_INVALID</th>\n",
       "      <td>246343</td>\n",
       "      <td>9.996697</td>\n",
       "    </tr>\n",
       "    <tr>\n",
       "      <th>BILL_ESTIMATE_ACTUAL</th>\n",
       "      <td>8933</td>\n",
       "      <td>0.362505</td>\n",
       "    </tr>\n",
       "    <tr>\n",
       "      <th>METER_SIZE</th>\n",
       "      <td>8933</td>\n",
       "      <td>0.362505</td>\n",
       "    </tr>\n",
       "    <tr>\n",
       "      <th>SUB_ZONE</th>\n",
       "      <td>1594</td>\n",
       "      <td>0.064685</td>\n",
       "    </tr>\n",
       "    <tr>\n",
       "      <th>REGION</th>\n",
       "      <td>798</td>\n",
       "      <td>0.032383</td>\n",
       "    </tr>\n",
       "    <tr>\n",
       "      <th>ZONE</th>\n",
       "      <td>798</td>\n",
       "      <td>0.032383</td>\n",
       "    </tr>\n",
       "    <tr>\n",
       "      <th>INSTALLATION_TYPE_DESC</th>\n",
       "      <td>0</td>\n",
       "      <td>0.000000</td>\n",
       "    </tr>\n",
       "    <tr>\n",
       "      <th>INST_TYPE_CODE</th>\n",
       "      <td>0</td>\n",
       "      <td>0.000000</td>\n",
       "    </tr>\n",
       "    <tr>\n",
       "      <th>INSTALLATION_KEY</th>\n",
       "      <td>0</td>\n",
       "      <td>0.000000</td>\n",
       "    </tr>\n",
       "    <tr>\n",
       "      <th>BILL_DATE</th>\n",
       "      <td>0</td>\n",
       "      <td>0.000000</td>\n",
       "    </tr>\n",
       "    <tr>\n",
       "      <th>WATER_AMOUNT</th>\n",
       "      <td>0</td>\n",
       "      <td>0.000000</td>\n",
       "    </tr>\n",
       "    <tr>\n",
       "      <th>SHADOW_SERVICE</th>\n",
       "      <td>0</td>\n",
       "      <td>0.000000</td>\n",
       "    </tr>\n",
       "    <tr>\n",
       "      <th>MAIN_SERVICE</th>\n",
       "      <td>0</td>\n",
       "      <td>0.000000</td>\n",
       "    </tr>\n",
       "    <tr>\n",
       "      <th>SEWER_AMOUNT</th>\n",
       "      <td>0</td>\n",
       "      <td>0.000000</td>\n",
       "    </tr>\n",
       "    <tr>\n",
       "      <th>MONTH</th>\n",
       "      <td>0</td>\n",
       "      <td>0.000000</td>\n",
       "    </tr>\n",
       "    <tr>\n",
       "      <th>BILL_VOLUME</th>\n",
       "      <td>0</td>\n",
       "      <td>0.000000</td>\n",
       "    </tr>\n",
       "    <tr>\n",
       "      <th>BILL_AMOUNT</th>\n",
       "      <td>0</td>\n",
       "      <td>0.000000</td>\n",
       "    </tr>\n",
       "    <tr>\n",
       "      <th>YEAR</th>\n",
       "      <td>0</td>\n",
       "      <td>0.000000</td>\n",
       "    </tr>\n",
       "  </tbody>\n",
       "</table>\n",
       "</div>"
      ],
      "text/plain": [
       "                        Missing values   sorted %\n",
       "ACTIVITY_TYPE_INS              2227801  90.405049\n",
       "ADDRESS                        2217447  89.984880\n",
       "METER_RENT_AMOUNT              1970981  79.983192\n",
       "BILL_DAYS                       986360  40.026880\n",
       "BILL_VALID_INVALID              246343   9.996697\n",
       "BILL_ESTIMATE_ACTUAL              8933   0.362505\n",
       "METER_SIZE                        8933   0.362505\n",
       "SUB_ZONE                          1594   0.064685\n",
       "REGION                             798   0.032383\n",
       "ZONE                               798   0.032383\n",
       "INSTALLATION_TYPE_DESC               0   0.000000\n",
       "INST_TYPE_CODE                       0   0.000000\n",
       "INSTALLATION_KEY                     0   0.000000\n",
       "BILL_DATE                            0   0.000000\n",
       "WATER_AMOUNT                         0   0.000000\n",
       "SHADOW_SERVICE                       0   0.000000\n",
       "MAIN_SERVICE                         0   0.000000\n",
       "SEWER_AMOUNT                         0   0.000000\n",
       "MONTH                                0   0.000000\n",
       "BILL_VOLUME                          0   0.000000\n",
       "BILL_AMOUNT                          0   0.000000\n",
       "YEAR                                 0   0.000000"
      ]
     },
     "execution_count": 35,
     "metadata": {},
     "output_type": "execute_result"
    }
   ],
   "source": [
    "# Percentage of missing values per column\n",
    "pd.DataFrame({\"Missing values\":df.isna().sum(),\n",
    "\"sorted %\" : df.isna().sum() / len(df) * 100}).sort_values(by=\"sorted %\",ascending=False)"
   ]
  },
  {
   "cell_type": "markdown",
   "id": "368e4006",
   "metadata": {},
   "source": [
    "### Dealing with the missing values\n",
    "\n",
    "We will Employ the following method to mitigate the effects of the missing values.\n",
    "- For columns with greater than 80% of missing values we will drop them.\n",
    "- For Numeric columns such as the meter size we will fill with the mode.\n",
    "- For the zones and sub-zones we will infer or fill them manually.\n",
    "- For the bill estimate actual we will drop the estimated figures and remain with the actual figures\n",
    "- The BILL_VALID_INVALID column will be filled with valid since all the bills are valid"
   ]
  },
  {
   "cell_type": "code",
   "execution_count": 36,
   "id": "d5c10622",
   "metadata": {},
   "outputs": [],
   "source": [
    "# Dropping the unnecessary columns\n",
    "dropped_cols = ['ACTIVITY_TYPE_INS','ADDRESS','METER_RENT_AMOUNT','BILL_DATE','BILL_DAYS']\n",
    "df_ncws = df.drop(columns=dropped_cols)\n",
    "\n",
    "# Fill BILL_VALID_INVALID with \"VALID\"\n",
    "df_ncws['BILL_VALID_INVALID'] = df_ncws['BILL_VALID_INVALID'].fillna('VALID')\n",
    "\n",
    "# Fill METER_SIZE with mode\n",
    "df_ncws['METER_SIZE'] = df_ncws['METER_SIZE'].fillna(df_ncws['METER_SIZE'].mode()[0])\n",
    "\n",
    "# Drop rows with Null values in SUB_ZONE\n",
    "df_copy = df_ncws[df_ncws['SUB_ZONE'].notna()]\n",
    "\n",
    "# Filter to keep only ACTUAL bills (remove estimates) and fill NAs with \"ACTUAL\"\n",
    "df_cleaned = df_copy.query(\"BILL_ESTIMATE_ACTUAL not in (['ESTIMATE', 'ESTIMATED'])\")\\\n",
    "    .assign(BILL_ESTIMATE_ACTUAL=lambda d: d['BILL_ESTIMATE_ACTUAL'].fillna(\"ACTUAL\"))\n",
    "\n",
    "# Convert the following missclassified columns to numeric\n",
    "cols_to_clean = ['WATER_AMOUNT', 'SEWER_AMOUNT', 'BILL_AMOUNT', 'BILL_VOLUME', 'YEAR']\n",
    "df_cleaned[cols_to_clean] = df_cleaned[cols_to_clean].apply(pd.to_numeric, errors=\"coerce\")\n",
    "\n",
    "# Fill Nans with 0.0 for the converted columns\n",
    "df_cleaned[cols_to_clean] = df_cleaned[cols_to_clean].fillna(0.0, axis=1)\n",
    "\n",
    "# Drop rows with placeholder dash (\"-\")\n",
    "df_cleaned = df_cleaned[~df_cleaned[cols_to_clean].applymap(\n",
    "    lambda x: isinstance(x, str) and x.strip() == \"-\"\n",
    ").any(axis=1)]"
   ]
  },
  {
   "cell_type": "code",
   "execution_count": 37,
   "id": "00cbf4ab",
   "metadata": {},
   "outputs": [
    {
     "data": {
      "application/vnd.microsoft.datawrangler.viewer.v0+json": {
       "columns": [
        {
         "name": "index",
         "rawType": "object",
         "type": "string"
        },
        {
         "name": "0",
         "rawType": "object",
         "type": "unknown"
        }
       ],
       "ref": "563e510d-4036-48b0-931b-71449d7835de",
       "rows": [
        [
         "REGION",
         "string"
        ],
        [
         "ZONE",
         "string"
        ],
        [
         "SUB_ZONE",
         "string"
        ],
        [
         "INSTALLATION_KEY",
         "string"
        ],
        [
         "INST_TYPE_CODE",
         "string"
        ],
        [
         "INSTALLATION_TYPE_DESC",
         "string"
        ],
        [
         "METER_SIZE",
         "Float64"
        ],
        [
         "BILL_ESTIMATE_ACTUAL",
         "string"
        ],
        [
         "BILL_VALID_INVALID",
         "string"
        ],
        [
         "MAIN_SERVICE",
         "string"
        ],
        [
         "SHADOW_SERVICE",
         "string"
        ],
        [
         "WATER_AMOUNT",
         "float64"
        ],
        [
         "SEWER_AMOUNT",
         "float64"
        ],
        [
         "BILL_AMOUNT",
         "float64"
        ],
        [
         "BILL_VOLUME",
         "float64"
        ],
        [
         "MONTH",
         "string"
        ],
        [
         "YEAR",
         "float64"
        ]
       ],
       "shape": {
        "columns": 1,
        "rows": 17
       }
      },
      "text/plain": [
       "REGION                    string[python]\n",
       "ZONE                      string[python]\n",
       "SUB_ZONE                  string[python]\n",
       "INSTALLATION_KEY          string[python]\n",
       "INST_TYPE_CODE            string[python]\n",
       "INSTALLATION_TYPE_DESC    string[python]\n",
       "METER_SIZE                       Float64\n",
       "BILL_ESTIMATE_ACTUAL      string[python]\n",
       "BILL_VALID_INVALID        string[python]\n",
       "MAIN_SERVICE              string[python]\n",
       "SHADOW_SERVICE            string[python]\n",
       "WATER_AMOUNT                     float64\n",
       "SEWER_AMOUNT                     float64\n",
       "BILL_AMOUNT                      float64\n",
       "BILL_VOLUME                      float64\n",
       "MONTH                     string[python]\n",
       "YEAR                             float64\n",
       "dtype: object"
      ]
     },
     "execution_count": 37,
     "metadata": {},
     "output_type": "execute_result"
    }
   ],
   "source": [
    "df_cleaned.dtypes"
   ]
  },
  {
   "cell_type": "code",
   "execution_count": 38,
   "id": "23332a98",
   "metadata": {},
   "outputs": [
    {
     "data": {
      "application/vnd.microsoft.datawrangler.viewer.v0+json": {
       "columns": [
        {
         "name": "index",
         "rawType": "object",
         "type": "string"
        },
        {
         "name": "0",
         "rawType": "int64",
         "type": "integer"
        }
       ],
       "ref": "a5b85ed4-15bc-4e60-b8b5-713b20f4bb78",
       "rows": [
        [
         "REGION",
         "0"
        ],
        [
         "ZONE",
         "0"
        ],
        [
         "SUB_ZONE",
         "0"
        ],
        [
         "INSTALLATION_KEY",
         "0"
        ],
        [
         "INST_TYPE_CODE",
         "0"
        ],
        [
         "INSTALLATION_TYPE_DESC",
         "0"
        ],
        [
         "METER_SIZE",
         "0"
        ],
        [
         "BILL_ESTIMATE_ACTUAL",
         "0"
        ],
        [
         "BILL_VALID_INVALID",
         "0"
        ],
        [
         "MAIN_SERVICE",
         "0"
        ],
        [
         "SHADOW_SERVICE",
         "0"
        ],
        [
         "WATER_AMOUNT",
         "0"
        ],
        [
         "SEWER_AMOUNT",
         "0"
        ],
        [
         "BILL_AMOUNT",
         "0"
        ],
        [
         "BILL_VOLUME",
         "0"
        ],
        [
         "MONTH",
         "0"
        ],
        [
         "YEAR",
         "0"
        ]
       ],
       "shape": {
        "columns": 1,
        "rows": 17
       }
      },
      "text/plain": [
       "REGION                    0\n",
       "ZONE                      0\n",
       "SUB_ZONE                  0\n",
       "INSTALLATION_KEY          0\n",
       "INST_TYPE_CODE            0\n",
       "INSTALLATION_TYPE_DESC    0\n",
       "METER_SIZE                0\n",
       "BILL_ESTIMATE_ACTUAL      0\n",
       "BILL_VALID_INVALID        0\n",
       "MAIN_SERVICE              0\n",
       "SHADOW_SERVICE            0\n",
       "WATER_AMOUNT              0\n",
       "SEWER_AMOUNT              0\n",
       "BILL_AMOUNT               0\n",
       "BILL_VOLUME               0\n",
       "MONTH                     0\n",
       "YEAR                      0\n",
       "dtype: int64"
      ]
     },
     "execution_count": 38,
     "metadata": {},
     "output_type": "execute_result"
    }
   ],
   "source": [
    "df_cleaned.isna().sum()"
   ]
  },
  {
   "cell_type": "markdown",
   "id": "c544d3a7",
   "metadata": {},
   "source": [
    "### % of Values with negative numbers\n",
    "================================================================\n",
    " - All the columns have been converted to their righful dtypes\n",
    " - We still have values that are negative, which could impact our data.\n",
    " - These values could represent:\n",
    "\n",
    " | Case                          | Explanation                                                                 |\n",
    "|-------------------------------|-----------------------------------------------------------------------------|\n",
    "| Bill corrections or adjustments | Sometimes utilities issue a credit to a customer if they were overbilled earlier. |\n",
    "| Refunds or reversals           | If a customer pays in advance or has an overpayment, the system might use negative billing entries to offset future bills. |\n",
    "| Wrong readings | if a meter reading was entered incorrectly and later corrected. |"
   ]
  },
  {
   "cell_type": "code",
   "execution_count": 39,
   "id": "3326bed7",
   "metadata": {},
   "outputs": [
    {
     "data": {
      "application/vnd.microsoft.datawrangler.viewer.v0+json": {
       "columns": [
        {
         "name": "NEGATIVE",
         "rawType": "bool",
         "type": "boolean"
        },
        {
         "name": "proportion",
         "rawType": "float64",
         "type": "float"
        }
       ],
       "ref": "bc3bf7c4-a816-4b56-a651-c79bc0f74a2d",
       "rows": [
        [
         "False",
         "0.9871307450441724"
        ],
        [
         "True",
         "0.012869254955827606"
        ]
       ],
       "shape": {
        "columns": 1,
        "rows": 2
       }
      },
      "text/plain": [
       "NEGATIVE\n",
       "False    0.987131\n",
       "True     0.012869\n",
       "Name: proportion, dtype: float64"
      ]
     },
     "execution_count": 39,
     "metadata": {},
     "output_type": "execute_result"
    }
   ],
   "source": [
    "# Inserting a new column for filtering the negative numbers\n",
    "df_cleaned[\"NEGATIVE\"] = df_cleaned[cols_to_clean].lt(0).any(axis=1)\n",
    "\n",
    "df_cleaned[\"NEGATIVE\"].value_counts(normalize=True)"
   ]
  },
  {
   "cell_type": "markdown",
   "id": "4687733f",
   "metadata": {},
   "source": [
    "- We have approximately 99% of the data with debited bills and about 1 % of the data containing credited amounts.\n",
    "- We will use the debited amounts for ease of analysis.\n",
    "- For this process we will filter the 1 %"
   ]
  },
  {
   "cell_type": "code",
   "execution_count": 40,
   "id": "1a397a2a",
   "metadata": {},
   "outputs": [
    {
     "data": {
      "application/vnd.microsoft.datawrangler.viewer.v0+json": {
       "columns": [
        {
         "name": "index",
         "rawType": "int64",
         "type": "integer"
        },
        {
         "name": "REGION",
         "rawType": "string",
         "type": "string"
        },
        {
         "name": "ZONE",
         "rawType": "string",
         "type": "string"
        },
        {
         "name": "SUB_ZONE",
         "rawType": "string",
         "type": "string"
        },
        {
         "name": "INSTALLATION_KEY",
         "rawType": "string",
         "type": "string"
        },
        {
         "name": "INST_TYPE_CODE",
         "rawType": "string",
         "type": "string"
        },
        {
         "name": "INSTALLATION_TYPE_DESC",
         "rawType": "string",
         "type": "string"
        },
        {
         "name": "METER_SIZE",
         "rawType": "Float64",
         "type": "float"
        },
        {
         "name": "BILL_ESTIMATE_ACTUAL",
         "rawType": "string",
         "type": "string"
        },
        {
         "name": "BILL_VALID_INVALID",
         "rawType": "string",
         "type": "string"
        },
        {
         "name": "MAIN_SERVICE",
         "rawType": "string",
         "type": "string"
        },
        {
         "name": "SHADOW_SERVICE",
         "rawType": "string",
         "type": "string"
        },
        {
         "name": "WATER_AMOUNT",
         "rawType": "float64",
         "type": "float"
        },
        {
         "name": "SEWER_AMOUNT",
         "rawType": "float64",
         "type": "float"
        },
        {
         "name": "BILL_AMOUNT",
         "rawType": "float64",
         "type": "float"
        },
        {
         "name": "BILL_VOLUME",
         "rawType": "float64",
         "type": "float"
        },
        {
         "name": "MONTH",
         "rawType": "string",
         "type": "string"
        },
        {
         "name": "YEAR",
         "rawType": "float64",
         "type": "float"
        },
        {
         "name": "NEGATIVE",
         "rawType": "bool",
         "type": "boolean"
        }
       ],
       "ref": "b05fc61b-29e8-4499-b189-2ac2e726ebbc",
       "rows": [
        [
         "0",
         "DAGORETTI",
         "KILIMANI-KILELESHWA",
         "HURLINGHAM",
         "CV-7000001",
         "DOM",
         "DOMESTIC",
         "0.5",
         "ACTUAL",
         "VALID",
         "WAT",
         "SEW",
         "90.0",
         "86.0",
         "176.0",
         "2.0",
         "August",
         "2024.0",
         "False"
        ],
        [
         "3",
         "CENTRAL",
         "KAMUKUNJI",
         "MOI AIR BASE_BAHATI",
         "CV-7000004",
         "DOM",
         "DOMESTIC",
         "0.5",
         "ACTUAL",
         "VALID",
         "WAT",
         "SEW",
         "315.0",
         "215.0",
         "530.0",
         "7.0",
         "August",
         "2024.0",
         "False"
        ],
        [
         "4",
         "LANGATA",
         "SOUTH C- NAIROBI WEST",
         "SOUTH C_MOMBASA RD",
         "CV-7000005",
         "DOM",
         "DOMESTIC",
         "0.5",
         "ACTUAL",
         "VALID",
         "WAT",
         "SEW",
         "2860.0",
         "1834.0",
         "4694.0",
         "44.0",
         "August",
         "2024.0",
         "False"
        ],
        [
         "5",
         "LANGATA",
         "WOODLEY_UPPERHILL",
         "UPPERHILL",
         "CV-7000006",
         "DOM",
         "DOMESTIC",
         "0.5",
         "ACTUAL",
         "VALID",
         "WAT",
         "SEW",
         "90.0",
         "86.0",
         "176.0",
         "2.0",
         "August",
         "2024.0",
         "False"
        ],
        [
         "6",
         "LOWER EMBAKASI",
         "IMARA DAIMA",
         "PIPELINE",
         "CV-7000008",
         "DOM",
         "DOMESTIC",
         "0.5",
         "ACTUAL",
         "VALID",
         "WAT",
         "SEW",
         "90.0",
         "86.0",
         "176.0",
         "2.0",
         "August",
         "2024.0",
         "False"
        ]
       ],
       "shape": {
        "columns": 18,
        "rows": 5
       }
      },
      "text/html": [
       "<div>\n",
       "<style scoped>\n",
       "    .dataframe tbody tr th:only-of-type {\n",
       "        vertical-align: middle;\n",
       "    }\n",
       "\n",
       "    .dataframe tbody tr th {\n",
       "        vertical-align: top;\n",
       "    }\n",
       "\n",
       "    .dataframe thead th {\n",
       "        text-align: right;\n",
       "    }\n",
       "</style>\n",
       "<table border=\"1\" class=\"dataframe\">\n",
       "  <thead>\n",
       "    <tr style=\"text-align: right;\">\n",
       "      <th></th>\n",
       "      <th>REGION</th>\n",
       "      <th>ZONE</th>\n",
       "      <th>SUB_ZONE</th>\n",
       "      <th>INSTALLATION_KEY</th>\n",
       "      <th>INST_TYPE_CODE</th>\n",
       "      <th>INSTALLATION_TYPE_DESC</th>\n",
       "      <th>METER_SIZE</th>\n",
       "      <th>BILL_ESTIMATE_ACTUAL</th>\n",
       "      <th>BILL_VALID_INVALID</th>\n",
       "      <th>MAIN_SERVICE</th>\n",
       "      <th>SHADOW_SERVICE</th>\n",
       "      <th>WATER_AMOUNT</th>\n",
       "      <th>SEWER_AMOUNT</th>\n",
       "      <th>BILL_AMOUNT</th>\n",
       "      <th>BILL_VOLUME</th>\n",
       "      <th>MONTH</th>\n",
       "      <th>YEAR</th>\n",
       "      <th>NEGATIVE</th>\n",
       "    </tr>\n",
       "  </thead>\n",
       "  <tbody>\n",
       "    <tr>\n",
       "      <th>0</th>\n",
       "      <td>DAGORETTI</td>\n",
       "      <td>KILIMANI-KILELESHWA</td>\n",
       "      <td>HURLINGHAM</td>\n",
       "      <td>CV-7000001</td>\n",
       "      <td>DOM</td>\n",
       "      <td>DOMESTIC</td>\n",
       "      <td>0.5</td>\n",
       "      <td>ACTUAL</td>\n",
       "      <td>VALID</td>\n",
       "      <td>WAT</td>\n",
       "      <td>SEW</td>\n",
       "      <td>90.0</td>\n",
       "      <td>86.0</td>\n",
       "      <td>176.0</td>\n",
       "      <td>2.0</td>\n",
       "      <td>August</td>\n",
       "      <td>2024.0</td>\n",
       "      <td>False</td>\n",
       "    </tr>\n",
       "    <tr>\n",
       "      <th>3</th>\n",
       "      <td>CENTRAL</td>\n",
       "      <td>KAMUKUNJI</td>\n",
       "      <td>MOI AIR BASE_BAHATI</td>\n",
       "      <td>CV-7000004</td>\n",
       "      <td>DOM</td>\n",
       "      <td>DOMESTIC</td>\n",
       "      <td>0.5</td>\n",
       "      <td>ACTUAL</td>\n",
       "      <td>VALID</td>\n",
       "      <td>WAT</td>\n",
       "      <td>SEW</td>\n",
       "      <td>315.0</td>\n",
       "      <td>215.0</td>\n",
       "      <td>530.0</td>\n",
       "      <td>7.0</td>\n",
       "      <td>August</td>\n",
       "      <td>2024.0</td>\n",
       "      <td>False</td>\n",
       "    </tr>\n",
       "    <tr>\n",
       "      <th>4</th>\n",
       "      <td>LANGATA</td>\n",
       "      <td>SOUTH C- NAIROBI WEST</td>\n",
       "      <td>SOUTH C_MOMBASA RD</td>\n",
       "      <td>CV-7000005</td>\n",
       "      <td>DOM</td>\n",
       "      <td>DOMESTIC</td>\n",
       "      <td>0.5</td>\n",
       "      <td>ACTUAL</td>\n",
       "      <td>VALID</td>\n",
       "      <td>WAT</td>\n",
       "      <td>SEW</td>\n",
       "      <td>2860.0</td>\n",
       "      <td>1834.0</td>\n",
       "      <td>4694.0</td>\n",
       "      <td>44.0</td>\n",
       "      <td>August</td>\n",
       "      <td>2024.0</td>\n",
       "      <td>False</td>\n",
       "    </tr>\n",
       "    <tr>\n",
       "      <th>5</th>\n",
       "      <td>LANGATA</td>\n",
       "      <td>WOODLEY_UPPERHILL</td>\n",
       "      <td>UPPERHILL</td>\n",
       "      <td>CV-7000006</td>\n",
       "      <td>DOM</td>\n",
       "      <td>DOMESTIC</td>\n",
       "      <td>0.5</td>\n",
       "      <td>ACTUAL</td>\n",
       "      <td>VALID</td>\n",
       "      <td>WAT</td>\n",
       "      <td>SEW</td>\n",
       "      <td>90.0</td>\n",
       "      <td>86.0</td>\n",
       "      <td>176.0</td>\n",
       "      <td>2.0</td>\n",
       "      <td>August</td>\n",
       "      <td>2024.0</td>\n",
       "      <td>False</td>\n",
       "    </tr>\n",
       "    <tr>\n",
       "      <th>6</th>\n",
       "      <td>LOWER EMBAKASI</td>\n",
       "      <td>IMARA DAIMA</td>\n",
       "      <td>PIPELINE</td>\n",
       "      <td>CV-7000008</td>\n",
       "      <td>DOM</td>\n",
       "      <td>DOMESTIC</td>\n",
       "      <td>0.5</td>\n",
       "      <td>ACTUAL</td>\n",
       "      <td>VALID</td>\n",
       "      <td>WAT</td>\n",
       "      <td>SEW</td>\n",
       "      <td>90.0</td>\n",
       "      <td>86.0</td>\n",
       "      <td>176.0</td>\n",
       "      <td>2.0</td>\n",
       "      <td>August</td>\n",
       "      <td>2024.0</td>\n",
       "      <td>False</td>\n",
       "    </tr>\n",
       "  </tbody>\n",
       "</table>\n",
       "</div>"
      ],
      "text/plain": [
       "           REGION                   ZONE             SUB_ZONE  \\\n",
       "0       DAGORETTI    KILIMANI-KILELESHWA           HURLINGHAM   \n",
       "3         CENTRAL              KAMUKUNJI  MOI AIR BASE_BAHATI   \n",
       "4         LANGATA  SOUTH C- NAIROBI WEST   SOUTH C_MOMBASA RD   \n",
       "5         LANGATA      WOODLEY_UPPERHILL            UPPERHILL   \n",
       "6  LOWER EMBAKASI            IMARA DAIMA             PIPELINE   \n",
       "\n",
       "  INSTALLATION_KEY INST_TYPE_CODE INSTALLATION_TYPE_DESC  METER_SIZE  \\\n",
       "0       CV-7000001            DOM               DOMESTIC         0.5   \n",
       "3       CV-7000004            DOM               DOMESTIC         0.5   \n",
       "4       CV-7000005            DOM               DOMESTIC         0.5   \n",
       "5       CV-7000006            DOM               DOMESTIC         0.5   \n",
       "6       CV-7000008            DOM               DOMESTIC         0.5   \n",
       "\n",
       "  BILL_ESTIMATE_ACTUAL BILL_VALID_INVALID MAIN_SERVICE SHADOW_SERVICE  \\\n",
       "0               ACTUAL              VALID          WAT            SEW   \n",
       "3               ACTUAL              VALID          WAT            SEW   \n",
       "4               ACTUAL              VALID          WAT            SEW   \n",
       "5               ACTUAL              VALID          WAT            SEW   \n",
       "6               ACTUAL              VALID          WAT            SEW   \n",
       "\n",
       "   WATER_AMOUNT  SEWER_AMOUNT  BILL_AMOUNT  BILL_VOLUME   MONTH    YEAR  \\\n",
       "0          90.0          86.0        176.0          2.0  August  2024.0   \n",
       "3         315.0         215.0        530.0          7.0  August  2024.0   \n",
       "4        2860.0        1834.0       4694.0         44.0  August  2024.0   \n",
       "5          90.0          86.0        176.0          2.0  August  2024.0   \n",
       "6          90.0          86.0        176.0          2.0  August  2024.0   \n",
       "\n",
       "   NEGATIVE  \n",
       "0     False  \n",
       "3     False  \n",
       "4     False  \n",
       "5     False  \n",
       "6     False  "
      ]
     },
     "execution_count": 40,
     "metadata": {},
     "output_type": "execute_result"
    }
   ],
   "source": [
    "df_filtered = df_cleaned[(~df_cleaned['NEGATIVE']) & (df_cleaned[\"REGION\"].ne(\"REGION\"))]\n",
    "\n",
    "df_filtered.head()"
   ]
  },
  {
   "cell_type": "markdown",
   "id": "6e5a8feb",
   "metadata": {},
   "source": [
    "## Exploratory Data Analysis\n",
    "\n",
    "For this step we will look at the following elements;\n",
    "\n",
    "A. Univariate\n",
    "\n",
    "1. Distribution of clients per region\n",
    "2. Revenue generated per region\n",
    "3. Which installation types have the highest revenue\n",
    "4. Monthly water usage over time\n",
    "5. Sewerage services per region\n",
    "6. Water services per region."
   ]
  },
  {
   "cell_type": "code",
   "execution_count": 41,
   "id": "588117be",
   "metadata": {},
   "outputs": [],
   "source": [
    "# Here we will create a class for plotting the graphs to make our code reusable\n",
    "class Plot:\n",
    "    @staticmethod\n",
    "    def barplot(data, x, y, title, x_label=None, y_label=None, ):\n",
    "        plt.figure(figsize=(10,8))\n",
    "        sns. barplot(\n",
    "            x=x,\n",
    "            y=y,\n",
    "            data = data\n",
    "        )\n",
    "        plt.ylabel(y_label),\n",
    "        plt.xlabel(x_label)\n",
    "        plt.title(title)\n",
    "\n",
    "        return plt.show()\n",
    "    \n",
    "    @staticmethod\n",
    "    def lineplot(data, x, y, title, x_label=None, y_label=None):\n",
    "        plt.figure(figsize=(12,6))\n",
    "        plt.plot(data[x], data[y], marker='o', color='blue')\n",
    "        plt.xticks(rotation=45)\n",
    "        plt.xlabel(x_label)\n",
    "        plt.ylabel(y_label)\n",
    "        plt.title(title)\n",
    "        plt.grid(True)\n",
    "        plt.tight_layout()\n",
    "        plt.show()"
   ]
  },
  {
   "cell_type": "markdown",
   "id": "6464c5bd",
   "metadata": {},
   "source": [
    "### 1. DISTRIBUTION OF CLIENTS PER REGION"
   ]
  },
  {
   "cell_type": "code",
   "execution_count": 42,
   "id": "fc2cbd6a",
   "metadata": {},
   "outputs": [
    {
     "data": {
      "image/png": "[encoded data removed]",
      "text/plain": [
       "<Figure size 1000x800 with 1 Axes>"
      ]
     },
     "metadata": {},
     "output_type": "display_data"
    }
   ],
   "source": [
    "client_counts = pd.DataFrame(df_filtered.groupby(\"REGION\")[\"INSTALLATION_KEY\"].count().sort_values(ascending=False))\n",
    "df_clients = client_counts.reset_index()\n",
    "df_clients.columns = ['REGION', 'CLIENT_COUNT']\n",
    "\n",
    "Plot.barplot(data=df_clients, x='CLIENT_COUNT', y='REGION',y_label=\"Region\", x_label=\"Number of Clients\",title=\"Number of Clients per Region\")"
   ]
  },
  {
   "cell_type": "markdown",
   "id": "ff7e94f7",
   "metadata": {},
   "source": [
    "The Lower Embakasi, Roysambu, and Langata regions account for the largest share of the customer base, indicating that these areas have the highest number of connections or billed installations. In contrast, informal settlements represent the smallest share of customers, reflecting fewer registered connections or metered accounts."
   ]
  },
  {
   "cell_type": "markdown",
   "id": "19543aa3",
   "metadata": {},
   "source": [
    "### 3. REVENUES GENERATED PER REGION\n",
    "\n",
    "Here we will group the data into zones/region based on the amount of money the customers spent on the average water and sewerage bills"
   ]
  },
  {
   "cell_type": "code",
   "execution_count": 43,
   "id": "aa3c56d4",
   "metadata": {},
   "outputs": [],
   "source": [
    "zone = df_filtered.groupby('ZONE')[\"BILL_AMOUNT\"].sum()\n",
    "zone = zone.reset_index()"
   ]
  },
  {
   "cell_type": "code",
   "execution_count": 44,
   "id": "8c3b6194",
   "metadata": {},
   "outputs": [
    {
     "data": {
      "image/png": "[encoded data removed]",
      "text/plain": [
       "<Figure size 1000x800 with 1 Axes>"
      ]
     },
     "metadata": {},
     "output_type": "display_data"
    }
   ],
   "source": [
    "Plot.barplot(zone.sort_values(by='BILL_AMOUNT',ascending=False), x='BILL_AMOUNT',y='ZONE', x_label='Amount billed in Millions', title=\"Total Amount Billed per Zone\")"
   ]
  },
  {
   "cell_type": "markdown",
   "id": "1229ffef",
   "metadata": {},
   "source": [
    "The data shows that Starehe, Kilimani, Kileleshwa, and Ruaraka are the regions with the highest billed amounts per zone. This indicates that water consumption in these areas is significantly higher compared to other zones, which could be due to a combination of factors such as larger households, commercial or high-demand connections, or higher-income areas with greater water usage.\n",
    "\n",
    "From a revenue perspective, these zones represent the largest contributors to overall water billing."
   ]
  },
  {
   "cell_type": "markdown",
   "id": "a9bea224",
   "metadata": {},
   "source": [
    "#### Checking the variations in amount billed within the different zones"
   ]
  },
  {
   "cell_type": "code",
   "execution_count": 45,
   "id": "0e22a4d0",
   "metadata": {},
   "outputs": [
    {
     "data": {
      "image/png": "[encoded data removed]",
      "text/plain": [
       "<Figure size 1400x600 with 1 Axes>"
      ]
     },
     "metadata": {},
     "output_type": "display_data"
    }
   ],
   "source": [
    "df_plot = df_filtered\n",
    "plt.figure(figsize=(14,6))\n",
    "sns.boxplot(x=\"ZONE\", y=\"BILL_AMOUNT\", data=df_plot)\n",
    "plt.xticks(rotation=90)\n",
    "plt.title(\"Distribution of Amount billed per Zone\")\n",
    "plt.show()"
   ]
  },
  {
   "cell_type": "code",
   "execution_count": 46,
   "id": "2250b1d9",
   "metadata": {},
   "outputs": [
    {
     "data": {
      "image/png": "[encoded data removed]",
      "text/plain": [
       "<Figure size 1000x800 with 1 Axes>"
      ]
     },
     "metadata": {},
     "output_type": "display_data"
    }
   ],
   "source": [
    "# Group by 'ZONE' and calculate standard deviation of 'BILL_AMOUNT'\n",
    "zone_variability = df_filtered.groupby('ZONE')['BILL_AMOUNT'].std().reset_index()\n",
    "\n",
    "# Rename column for clarity\n",
    "zone_variability.columns = ['ZONE', 'STD_BILL_AMOUNT']\n",
    "\n",
    "# Sort descending to see which zone has the highest variability\n",
    "zone_variability_sorted = zone_variability.sort_values(by='STD_BILL_AMOUNT', ascending=False)\n",
    "\n",
    "Plot.barplot(zone_variability_sorted, \"STD_BILL_AMOUNT\", \"ZONE\",\"Variations in Amount paid per zone\")\n"
   ]
  },
  {
   "cell_type": "markdown",
   "id": "f0d46c9c",
   "metadata": {},
   "source": [
    "From the graph above, we can observe clear differences in the variability of billed water amounts across zones. The Ngumba - Mwiki area exhibits the highest variation in billed amounts, which suggests a wide range of water consumption patterns. This could be due to a combination of high-volume users, irregular consumption habits, or differences in connection types such as residential versus commercial. Such variability might also indicate potential inefficiencies in billing or instances of unmetered usage.\n",
    "\n",
    "The Nyayo and Dandora zones also show relatively high variability, although not as extreme as Ngumba - Mwiki. These areas may contain a mix of consumer types, leading to fluctuations in billed amounts. On the other hand, the Nairobi East zone shows the lowest variation, implying that water consumption is more uniform across users. This consistency could reflect standardized consumption patterns, fewer high-volume users, or better-metered and controlled distribution.\n",
    "\n",
    "From a water management and revenue perspective, zones with higher variation warrant closer attention. They may benefit from targeted audits, leak detection, or consumption monitoring to reduce losses and improve billing accuracy. Conversely, zones with low variation are more predictable and may require less intensive monitoring, allowing resources to be focused on higher-risk areas."
   ]
  },
  {
   "cell_type": "markdown",
   "id": "2fa6b1c3",
   "metadata": {},
   "source": [
    "### 3. REVENUES PER INSTALLATION TYPE"
   ]
  },
  {
   "cell_type": "code",
   "execution_count": 47,
   "id": "5713b532",
   "metadata": {},
   "outputs": [
    {
     "data": {
      "image/png": "[encoded data removed]",
      "text/plain": [
       "<Figure size 1000x800 with 1 Axes>"
      ]
     },
     "metadata": {},
     "output_type": "display_data"
    }
   ],
   "source": [
    "revenues_per_type = df_filtered.groupby(\"INSTALLATION_TYPE_DESC\")[\"BILL_AMOUNT\"].sum().sort_values(ascending=False)\n",
    "# Convert Series to DataFrame\n",
    "revenues_df = revenues_per_type.reset_index()\n",
    "revenues_df.columns = [\"INSTALLATION_TYPE\", \"BILL_AMOUNT\"]\n",
    "\n",
    "Plot.barplot(revenues_df, \"BILL_AMOUNT\", \"INSTALLATION_TYPE\", title=\"Revenues per installation type\", x_label='Amount in Billions')\n"
   ]
  },
  {
   "cell_type": "markdown",
   "id": "108fe4b9",
   "metadata": {},
   "source": [
    "### 4. MONTHLY USAGE OVER TIME"
   ]
  },
  {
   "cell_type": "code",
   "execution_count": 48,
   "id": "dde043df",
   "metadata": {},
   "outputs": [
    {
     "data": {
      "image/png": "[encoded data removed]",
      "text/plain": [
       "<Figure size 1200x600 with 1 Axes>"
      ]
     },
     "metadata": {},
     "output_type": "display_data"
    }
   ],
   "source": [
    "# Here we will group the columns by month and year and sum total the water amount to get the monthly revenue\n",
    "monthly_rev = df_filtered.groupby([\"MONTH\", \"YEAR\"])[\"BILL_VOLUME\"].sum().sort_values(ascending=False)\n",
    "\n",
    "# Here we will convert our series to a DataFrame\n",
    "df_monthly = monthly_rev.reset_index()\n",
    "\n",
    "month_map = {\n",
    "    \"January\":\"Jan\",\"February\":\"Feb\",\"March\":\"Mar\",\"April\":\"Apr\",\"May\":\"May\",\"June\":\"Jun\",\n",
    "    \"July\":\"Jul\",\"August\":\"Aug\",\"September\":\"Sept\",\"Sep\":\"Sept\",\"October\":\"Oct\",\"November\":\"Nov\",\"December\":\"Dec\"\n",
    "}\n",
    "df_monthly['MONTH'] = df_monthly['MONTH'].replace(month_map)\n",
    "\n",
    "mask = (df_monthly['MONTH'].str.startswith('Sep')) & (df_monthly['YEAR'] == 2024)\n",
    "\n",
    "df_monthly.loc[mask, 'DATE'] = pd.to_datetime('2024-09-01')\n",
    "\n",
    "df_monthly['DATE'] = pd.to_datetime(\n",
    "    df_monthly['MONTH'] + '-' + df_monthly['YEAR'].astype(int).astype(str),\n",
    "    format='%b-%Y',\n",
    "    errors='coerce'\n",
    ")\n",
    "\n",
    "\n",
    "# Create a proper datetime\n",
    "# df_monthly['DATE'] = pd.to_datetime(df_monthly['MONTH'].astype(str) + '-' + df_monthly['YEAR'].astype(int).astype(str), format='%b-%Y', errors='coerce')\n",
    "\n",
    "# Sort by date\n",
    "df_monthly = df_monthly.sort_values('DATE')\n",
    "\n",
    "# Use the Plot class\n",
    "Plot.lineplot(\n",
    "    df_monthly,\n",
    "    x='DATE',\n",
    "    y='BILL_VOLUME',\n",
    "    title='Monthly Water Usage',\n",
    "    x_label='Month-Year',\n",
    "    y_label='Water Billed (m³)'\n",
    ")"
   ]
  },
  {
   "cell_type": "markdown",
   "id": "c92c5502",
   "metadata": {},
   "source": [
    "The monthly billed water volumes reveal a clear upward trend from late 2024 into early 2025. The lowest consumption was recorded in October 2024 at about 8.97 million m³, closely followed by December 2024 (9.07 million m³) and September 2024 (9.23 million m³). Usage then increased steadily, peaking in February 2025 at 10.51 million m³, with similarly high volumes in May 2025 (10.50 million m³) and January 2025 (10.19 million m³).\n",
    "\n",
    "This progression suggests a possible seasonal effect, where demand was relatively lower towards the end of 2024 and rose in the first quarter of 2025, likely reflecting shifts in consumption patterns or service coverage."
   ]
  },
  {
   "cell_type": "markdown",
   "id": "43522085",
   "metadata": {},
   "source": [
    "#### % Loss of water\n",
    "\n",
    "An interesting thing to look at here is the % of water that is lost or volume lost. Over the months\n",
    "\n",
    "- For this step we will first load in the water produced dataset\n",
    "- Clean the data and standardize the column names for ease of referencing"
   ]
  },
  {
   "cell_type": "code",
   "execution_count": 49,
   "id": "6388530d",
   "metadata": {},
   "outputs": [
    {
     "data": {
      "application/vnd.microsoft.datawrangler.viewer.v0+json": {
       "columns": [
        {
         "name": "index",
         "rawType": "int64",
         "type": "integer"
        },
        {
         "name": "MONTH",
         "rawType": "object",
         "type": "string"
        },
        {
         "name": "TOTAL_PRODUCTION",
         "rawType": "float64",
         "type": "float"
        }
       ],
       "ref": "5c346a33-d75f-4df1-a912-406cfacf7c95",
       "rows": [
        [
         "0",
         "Jul-24",
         "15438266.56"
        ],
        [
         "1",
         "Aug-24",
         "16286171.66"
        ],
        [
         "2",
         "Sept-24",
         "16096105.72"
        ],
        [
         "3",
         "Oct-24",
         "15093036.26"
        ],
        [
         "4",
         "Nov-24",
         "16366360.14"
        ],
        [
         "5",
         "Dec-24",
         "16378781.83"
        ],
        [
         "6",
         "Jan-25",
         "18542157.83"
        ],
        [
         "7",
         "Feb-25",
         "18696062.58"
        ],
        [
         "8",
         "Mar-25",
         "17760442.28"
        ],
        [
         "9",
         "Apr-25",
         "18979065.48"
        ],
        [
         "10",
         "May-25",
         "19009876.16"
        ],
        [
         "11",
         "Jun-25",
         "18998776.61"
        ],
        [
         "12",
         "Jul-25",
         "19185511.54"
        ]
       ],
       "shape": {
        "columns": 2,
        "rows": 13
       }
      },
      "text/html": [
       "<div>\n",
       "<style scoped>\n",
       "    .dataframe tbody tr th:only-of-type {\n",
       "        vertical-align: middle;\n",
       "    }\n",
       "\n",
       "    .dataframe tbody tr th {\n",
       "        vertical-align: top;\n",
       "    }\n",
       "\n",
       "    .dataframe thead th {\n",
       "        text-align: right;\n",
       "    }\n",
       "</style>\n",
       "<table border=\"1\" class=\"dataframe\">\n",
       "  <thead>\n",
       "    <tr style=\"text-align: right;\">\n",
       "      <th></th>\n",
       "      <th>MONTH</th>\n",
       "      <th>TOTAL_PRODUCTION</th>\n",
       "    </tr>\n",
       "  </thead>\n",
       "  <tbody>\n",
       "    <tr>\n",
       "      <th>0</th>\n",
       "      <td>Jul-24</td>\n",
       "      <td>15438266.56</td>\n",
       "    </tr>\n",
       "    <tr>\n",
       "      <th>1</th>\n",
       "      <td>Aug-24</td>\n",
       "      <td>16286171.66</td>\n",
       "    </tr>\n",
       "    <tr>\n",
       "      <th>2</th>\n",
       "      <td>Sept-24</td>\n",
       "      <td>16096105.72</td>\n",
       "    </tr>\n",
       "    <tr>\n",
       "      <th>3</th>\n",
       "      <td>Oct-24</td>\n",
       "      <td>15093036.26</td>\n",
       "    </tr>\n",
       "    <tr>\n",
       "      <th>4</th>\n",
       "      <td>Nov-24</td>\n",
       "      <td>16366360.14</td>\n",
       "    </tr>\n",
       "    <tr>\n",
       "      <th>5</th>\n",
       "      <td>Dec-24</td>\n",
       "      <td>16378781.83</td>\n",
       "    </tr>\n",
       "    <tr>\n",
       "      <th>6</th>\n",
       "      <td>Jan-25</td>\n",
       "      <td>18542157.83</td>\n",
       "    </tr>\n",
       "    <tr>\n",
       "      <th>7</th>\n",
       "      <td>Feb-25</td>\n",
       "      <td>18696062.58</td>\n",
       "    </tr>\n",
       "    <tr>\n",
       "      <th>8</th>\n",
       "      <td>Mar-25</td>\n",
       "      <td>17760442.28</td>\n",
       "    </tr>\n",
       "    <tr>\n",
       "      <th>9</th>\n",
       "      <td>Apr-25</td>\n",
       "      <td>18979065.48</td>\n",
       "    </tr>\n",
       "    <tr>\n",
       "      <th>10</th>\n",
       "      <td>May-25</td>\n",
       "      <td>19009876.16</td>\n",
       "    </tr>\n",
       "    <tr>\n",
       "      <th>11</th>\n",
       "      <td>Jun-25</td>\n",
       "      <td>18998776.61</td>\n",
       "    </tr>\n",
       "    <tr>\n",
       "      <th>12</th>\n",
       "      <td>Jul-25</td>\n",
       "      <td>19185511.54</td>\n",
       "    </tr>\n",
       "  </tbody>\n",
       "</table>\n",
       "</div>"
      ],
      "text/plain": [
       "      MONTH  TOTAL_PRODUCTION\n",
       "0    Jul-24       15438266.56\n",
       "1    Aug-24       16286171.66\n",
       "2   Sept-24       16096105.72\n",
       "3    Oct-24       15093036.26\n",
       "4    Nov-24       16366360.14\n",
       "5    Dec-24       16378781.83\n",
       "6    Jan-25       18542157.83\n",
       "7    Feb-25       18696062.58\n",
       "8    Mar-25       17760442.28\n",
       "9    Apr-25       18979065.48\n",
       "10   May-25       19009876.16\n",
       "11   Jun-25       18998776.61\n",
       "12   Jul-25       19185511.54"
      ]
     },
     "execution_count": 49,
     "metadata": {},
     "output_type": "execute_result"
    }
   ],
   "source": [
    "# 1. Load in the production volumes\n",
    "vol_produced = pd.read_csv(\"Copy of Water_Produced.xlsx - PRODUCTION.csv\")\n",
    "# 3. Rename the columns\n",
    "vol_produced = vol_produced.loc[:,['MONTH','TOTAL PRODUCTION  (m3)']].rename(columns={'TOTAL PRODUCTION  (m3)': 'TOTAL_PRODUCTION'})\n",
    "# 2. Remove all the commas\n",
    "vol_produced['TOTAL_PRODUCTION'] = vol_produced['TOTAL_PRODUCTION'].replace(',', '', regex=True).astype(float)\n",
    "vol_produced"
   ]
  },
  {
   "cell_type": "code",
   "execution_count": 50,
   "id": "96d330ac",
   "metadata": {},
   "outputs": [
    {
     "data": {
      "application/vnd.microsoft.datawrangler.viewer.v0+json": {
       "columns": [
        {
         "name": "index",
         "rawType": "int64",
         "type": "integer"
        },
        {
         "name": "MONTH",
         "rawType": "string",
         "type": "string"
        },
        {
         "name": "YEAR",
         "rawType": "float64",
         "type": "float"
        },
        {
         "name": "BILL_VOLUME",
         "rawType": "float64",
         "type": "float"
        },
        {
         "name": "DATE",
         "rawType": "datetime64[ns]",
         "type": "datetime"
        }
       ],
       "ref": "56827e32-7db7-45af-a257-852083dc251b",
       "rows": [
        [
         "6",
         "Aug",
         "2024.0",
         "9369921.0",
         "2024-08-01 00:00:00"
        ],
        [
         "7",
         "Sept",
         "2024.0",
         "9233875.0",
         "2024-09-01 00:00:00"
        ],
        [
         "9",
         "Oct",
         "2024.0",
         "8970674.0",
         "2024-10-01 00:00:00"
        ],
        [
         "2",
         "Nov",
         "2024.0",
         "10317314.0",
         "2024-11-01 00:00:00"
        ],
        [
         "8",
         "Dec",
         "2024.0",
         "9066178.0",
         "2024-12-01 00:00:00"
        ],
        [
         "3",
         "Jan",
         "2025.0",
         "10190324.0",
         "2025-01-01 00:00:00"
        ],
        [
         "0",
         "Feb",
         "2025.0",
         "10513042.0",
         "2025-02-01 00:00:00"
        ],
        [
         "4",
         "Mar",
         "2025.0",
         "10105291.0",
         "2025-03-01 00:00:00"
        ],
        [
         "5",
         "Apr",
         "2025.0",
         "9950653.0",
         "2025-04-01 00:00:00"
        ],
        [
         "1",
         "May",
         "2025.0",
         "10503746.0",
         "2025-05-01 00:00:00"
        ]
       ],
       "shape": {
        "columns": 4,
        "rows": 10
       }
      },
      "text/html": [
       "<div>\n",
       "<style scoped>\n",
       "    .dataframe tbody tr th:only-of-type {\n",
       "        vertical-align: middle;\n",
       "    }\n",
       "\n",
       "    .dataframe tbody tr th {\n",
       "        vertical-align: top;\n",
       "    }\n",
       "\n",
       "    .dataframe thead th {\n",
       "        text-align: right;\n",
       "    }\n",
       "</style>\n",
       "<table border=\"1\" class=\"dataframe\">\n",
       "  <thead>\n",
       "    <tr style=\"text-align: right;\">\n",
       "      <th></th>\n",
       "      <th>MONTH</th>\n",
       "      <th>YEAR</th>\n",
       "      <th>BILL_VOLUME</th>\n",
       "      <th>DATE</th>\n",
       "    </tr>\n",
       "  </thead>\n",
       "  <tbody>\n",
       "    <tr>\n",
       "      <th>6</th>\n",
       "      <td>Aug</td>\n",
       "      <td>2024.0</td>\n",
       "      <td>9369921.0</td>\n",
       "      <td>2024-08-01</td>\n",
       "    </tr>\n",
       "    <tr>\n",
       "      <th>7</th>\n",
       "      <td>Sept</td>\n",
       "      <td>2024.0</td>\n",
       "      <td>9233875.0</td>\n",
       "      <td>2024-09-01</td>\n",
       "    </tr>\n",
       "    <tr>\n",
       "      <th>9</th>\n",
       "      <td>Oct</td>\n",
       "      <td>2024.0</td>\n",
       "      <td>8970674.0</td>\n",
       "      <td>2024-10-01</td>\n",
       "    </tr>\n",
       "    <tr>\n",
       "      <th>2</th>\n",
       "      <td>Nov</td>\n",
       "      <td>2024.0</td>\n",
       "      <td>10317314.0</td>\n",
       "      <td>2024-11-01</td>\n",
       "    </tr>\n",
       "    <tr>\n",
       "      <th>8</th>\n",
       "      <td>Dec</td>\n",
       "      <td>2024.0</td>\n",
       "      <td>9066178.0</td>\n",
       "      <td>2024-12-01</td>\n",
       "    </tr>\n",
       "    <tr>\n",
       "      <th>3</th>\n",
       "      <td>Jan</td>\n",
       "      <td>2025.0</td>\n",
       "      <td>10190324.0</td>\n",
       "      <td>2025-01-01</td>\n",
       "    </tr>\n",
       "    <tr>\n",
       "      <th>0</th>\n",
       "      <td>Feb</td>\n",
       "      <td>2025.0</td>\n",
       "      <td>10513042.0</td>\n",
       "      <td>2025-02-01</td>\n",
       "    </tr>\n",
       "    <tr>\n",
       "      <th>4</th>\n",
       "      <td>Mar</td>\n",
       "      <td>2025.0</td>\n",
       "      <td>10105291.0</td>\n",
       "      <td>2025-03-01</td>\n",
       "    </tr>\n",
       "    <tr>\n",
       "      <th>5</th>\n",
       "      <td>Apr</td>\n",
       "      <td>2025.0</td>\n",
       "      <td>9950653.0</td>\n",
       "      <td>2025-04-01</td>\n",
       "    </tr>\n",
       "    <tr>\n",
       "      <th>1</th>\n",
       "      <td>May</td>\n",
       "      <td>2025.0</td>\n",
       "      <td>10503746.0</td>\n",
       "      <td>2025-05-01</td>\n",
       "    </tr>\n",
       "  </tbody>\n",
       "</table>\n",
       "</div>"
      ],
      "text/plain": [
       "  MONTH    YEAR  BILL_VOLUME       DATE\n",
       "6   Aug  2024.0    9369921.0 2024-08-01\n",
       "7  Sept  2024.0    9233875.0 2024-09-01\n",
       "9   Oct  2024.0    8970674.0 2024-10-01\n",
       "2   Nov  2024.0   10317314.0 2024-11-01\n",
       "8   Dec  2024.0    9066178.0 2024-12-01\n",
       "3   Jan  2025.0   10190324.0 2025-01-01\n",
       "0   Feb  2025.0   10513042.0 2025-02-01\n",
       "4   Mar  2025.0   10105291.0 2025-03-01\n",
       "5   Apr  2025.0    9950653.0 2025-04-01\n",
       "1   May  2025.0   10503746.0 2025-05-01"
      ]
     },
     "execution_count": 50,
     "metadata": {},
     "output_type": "execute_result"
    }
   ],
   "source": [
    "monthly_rev_df = monthly_rev.reset_index()\n",
    "df_monthly"
   ]
  },
  {
   "cell_type": "code",
   "execution_count": 51,
   "id": "d7621b0c",
   "metadata": {},
   "outputs": [
    {
     "data": {
      "application/vnd.microsoft.datawrangler.viewer.v0+json": {
       "columns": [
        {
         "name": "index",
         "rawType": "int64",
         "type": "integer"
        },
        {
         "name": "MONTH_YEAR",
         "rawType": "object",
         "type": "string"
        },
        {
         "name": "TOTAL_PRODUCTION",
         "rawType": "float64",
         "type": "float"
        },
        {
         "name": "BILLED_VOLUME",
         "rawType": "float64",
         "type": "float"
        },
        {
         "name": "LOSS",
         "rawType": "float64",
         "type": "float"
        },
        {
         "name": "LOSS_PERCENT",
         "rawType": "float64",
         "type": "float"
        },
        {
         "name": "DATE",
         "rawType": "datetime64[ns]",
         "type": "datetime"
        }
       ],
       "ref": "171352a5-4b45-4933-80ad-77342acf747e",
       "rows": [
        [
         "0",
         "Aug-24",
         "16286171.66",
         "9369921.0",
         "6916250.66",
         "42.47",
         "2024-08-01 00:00:00"
        ],
        [
         "1",
         "Sept-24",
         "16096105.72",
         "9233875.0",
         "6862230.720000001",
         "42.63",
         "2024-09-01 00:00:00"
        ],
        [
         "2",
         "Oct-24",
         "15093036.26",
         "8970674.0",
         "6122362.26",
         "40.56",
         "2024-10-01 00:00:00"
        ],
        [
         "3",
         "Nov-24",
         "16366360.14",
         "10317314.0",
         "6049046.140000001",
         "36.96",
         "2024-11-01 00:00:00"
        ],
        [
         "4",
         "Dec-24",
         "16378781.83",
         "9066178.0",
         "7312603.83",
         "44.65",
         "2024-12-01 00:00:00"
        ],
        [
         "5",
         "Jan-25",
         "18542157.83",
         "10190324.0",
         "8351833.829999998",
         "45.04",
         "2025-01-01 00:00:00"
        ],
        [
         "6",
         "Feb-25",
         "18696062.58",
         "10513042.0",
         "8183020.579999998",
         "43.77",
         "2025-02-01 00:00:00"
        ],
        [
         "7",
         "Mar-25",
         "17760442.28",
         "10105291.0",
         "7655151.280000001",
         "43.1",
         "2025-03-01 00:00:00"
        ],
        [
         "8",
         "Apr-25",
         "18979065.48",
         "9950653.0",
         "9028412.48",
         "47.57",
         "2025-04-01 00:00:00"
        ],
        [
         "9",
         "May-25",
         "19009876.16",
         "10503746.0",
         "8506130.16",
         "44.75",
         "2025-05-01 00:00:00"
        ]
       ],
       "shape": {
        "columns": 6,
        "rows": 10
       }
      },
      "text/html": [
       "<div>\n",
       "<style scoped>\n",
       "    .dataframe tbody tr th:only-of-type {\n",
       "        vertical-align: middle;\n",
       "    }\n",
       "\n",
       "    .dataframe tbody tr th {\n",
       "        vertical-align: top;\n",
       "    }\n",
       "\n",
       "    .dataframe thead th {\n",
       "        text-align: right;\n",
       "    }\n",
       "</style>\n",
       "<table border=\"1\" class=\"dataframe\">\n",
       "  <thead>\n",
       "    <tr style=\"text-align: right;\">\n",
       "      <th></th>\n",
       "      <th>MONTH_YEAR</th>\n",
       "      <th>TOTAL_PRODUCTION</th>\n",
       "      <th>BILLED_VOLUME</th>\n",
       "      <th>LOSS</th>\n",
       "      <th>LOSS_PERCENT</th>\n",
       "      <th>DATE</th>\n",
       "    </tr>\n",
       "  </thead>\n",
       "  <tbody>\n",
       "    <tr>\n",
       "      <th>0</th>\n",
       "      <td>Aug-24</td>\n",
       "      <td>16286171.66</td>\n",
       "      <td>9369921.0</td>\n",
       "      <td>6916250.66</td>\n",
       "      <td>42.47</td>\n",
       "      <td>2024-08-01</td>\n",
       "    </tr>\n",
       "    <tr>\n",
       "      <th>1</th>\n",
       "      <td>Sept-24</td>\n",
       "      <td>16096105.72</td>\n",
       "      <td>9233875.0</td>\n",
       "      <td>6862230.72</td>\n",
       "      <td>42.63</td>\n",
       "      <td>2024-09-01</td>\n",
       "    </tr>\n",
       "    <tr>\n",
       "      <th>2</th>\n",
       "      <td>Oct-24</td>\n",
       "      <td>15093036.26</td>\n",
       "      <td>8970674.0</td>\n",
       "      <td>6122362.26</td>\n",
       "      <td>40.56</td>\n",
       "      <td>2024-10-01</td>\n",
       "    </tr>\n",
       "    <tr>\n",
       "      <th>3</th>\n",
       "      <td>Nov-24</td>\n",
       "      <td>16366360.14</td>\n",
       "      <td>10317314.0</td>\n",
       "      <td>6049046.14</td>\n",
       "      <td>36.96</td>\n",
       "      <td>2024-11-01</td>\n",
       "    </tr>\n",
       "    <tr>\n",
       "      <th>4</th>\n",
       "      <td>Dec-24</td>\n",
       "      <td>16378781.83</td>\n",
       "      <td>9066178.0</td>\n",
       "      <td>7312603.83</td>\n",
       "      <td>44.65</td>\n",
       "      <td>2024-12-01</td>\n",
       "    </tr>\n",
       "    <tr>\n",
       "      <th>5</th>\n",
       "      <td>Jan-25</td>\n",
       "      <td>18542157.83</td>\n",
       "      <td>10190324.0</td>\n",
       "      <td>8351833.83</td>\n",
       "      <td>45.04</td>\n",
       "      <td>2025-01-01</td>\n",
       "    </tr>\n",
       "    <tr>\n",
       "      <th>6</th>\n",
       "      <td>Feb-25</td>\n",
       "      <td>18696062.58</td>\n",
       "      <td>10513042.0</td>\n",
       "      <td>8183020.58</td>\n",
       "      <td>43.77</td>\n",
       "      <td>2025-02-01</td>\n",
       "    </tr>\n",
       "    <tr>\n",
       "      <th>7</th>\n",
       "      <td>Mar-25</td>\n",
       "      <td>17760442.28</td>\n",
       "      <td>10105291.0</td>\n",
       "      <td>7655151.28</td>\n",
       "      <td>43.10</td>\n",
       "      <td>2025-03-01</td>\n",
       "    </tr>\n",
       "    <tr>\n",
       "      <th>8</th>\n",
       "      <td>Apr-25</td>\n",
       "      <td>18979065.48</td>\n",
       "      <td>9950653.0</td>\n",
       "      <td>9028412.48</td>\n",
       "      <td>47.57</td>\n",
       "      <td>2025-04-01</td>\n",
       "    </tr>\n",
       "    <tr>\n",
       "      <th>9</th>\n",
       "      <td>May-25</td>\n",
       "      <td>19009876.16</td>\n",
       "      <td>10503746.0</td>\n",
       "      <td>8506130.16</td>\n",
       "      <td>44.75</td>\n",
       "      <td>2025-05-01</td>\n",
       "    </tr>\n",
       "  </tbody>\n",
       "</table>\n",
       "</div>"
      ],
      "text/plain": [
       "  MONTH_YEAR  TOTAL_PRODUCTION  BILLED_VOLUME        LOSS  LOSS_PERCENT  \\\n",
       "0     Aug-24       16286171.66      9369921.0  6916250.66         42.47   \n",
       "1    Sept-24       16096105.72      9233875.0  6862230.72         42.63   \n",
       "2     Oct-24       15093036.26      8970674.0  6122362.26         40.56   \n",
       "3     Nov-24       16366360.14     10317314.0  6049046.14         36.96   \n",
       "4     Dec-24       16378781.83      9066178.0  7312603.83         44.65   \n",
       "5     Jan-25       18542157.83     10190324.0  8351833.83         45.04   \n",
       "6     Feb-25       18696062.58     10513042.0  8183020.58         43.77   \n",
       "7     Mar-25       17760442.28     10105291.0  7655151.28         43.10   \n",
       "8     Apr-25       18979065.48      9950653.0  9028412.48         47.57   \n",
       "9     May-25       19009876.16     10503746.0  8506130.16         44.75   \n",
       "\n",
       "        DATE  \n",
       "0 2024-08-01  \n",
       "1 2024-09-01  \n",
       "2 2024-10-01  \n",
       "3 2024-11-01  \n",
       "4 2024-12-01  \n",
       "5 2025-01-01  \n",
       "6 2025-02-01  \n",
       "7 2025-03-01  \n",
       "8 2025-04-01  \n",
       "9 2025-05-01  "
      ]
     },
     "execution_count": 51,
     "metadata": {},
     "output_type": "execute_result"
    }
   ],
   "source": [
    "# --- Clean df_monthly ---\n",
    "# Renaming column for consistency\n",
    "df_monthly = df_monthly.rename(columns={\"BILL_VOLUME\": \"BILLED_VOLUME\"})\n",
    "\n",
    "# Ensuring YEAR is integer\n",
    "df_monthly[\"YEAR\"] = df_monthly[\"YEAR\"].astype(int)\n",
    "\n",
    "# Building a clean month-year key\"\n",
    "df_monthly[\"MONTH_YEAR\"] = df_monthly.apply(\n",
    "    lambda row: (\n",
    "        row[\"MONTH\"][:4] + \"-\" + str(int(row[\"YEAR\"]))[-2:]\n",
    "        if row[\"MONTH\"] == \"Sept\"\n",
    "        else row[\"MONTH\"][:3] + \"-\" + str(int(row[\"YEAR\"]))[-2:]\n",
    "    ),\n",
    "    axis=1\n",
    ")\n",
    "\n",
    "\n",
    "# --- Clean vol_produced ---\n",
    "# If it's string with commas clean it, else leave as is\n",
    "if vol_produced[\"TOTAL_PRODUCTION\"].dtype == \"object\":\n",
    "    vol_produced[\"TOTAL_PRODUCTION\"] = (\n",
    "        vol_produced[\"TOTAL_PRODUCTION\"].str.replace(\",\", \"\").astype(float)\n",
    "    )\n",
    "else:\n",
    "    vol_produced[\"TOTAL_PRODUCTION\"] = vol_produced[\"TOTAL_PRODUCTION\"].astype(float)\n",
    "\n",
    "# Ensuring column name is consistent\n",
    "vol_produced = vol_produced.rename(columns={\"MONTH\": \"MONTH_YEAR\"})\n",
    "\n",
    "# --- Merge ---\n",
    "df_merged = pd.merge(\n",
    "    df_monthly[[\"MONTH_YEAR\", \"BILLED_VOLUME\"]],\n",
    "    vol_produced,\n",
    "    on=\"MONTH_YEAR\",\n",
    "    how=\"outer\"\n",
    ")\n",
    "\n",
    "# --- Calculating losses ---\n",
    "df_merged[\"LOSS\"] = df_merged[\"TOTAL_PRODUCTION\"] - df_merged[\"BILLED_VOLUME\"]\n",
    "df_merged[\"LOSS_PERCENT\"] = (\n",
    "    (df_merged[\"LOSS\"] / df_merged[\"TOTAL_PRODUCTION\"]) * 100\n",
    ").round(2)\n",
    "\n",
    "# --- Final result ---\n",
    "df_result = df_merged[[\"MONTH_YEAR\", \"TOTAL_PRODUCTION\", \"BILLED_VOLUME\", \"LOSS\", \"LOSS_PERCENT\"]]\n",
    "\n",
    "df_result = df_result.dropna()\n",
    "\n",
    "df_result[\"DATE\"] = pd.to_datetime(df_result[\"MONTH_YEAR\"], format=\"%b-%y\")\n",
    "\n",
    "# Sort by DATE\n",
    "df_result = df_result.sort_values(\"DATE\").reset_index(drop=True)\n",
    "\n",
    "df_result"
   ]
  },
  {
   "cell_type": "code",
   "execution_count": 52,
   "id": "0322c839",
   "metadata": {},
   "outputs": [
    {
     "data": {
      "image/png": "[encoded data removed]",
      "text/plain": [
       "<Figure size 1400x700 with 2 Axes>"
      ]
     },
     "metadata": {},
     "output_type": "display_data"
    }
   ],
   "source": [
    "plt.figure(figsize=(14,7))\n",
    "\n",
    "# --- Left axis (volumes) ---\n",
    "ax1 = plt.gca()\n",
    "ax1.plot(df_result[\"MONTH_YEAR\"], df_result[\"TOTAL_PRODUCTION\"], \n",
    "         marker=\"o\", linewidth=2.2, label=\"Produced Volume\", color=\"#1f77b4\")\n",
    "ax1.plot(df_result[\"MONTH_YEAR\"], df_result[\"BILLED_VOLUME\"], \n",
    "         marker=\"o\", linewidth=2.2, label=\"Billed Volume\", color=\"#2ca02c\")\n",
    "ax1.plot(df_result[\"MONTH_YEAR\"], df_result[\"LOSS\"], \n",
    "         marker=\"o\", linewidth=2.2, label=\"Lost Volume\", color=\"#d62728\")\n",
    "\n",
    "# Styling\n",
    "ax1.set_xlabel(\"Month-Year\", fontsize=12)\n",
    "ax1.set_ylabel(\"Volume (m³)\", fontsize=12, color=\"black\")\n",
    "ax1.tick_params(axis=\"x\", rotation=45)\n",
    "ax1.grid(True, linestyle=\"--\", alpha=0.6)\n",
    "\n",
    "# --- Right axis (% loss) ---\n",
    "ax2 = ax1.twinx()\n",
    "ax2.plot(df_result[\"MONTH_YEAR\"], df_result[\"LOSS_PERCENT\"], \n",
    "         marker=\"s\", linestyle=\"-.\", linewidth=2, label=\"% Loss\", color=\"#ff7f0e\")\n",
    "ax2.set_ylabel(\"Loss Percentage (%)\", fontsize=12, color=\"#ff7f0e\")\n",
    "ax2.tick_params(axis=\"y\", colors=\"#ff7f0e\")\n",
    "\n",
    "# --- Title and Legends ---\n",
    "plt.title(\"Water Production, Usage, and Loss Trends\", fontsize=14, fontweight=\"light\")\n",
    "\n",
    "# Combine legends from both axes\n",
    "lines, labels = ax1.get_legend_handles_labels()\n",
    "lines2, labels2 = ax2.get_legend_handles_labels()\n",
    "ax1.legend(lines + lines2, labels + labels2, loc=\"upper left\", fontsize=10, frameon=True)\n",
    "\n",
    "plt.tight_layout()\n",
    "plt.show()\n"
   ]
  },
  {
   "cell_type": "markdown",
   "id": "92a6baca",
   "metadata": {},
   "source": [
    " - Between August 2024 and May 2025, the data shows a consistent gap between the volume of water produced and the volume that is ultimately billed to consumers. On average, production ranged between 15 and 19 million units per month, while billed consumption remained much lower, hovering around 10 million units. This gap translates into substantial losses, typically between 6 and 9 million units every month.\n",
    "\n",
    "- When measured as a percentage of production, these losses represent a persistent challenge. The share of water lost fluctuated between about 37 percent and 48 percent during the period under review. November 2024 recorded the lowest loss rate at just under 37 percent, while April 2025 stood out as the month with the highest losses, at nearly 48 percent.\n",
    "\n",
    "- The overall picture suggests that, despite stable and at times rising production levels, more than 40 percent of the water produced is not being accounted for in revenue."
   ]
  },
  {
   "cell_type": "markdown",
   "id": "ee542626",
   "metadata": {},
   "source": [
    "#### 5. WATER USAGE PER REGION"
   ]
  },
  {
   "cell_type": "code",
   "execution_count": 53,
   "id": "6005def2",
   "metadata": {},
   "outputs": [
    {
     "data": {
      "image/png": "[encoded data removed]",
      "text/plain": [
       "<Figure size 1000x800 with 1 Axes>"
      ]
     },
     "metadata": {},
     "output_type": "display_data"
    }
   ],
   "source": [
    "regional_consumption = pd.DataFrame(df_filtered.groupby(\"REGION\")[\"BILL_VOLUME\"].sum().sort_values(ascending=False))\n",
    "regional_consumption = regional_consumption.reset_index()\n",
    "regional_consumption.columns = ['REGION', 'BILL_VOLUME']\n",
    "\n",
    "Plot.barplot(data=regional_consumption, x='BILL_VOLUME', y='REGION',y_label=\"Region\", x_label=\"Water usage per region\",title=\"Water usage per Region\")\n",
    "\n"
   ]
  },
  {
   "cell_type": "markdown",
   "id": "bc4339ed",
   "metadata": {},
   "source": [
    "The distribution of billed water volumes across regions highlights significant disparities in consumption and demand. Roysambu recorded the highest billed volume at over 19 million units, standing out as the single largest contributor. Westlands followed with nearly 14.3 million units, while Lower Embakasi and Dagoretti also reported substantial billed volumes, exceeding 12.5 million and 11.7 million units respectively.\n",
    "\n",
    "In the mid-range, Central and Langata registered billed volumes of approximately 10.2 million and 9.5 million units, with Kasarani slightly lower at 8.5 million units. Upper Embakasi trailed further behind at around 6.4 million units.\n",
    "\n",
    "The lowest billed volumes were concentrated in New Central, Informal Settlements, and New Informal Settlements, which recorded 4.7 million, 0.9 million, and 0.38 million units respectively"
   ]
  },
  {
   "cell_type": "markdown",
   "id": "47148a05",
   "metadata": {},
   "source": [
    "#### B. Bivariate Analysis\n",
    "For this part we will do some correlation:\n",
    "1. Correlation between bill amount and amount of water used\n",
    "2. Check the correlation of Water usage, water production and water loss.\n"
   ]
  },
  {
   "cell_type": "code",
   "execution_count": 54,
   "id": "aa615296",
   "metadata": {},
   "outputs": [
    {
     "name": "stdout",
     "output_type": "stream",
     "text": [
      "Correlation between BILL_AMOUNT and BILL_VOLUME: 0.9228611526405756\n"
     ]
    }
   ],
   "source": [
    "# 1. Calculate Correlation between bill amount and amount of water used\n",
    "correlation = df_filtered['BILL_AMOUNT'].corr(df_filtered['BILL_VOLUME'])\n",
    "print(\"Correlation between BILL_AMOUNT and BILL_VOLUME:\", correlation)\n"
   ]
  },
  {
   "cell_type": "code",
   "execution_count": 55,
   "id": "93116717",
   "metadata": {},
   "outputs": [
    {
     "name": "stdout",
     "output_type": "stream",
     "text": [
      "                  TOTAL_PRODUCTION  BILLED_VOLUME      LOSS  LOSS_PERCENT\n",
      "TOTAL_PRODUCTION          1.000000       0.799069  0.934729      0.669154\n",
      "BILLED_VOLUME             0.799069       1.000000  0.533256      0.089258\n",
      "LOSS                      0.934729       0.533256  1.000000      0.888755\n",
      "LOSS_PERCENT              0.669154       0.089258  0.888755      1.000000\n"
     ]
    },
    {
     "data": {
      "image/png": "[encoded data removed]",
      "text/plain": [
       "<Figure size 800x600 with 2 Axes>"
      ]
     },
     "metadata": {},
     "output_type": "display_data"
    }
   ],
   "source": [
    "# Select numeric columns\n",
    "numeric_cols = ['TOTAL_PRODUCTION', 'BILLED_VOLUME', 'LOSS', 'LOSS_PERCENT']\n",
    "\n",
    "# Correlation matrix\n",
    "corr_matrix = df_result[numeric_cols].corr()\n",
    "\n",
    "print(corr_matrix)\n",
    "\n",
    "plt.figure(figsize=(8,6))\n",
    "sns.heatmap(corr_matrix, annot=True, cmap='coolwarm', fmt=\".2f\")\n",
    "plt.title(\"Correlation Matrix of Water Production, Usage, and Loss\")\n",
    "plt.show()\n"
   ]
  },
  {
   "cell_type": "markdown",
   "id": "0d38eecf",
   "metadata": {},
   "source": [
    "The correlation analysis of water production, billed volume, and losses highlights key relationships in the system. Total water production is strongly associated with both absolute losses (correlation ≈ 0.93) and, to a lesser extent, the percentage of water lost (≈ 0.67), indicating that higher production generally leads to more water being lost. \n",
    "\n",
    "Billed volume is moderately correlated with absolute losses (≈ 0.53) but shows almost no relationship with loss percentage (≈ 0.09), suggesting that customer consumption has little influence on the proportion of water lost. Finally, absolute losses and percentage losses are strongly linked (≈ 0.89), reflecting that periods with high water loss tend to also have a higher fraction of water lost. Overall, these patterns emphasize that controlling production and system efficiency is critical for reducing both the volume and proportion of water loss."
   ]
  },
  {
   "cell_type": "code",
   "execution_count": 56,
   "id": "c13581f3",
   "metadata": {},
   "outputs": [
    {
     "name": "stdout",
     "output_type": "stream",
     "text": [
      "Correlation between BILL_AMOUNT and WATER_AMOUNT: 0.9593769448769108\n"
     ]
    }
   ],
   "source": [
    "# Calculate correlation\n",
    "correlation = df_filtered['BILL_AMOUNT'].corr(df_filtered['WATER_AMOUNT'])\n",
    "print(\"Correlation between BILL_AMOUNT and WATER_AMOUNT:\", correlation)\n"
   ]
  },
  {
   "cell_type": "markdown",
   "id": "79c29b84",
   "metadata": {},
   "source": [
    "The correlation between BILL_AMOUNT and WATER_AMOUNT is 0.96, indicating a very strong positive relationship. This shows that higher water consumption is closely associated with higher billing amounts."
   ]
  },
  {
   "cell_type": "markdown",
   "id": "64d6988c",
   "metadata": {},
   "source": [
    "#### Correlation between bill volume and meter size"
   ]
  },
  {
   "cell_type": "code",
   "execution_count": null,
   "id": "30a3ad2a",
   "metadata": {},
   "outputs": [
    {
     "name": "stdout",
     "output_type": "stream",
     "text": [
      "Correlation between BILL_AMOUNT and METER_SIZE: 0.38622605759524725\n"
     ]
    }
   ],
   "source": [
    "correlation = df_filtered['METER_SIZE'].corr(df_filtered['BILL_VOLUME'])\n",
    "print(\"Correlation between BILL_VOLUME and METER_SIZE:\", correlation)"
   ]
  },
  {
   "cell_type": "markdown",
   "id": "7f642d86",
   "metadata": {},
   "source": [
    "The correlation between METER SIZE AND BILL VOLUME is quite small suggesting little to no relationship."
   ]
  },
  {
   "cell_type": "markdown",
   "id": "c8b5147d",
   "metadata": {},
   "source": [
    "### CUSTOMER SEGMENTATION"
   ]
  },
  {
   "cell_type": "code",
   "execution_count": 74,
   "id": "c4e67ac6",
   "metadata": {},
   "outputs": [
    {
     "data": {
      "image/png": "[encoded data removed]",
      "text/plain": [
       "<Figure size 800x500 with 2 Axes>"
      ]
     },
     "metadata": {},
     "output_type": "display_data"
    }
   ],
   "source": [
    "# Calculate quartiles\n",
    "Q1 = df_filtered['BILL_VOLUME'].quantile(0.33)\n",
    "Q2 = df_filtered['BILL_VOLUME'].quantile(0.66)\n",
    "\n",
    "# Define usage tiers\n",
    "def usage_tier(volume):\n",
    "    if volume <= Q1:\n",
    "        return 'Low'\n",
    "    elif volume <= Q2:\n",
    "        return 'Medium'\n",
    "    else:\n",
    "        return 'High'\n",
    "\n",
    "df_filtered['USAGE_TIER'] = df_filtered['BILL_VOLUME'].apply(usage_tier)\n",
    "\n",
    "# Calculate number of customers per tier\n",
    "tier_counts = df_filtered.groupby('USAGE_TIER')['BILL_VOLUME'].count().reset_index()\n",
    "tier_counts = tier_counts.rename(columns={'BILL_VOLUME': 'CUSTOMER_COUNT'})\n",
    "\n",
    "# Aggregate billed volume per tier\n",
    "tier_summary = df_filtered.groupby('USAGE_TIER')['BILL_VOLUME'].sum().reset_index()\n",
    "\n",
    "# Merge the two\n",
    "tier_summary = tier_summary.merge(tier_counts, on='USAGE_TIER')\n",
    "\n",
    "# Melt for plotting\n",
    "tier_plot = tier_summary.melt(id_vars='USAGE_TIER', value_vars=['BILL_VOLUME', 'CUSTOMER_COUNT'],\n",
    "                              var_name='Metric', value_name='Value')\n",
    "fig, ax1 = plt.subplots(figsize=(8,5))\n",
    "# Left axis - Billed volume\n",
    "color = 'tab:blue'\n",
    "ax1.bar(tier_summary['USAGE_TIER'], tier_summary['BILL_VOLUME'], color=color, alpha=0.6, label='Billed Volume')\n",
    "ax1.set_xlabel('Usage Tier')\n",
    "ax1.set_ylabel('Total Billed Volume', color=color)\n",
    "ax1.tick_params(axis='y', labelcolor=color)\n",
    "\n",
    "# Right axis - Customer count\n",
    "ax2 = ax1.twinx()\n",
    "color = 'tab:orange'\n",
    "ax2.plot(tier_summary['USAGE_TIER'], tier_summary['CUSTOMER_COUNT'], color=color, marker='o', linewidth=2, label='Customer Count')\n",
    "ax2.set_ylabel('Number of Customers', color=color)\n",
    "ax2.tick_params(axis='y', labelcolor=color)\n",
    "\n",
    "# Title and layout\n",
    "plt.title('Billed Volume and Customer Count by Usage Tier', fontsize=14)\n",
    "fig.tight_layout()\n",
    "plt.show()"
   ]
  },
  {
   "cell_type": "markdown",
   "id": "9ee18451",
   "metadata": {},
   "source": [
    "From this chart the relationship between water consumption and customer distribution across usage tiersis clearly seen. The bars represent the total billed volume per tier, while the line shows the number of customers in each tier.\n",
    "\n",
    "It is clear that High usage customers, although fewer in number, contribute a disproportionately large share of total billed volume, while Low and Medium users are more numerous but contribute less individually. This insight is valuable for targeting interventions, optimizing billing strategies, or **implementing smart metering** for high-consumption households."
   ]
  },
  {
   "cell_type": "markdown",
   "id": "10344dd4",
   "metadata": {},
   "source": [
    "### Filtering the High consumers as candidates for smart metering"
   ]
  },
  {
   "cell_type": "code",
   "execution_count": 57,
   "id": "81f2a811",
   "metadata": {},
   "outputs": [
    {
     "data": {
      "text/plain": [
       "np.float64(12.0)"
      ]
     },
     "execution_count": 57,
     "metadata": {},
     "output_type": "execute_result"
    }
   ],
   "source": [
    "\n",
    "df_filtered['BILL_VOLUME'].sort_values(ascending=False).reset_index(drop=True).median()"
   ]
  },
  {
   "cell_type": "code",
   "execution_count": 58,
   "id": "e57ed007",
   "metadata": {},
   "outputs": [
    {
     "data": {
      "text/plain": [
       "np.float64(49.23648053544995)"
      ]
     },
     "execution_count": 58,
     "metadata": {},
     "output_type": "execute_result"
    }
   ],
   "source": [
    "df_filtered['BILL_VOLUME'].sort_values(ascending=False).reset_index(drop=True).mean()"
   ]
  },
  {
   "cell_type": "code",
   "execution_count": 59,
   "id": "ed1fa06f",
   "metadata": {},
   "outputs": [
    {
     "name": "stdout",
     "output_type": "stream",
     "text": [
      "68.0\n"
     ]
    }
   ],
   "source": [
    "Q1 = df_filtered['BILL_VOLUME'].quantile(0.25)\n",
    "Q3 = df_filtered['BILL_VOLUME'].quantile(0.75)\n",
    "IQR = Q3 - Q1\n",
    "high_cutoff = Q3 + 1.5 * IQR\n",
    "print(high_cutoff)\n"
   ]
  },
  {
   "cell_type": "code",
   "execution_count": 60,
   "id": "55b707d5",
   "metadata": {},
   "outputs": [
    {
     "data": {
      "text/plain": [
       "11.063606236556229"
      ]
     },
     "execution_count": 60,
     "metadata": {},
     "output_type": "execute_result"
    }
   ],
   "source": [
    "len(df_filtered[df_filtered['BILL_VOLUME'] > 68]) / len(df_filtered) * 100"
   ]
  },
  {
   "cell_type": "markdown",
   "id": "52be463d",
   "metadata": {},
   "source": [
    "To understand patterns of water consumption, we analyzed the distribution of billed water volumes among customers. The median monthly usage was found to be 12 units, representing the midpoint of the dataset, while the mean usage was substantially higher at approximately 49.2 units, indicating that a small number of extremely high consumers are pulling the average upward. This discrepancy highlights a skewed distribution with a long tail of high users.\n",
    "\n",
    "To systematically identify these high water users, we employed the Interquartile Range (IQR) method. The first quartile (Q1) and third quartile (Q3) were calculated to define the range containing the middle 50% of customers. Any user with billed volume above the threshold of 68 units, defined as Q3 plus 1.5 times the IQR, was classified as a high consumer. This method isolates unusually high water consumption, identifying approximately 11% of users who are prime candidates for smart metering and targeted interventions."
   ]
  },
  {
   "cell_type": "code",
   "execution_count": 61,
   "id": "a9c6ca2e",
   "metadata": {},
   "outputs": [
    {
     "data": {
      "application/vnd.microsoft.datawrangler.viewer.v0+json": {
       "columns": [
        {
         "name": "index",
         "rawType": "int64",
         "type": "integer"
        },
        {
         "name": "REGION",
         "rawType": "string",
         "type": "string"
        },
        {
         "name": "ZONE",
         "rawType": "string",
         "type": "string"
        },
        {
         "name": "SUB_ZONE",
         "rawType": "string",
         "type": "string"
        },
        {
         "name": "INSTALLATION_KEY",
         "rawType": "string",
         "type": "string"
        },
        {
         "name": "INST_TYPE_CODE",
         "rawType": "string",
         "type": "string"
        },
        {
         "name": "INSTALLATION_TYPE_DESC",
         "rawType": "string",
         "type": "string"
        },
        {
         "name": "METER_SIZE",
         "rawType": "Float64",
         "type": "float"
        },
        {
         "name": "BILL_ESTIMATE_ACTUAL",
         "rawType": "string",
         "type": "string"
        },
        {
         "name": "BILL_VALID_INVALID",
         "rawType": "string",
         "type": "string"
        },
        {
         "name": "MAIN_SERVICE",
         "rawType": "string",
         "type": "string"
        },
        {
         "name": "SHADOW_SERVICE",
         "rawType": "string",
         "type": "string"
        },
        {
         "name": "WATER_AMOUNT",
         "rawType": "float64",
         "type": "float"
        },
        {
         "name": "SEWER_AMOUNT",
         "rawType": "float64",
         "type": "float"
        },
        {
         "name": "BILL_AMOUNT",
         "rawType": "float64",
         "type": "float"
        },
        {
         "name": "BILL_VOLUME",
         "rawType": "float64",
         "type": "float"
        },
        {
         "name": "MONTH",
         "rawType": "string",
         "type": "string"
        },
        {
         "name": "YEAR",
         "rawType": "float64",
         "type": "float"
        },
        {
         "name": "NEGATIVE",
         "rawType": "bool",
         "type": "boolean"
        }
       ],
       "ref": "01308cf6-d20d-4358-ae43-aa3c0d7f4c8f",
       "rows": [
        [
         "8",
         "WESTLANDS",
         "KITUSURU",
         "WAIYAKI WAY",
         "CV-7000010",
         "DOM",
         "DOMESTIC",
         "0.5",
         "ACTUAL",
         "VALID",
         "WAT",
         " ",
         "7771.0",
         "0.0",
         "7771.0",
         "111.0",
         "August",
         "2024.0",
         "False"
        ],
        [
         "11",
         "KASARANI",
         "HUNTERS -MWIKI",
         "HUNTERS",
         "CV-7000013",
         "DOM",
         "DOMESTIC",
         "0.5",
         "ACTUAL",
         "VALID",
         "WAT",
         " ",
         "6424.0",
         "0.0",
         "6424.0",
         "91.0",
         "August",
         "2024.0",
         "False"
        ],
        [
         "39",
         "WESTLANDS",
         "KITUSURU",
         "WAIYAKI WAY",
         "CV-7000027",
         "DOM",
         "DOMESTIC",
         "0.5",
         "ACTUAL",
         "VALID",
         "WAT",
         "SEW",
         "4904.0",
         "3127.0",
         "8031.0",
         "71.0",
         "August",
         "2024.0",
         "False"
        ],
        [
         "56",
         "DAGORETTI",
         "KAWANGWARE",
         "RIARA",
         "CV-7000116",
         "COM",
         "COMMERCIAL",
         "2.0",
         "ACTUAL",
         "VALID",
         "WAT",
         "SEW",
         "61550.0",
         "40458.0",
         "102008.0",
         "785.0",
         "August",
         "2024.0",
         "False"
        ],
        [
         "68",
         "WESTLANDS",
         "PARKLANDS",
         "BROOKSIDE",
         "CV-7000128",
         "COM",
         "COMMERCIAL",
         "0.5",
         "ACTUAL",
         "VALID",
         "WAT",
         "SEW",
         "59628.0",
         "39267.0",
         "98895.0",
         "759.0",
         "August",
         "2024.0",
         "False"
        ],
        [
         "76",
         "DAGORETTI",
         "KAWANGWARE",
         "KABIRO",
         "CV-7000136",
         "DOM",
         "DOMESTIC",
         "0.5",
         "ACTUAL",
         "VALID",
         "WAT",
         "SEW",
         "6214.0",
         "4000.0",
         "10214.0",
         "89.0",
         "August",
         "2024.0",
         "False"
        ],
        [
         "114",
         "CENTRAL",
         "STAREHE",
         "ENTERPRISE RD_SOUTH B",
         "CV-7000075",
         "DOM",
         "DOMESTIC",
         "0.5",
         "ACTUAL",
         "VALID",
         "WAT",
         "SEW",
         "5223.0",
         "3375.0",
         "8598.0",
         "77.0",
         "August",
         "2024.0",
         "False"
        ],
        [
         "118",
         "LANGATA",
         "WOODLEY_UPPERHILL",
         "UPPERHILL",
         "CV-7000079",
         "DOM",
         "DOMESTIC",
         "0.5",
         "ACTUAL",
         "VALID",
         "WAT",
         "SEW",
         "6822.0",
         "4390.0",
         "11212.0",
         "97.0",
         "August",
         "2024.0",
         "False"
        ],
        [
         "127",
         "ROYSAMBU",
         "RUARAKA-MATHARE",
         "PANGANI - HURUMA",
         "CV-7000088",
         "GOV-FND",
         "PRIMARY AND SECONDARY SCHOOLS",
         "3.0",
         "ACTUAL",
         "VALID",
         "WAT",
         "SEW",
         "11050.0",
         "7138.0",
         "18188.0",
         "221.0",
         "August",
         "2024.0",
         "False"
        ],
        [
         "137",
         "LANGATA",
         "KAREN_LANGATA",
         "OTIENDE LANGATA",
         "CV-7000098",
         "GOV-FND",
         "PRIMARY AND SECONDARY SCHOOLS",
         "0.5",
         "ACTUAL",
         "VALID",
         "WAT",
         "SEW",
         "12450.0",
         "8041.0",
         "20491.0",
         "249.0",
         "August",
         "2024.0",
         "False"
        ],
        [
         "138",
         "CENTRAL",
         "STAREHE",
         "CBD-LANDMAWE",
         "CV-7000099",
         "COM",
         "COMMERCIAL",
         "0.5",
         "ACTUAL",
         "VALID",
         "WAT",
         "SEW",
         "13390.0",
         "8430.0",
         "21820.0",
         "180.0",
         "August",
         "2024.0",
         "False"
        ],
        [
         "180",
         "DAGORETTI",
         "KAWANGWARE",
         "KABIRO",
         "CV-7000229",
         "DOM",
         "DOMESTIC",
         "0.5",
         "ACTUAL",
         "VALID",
         "WAT",
         "SEW",
         "7497.0",
         "4836.0",
         "12333.0",
         "106.0",
         "August",
         "2024.0",
         "False"
        ],
        [
         "181",
         "LANGATA",
         "WOODLEY_UPPERHILL",
         "UPPERHILL",
         "CV-7000230",
         "DOM",
         "DOMESTIC",
         "0.5",
         "ACTUAL",
         "VALID",
         "WAT",
         "SEW",
         "5512.0",
         "3517.0",
         "9029.0",
         "79.0",
         "August",
         "2024.0",
         "False"
        ],
        [
         "204",
         "LANGATA",
         "KAREN_LANGATA",
         "KAREN",
         "CV-7000210",
         "DOM",
         "DOMESTIC",
         "1.0",
         "ACTUAL",
         "VALID",
         "WAT",
         " ",
         "14986.0",
         "0.0",
         "14986.0",
         "201.0",
         "August",
         "2024.0",
         "False"
        ],
        [
         "214",
         "CENTRAL",
         "STAREHE",
         "CBD-LANDMAWE",
         "CV-7000161",
         "COM",
         "COMMERCIAL",
         "4.0",
         "ACTUAL",
         "VALID",
         "WAT",
         "SEW",
         "25454.0",
         "16266.0",
         "41720.0",
         "336.0",
         "August",
         "2024.0",
         "False"
        ],
        [
         "220",
         "WESTLANDS",
         "PARKLANDS",
         "BROOKSIDE",
         "CV-7000167",
         "COM",
         "COMMERCIAL",
         "1.5",
         "ACTUAL",
         "VALID",
         "WAT",
         "SEW",
         "7930.0",
         "4945.0",
         "12875.0",
         "110.0",
         "August",
         "2024.0",
         "False"
        ],
        [
         "228",
         "LOWER EMBAKASI",
         "IMARA DAIMA",
         "DONHOLM",
         "CV-7000175",
         "DOM",
         "DOMESTIC",
         "0.5",
         "ACTUAL",
         "VALID",
         "WAT",
         "SEW",
         "14830.0",
         "9514.0",
         "24344.0",
         "199.0",
         "August",
         "2024.0",
         "False"
        ],
        [
         "236",
         "ROYSAMBU",
         "ZIMMERMAN-KAHAWA WEST",
         "ZIMMERMAN-GITHURAI 44",
         "CV-7000183",
         "DOM",
         "DOMESTIC",
         "0.5",
         "ACTUAL",
         "VALID",
         "WAT",
         "SEW",
         "19432.0",
         "12574.0",
         "32006.0",
         "258.0",
         "August",
         "2024.0",
         "False"
        ],
        [
         "240",
         "ROYSAMBU",
         "KIAMBU ROAD - ROYSAMBU",
         "RIDGEWAYS -MIREMA",
         "CV-7000187",
         "DOM",
         "DOMESTIC",
         "0.5",
         "ACTUAL",
         "VALID",
         "WAT",
         " ",
         "19484.0",
         "0.0",
         "19484.0",
         "262.0",
         "August",
         "2024.0",
         "False"
        ],
        [
         "255",
         "WESTLANDS",
         "PARKLANDS",
         "BROOKSIDE",
         "CV-7000320",
         "COM",
         "COMMERCIAL",
         "2.0",
         "ACTUAL",
         "VALID",
         "WAT",
         "SEW",
         "20176.0",
         "12850.0",
         "33026.0",
         "267.0",
         "August",
         "2024.0",
         "False"
        ],
        [
         "258",
         "ROYSAMBU",
         "KIAMBU ROAD - ROYSAMBU",
         "RIDGEWAYS -MIREMA",
         "CV-7000323",
         "COM",
         "COMMERCIAL",
         "1.5",
         "ACTUAL",
         "VALID",
         "WAT",
         "SEW",
         "147310.0",
         "98346.0",
         "245656.0",
         "1857.0",
         "August",
         "2024.0",
         "False"
        ],
        [
         "262",
         "INFORMAL SETTLEMENT",
         "NAIROBI EAST",
         "LOWER EMBAKASI",
         "CV-7000327",
         "KIOSK",
         "WATER KIOSKS",
         "0.5",
         "ACTUAL",
         "VALID",
         "WAT",
         " ",
         "2508.0",
         "0.0",
         "2508.0",
         "114.0",
         "August",
         "2024.0",
         "False"
        ],
        [
         "277",
         "LANGATA",
         "SOUTH C- NAIROBI WEST",
         "SOUTH C_MOMBASA RD",
         "CV-7000342",
         "DOM",
         "DOMESTIC",
         "0.5",
         "ACTUAL",
         "VALID",
         "WAT",
         "SEW",
         "5740.0",
         "3712.0",
         "9452.0",
         "82.0",
         "August",
         "2024.0",
         "False"
        ],
        [
         "280",
         "LANGATA",
         "SOUTH C- NAIROBI WEST",
         "NAIROBI WEST_LANGATA",
         "CV-7000345",
         "COM",
         "COMMERCIAL",
         "1.0",
         "ACTUAL",
         "VALID",
         "WAT",
         "SEW",
         "16588.0",
         "10538.0",
         "27126.0",
         "221.0",
         "August",
         "2024.0",
         "False"
        ],
        [
         "283",
         "DAGORETTI",
         "KAWANGWARE",
         "KABIRO",
         "CV-7000348",
         "BOREHOLE",
         "BOREHOLES",
         "1.5",
         "ACTUAL",
         "VALID",
         " ",
         "SEW",
         "0.0",
         "7339.0",
         "7339.0",
         "118.0",
         "August",
         "2024.0",
         "False"
        ],
        [
         "302",
         "WESTLANDS",
         "KITUSURU",
         "SPRING VALLEY",
         "CV-7000264",
         "DOM",
         "DOMESTIC",
         "0.5",
         "ACTUAL",
         "VALID",
         "WAT",
         " ",
         "8854.0",
         "0.0",
         "8854.0",
         "126.0",
         "August",
         "2024.0",
         "False"
        ],
        [
         "307",
         "KASARANI",
         "HUNTERS -MWIKI",
         "MWIKI",
         "CV-7000269",
         "DOM",
         "DOMESTIC",
         "0.5",
         "ACTUAL",
         "VALID",
         "WAT",
         " ",
         "7855.0",
         "0.0",
         "7855.0",
         "110.0",
         "August",
         "2024.0",
         "False"
        ],
        [
         "353",
         "CENTRAL",
         "STAREHE",
         "CBD-LANDMAWE",
         "CV-7000386",
         "COM",
         "COMMERCIAL",
         "0.5",
         "ACTUAL",
         "VALID",
         "WAT",
         "SEW",
         "5706.0",
         "3515.0",
         "9221.0",
         "81.0",
         "August",
         "2024.0",
         "False"
        ],
        [
         "354",
         "CENTRAL",
         "STAREHE",
         "CBD-LANDMAWE",
         "CV-7000387",
         "DOM",
         "DOMESTIC",
         "0.5",
         "ACTUAL",
         "VALID",
         "WAT",
         "SEW",
         "20725.0",
         "13359.0",
         "34084.0",
         "275.0",
         "August",
         "2024.0",
         "False"
        ],
        [
         "360",
         "ROYSAMBU",
         "KIAMBU ROAD - ROYSAMBU",
         "RIDGEWAYS -MIREMA",
         "CV-7000407",
         "COM",
         "COMMERCIAL",
         "3.0",
         "ACTUAL",
         "VALID",
         "WAT",
         "SEW",
         "97230.0",
         "64506.0",
         "161736.0",
         "1231.0",
         "August",
         "2024.0",
         "False"
        ],
        [
         "366",
         "LANGATA",
         "WOODLEY_UPPERHILL",
         "WOODLEY",
         "CV-7000413",
         "COM",
         "COMMERCIAL",
         "2.0",
         "ACTUAL",
         "VALID",
         "WAT",
         "SEW",
         "35347.0",
         "22627.0",
         "57974.0",
         "459.0",
         "August",
         "2024.0",
         "False"
        ],
        [
         "370",
         "DAGORETTI",
         "KILIMANI-KILELESHWA",
         "HURLINGHAM",
         "CV-7000417",
         "DOM",
         "DOMESTIC",
         "0.5",
         "ACTUAL",
         "VALID",
         "WAT",
         "SEW",
         "9659.0",
         "6207.0",
         "15866.0",
         "137.0",
         "August",
         "2024.0",
         "False"
        ],
        [
         "373",
         "WESTLANDS",
         "KITUSURU",
         "WAIYAKI WAY",
         "CV-7000420",
         "COM",
         "COMMERCIAL",
         "1.0",
         "ACTUAL",
         "VALID",
         "WAT",
         " ",
         "8125.0",
         "0.0",
         "8125.0",
         "113.0",
         "August",
         "2024.0",
         "False"
        ],
        [
         "375",
         "CENTRAL",
         "STAREHE",
         "CBD-LANDMAWE",
         "CV-7000422",
         "BOREHOLE",
         "BOREHOLES",
         "2.0",
         "ACTUAL",
         "VALID",
         " ",
         "SEW",
         "0.0",
         "83539.0",
         "83539.0",
         "1187.0",
         "August",
         "2024.0",
         "False"
        ],
        [
         "418",
         "CENTRAL",
         "STAREHE",
         "ENTERPRISE RD_SOUTH B",
         "CV-7000366",
         "COM",
         "COMMERCIAL",
         "1.0",
         "ACTUAL",
         "VALID",
         "WAT",
         "SEW",
         "5250.0",
         "3190.0",
         "8440.0",
         "75.0",
         "August",
         "2024.0",
         "False"
        ],
        [
         "419",
         "DAGORETTI",
         "KILIMANI-KILELESHWA",
         "HURLINGHAM",
         "CV-7000367",
         "COM",
         "COMMERCIAL",
         "0.5",
         "ACTUAL",
         "VALID",
         "WAT",
         "SEW",
         "40830.0",
         "26490.0",
         "67320.0",
         "526.0",
         "August",
         "2024.0",
         "False"
        ],
        [
         "426",
         "KASARANI",
         "DANDORA",
         "NGUMBA",
         "CV-7000374",
         "INDST",
         "INDUSTRIAL",
         "8.0",
         "ACTUAL",
         "VALID",
         "WAT",
         "SEW",
         "9138908.0",
         "6167835.0",
         "15306743.0",
         "114250.0",
         "August",
         "2024.0",
         "False"
        ],
        [
         "440",
         "CENTRAL",
         "STAREHE",
         "CBD-LANDMAWE",
         "CV-7000502",
         "DOM",
         "DOMESTIC",
         "0.5",
         "ACTUAL",
         "VALID",
         "WAT",
         "SEW",
         "14893.0",
         "9565.0",
         "24458.0",
         "201.0",
         "August",
         "2024.0",
         "False"
        ],
        [
         "460",
         "ROYSAMBU",
         "RUARAKA-MATHARE",
         "BABADOGO - MATHARE",
         "CV-7000522",
         "COM",
         "COMMERCIAL",
         "2.0",
         "ACTUAL",
         "VALID",
         "WAT",
         "SEW",
         "124918.0",
         "83804.0",
         "208722.0",
         "1569.0",
         "August",
         "2024.0",
         "False"
        ],
        [
         "461",
         "CENTRAL",
         "MAKADARA",
         "BURUBURU",
         "CV-7000523",
         "BOREHOLE",
         "BOREHOLES",
         "3.0",
         "ACTUAL",
         "VALID",
         " ",
         "SEW",
         "0.0",
         "12965.0",
         "12965.0",
         "201.0",
         "August",
         "2024.0",
         "False"
        ],
        [
         "462",
         "CENTRAL",
         "STAREHE",
         "CBD-LANDMAWE",
         "CV-7000524",
         "COM",
         "COMMERCIAL",
         "0.5",
         "ACTUAL",
         "VALID",
         "WAT",
         "SEW",
         "7306.0",
         "4555.0",
         "11861.0",
         "102.0",
         "August",
         "2024.0",
         "False"
        ],
        [
         "464",
         "WESTLANDS",
         "KITUSURU",
         "WAIYAKI WAY",
         "CV-7000526",
         "DOM",
         "DOMESTIC",
         "0.5",
         "ACTUAL",
         "VALID",
         "WAT",
         "SEW",
         "9370.0",
         "5987.0",
         "15357.0",
         "129.0",
         "August",
         "2024.0",
         "False"
        ],
        [
         "465",
         "CENTRAL",
         "STAREHE",
         "CBD-LANDMAWE",
         "CV-7000527",
         "COM",
         "COMMERCIAL",
         "2.0",
         "ACTUAL",
         "VALID",
         "WAT",
         "SEW",
         "12896.0",
         "8038.0",
         "20934.0",
         "175.0",
         "August",
         "2024.0",
         "False"
        ],
        [
         "481",
         "CENTRAL",
         "STAREHE",
         "CBD-LANDMAWE",
         "CV-7000444",
         "DOM",
         "DOMESTIC",
         "0.75",
         "ACTUAL",
         "VALID",
         "WAT",
         "SEW",
         "9916.0",
         "6318.0",
         "16234.0",
         "136.0",
         "August",
         "2024.0",
         "False"
        ],
        [
         "486",
         "LANGATA",
         "SOUTH C- NAIROBI WEST",
         "NAIROBI WEST_LANGATA",
         "CV-7000449",
         "DOM",
         "DOMESTIC",
         "0.5",
         "ACTUAL",
         "VALID",
         "WAT",
         "SEW",
         "9043.0",
         "5811.0",
         "14854.0",
         "126.0",
         "August",
         "2024.0",
         "False"
        ],
        [
         "490",
         "DAGORETTI",
         "WAITHAKA",
         "UTHIRU",
         "CV-7000453",
         "DOM",
         "DOMESTIC",
         "0.5",
         "ACTUAL",
         "VALID",
         "WAT",
         " ",
         "5816.0",
         "0.0",
         "5816.0",
         "83.0",
         "August",
         "2024.0",
         "False"
        ],
        [
         "499",
         "WESTLANDS",
         "KITUSURU",
         "WAIYAKI WAY",
         "CV-7000462",
         "DOM",
         "DOMESTIC",
         "0.5",
         "ACTUAL",
         "VALID",
         "WAT",
         "SEW",
         "6166.0",
         "3984.0",
         "10150.0",
         "90.0",
         "August",
         "2024.0",
         "False"
        ],
        [
         "507",
         "CENTRAL",
         "STAREHE",
         "CBD-LANDMAWE",
         "CV-7000470",
         "COM",
         "COMMERCIAL",
         "0.5",
         "ACTUAL",
         "VALID",
         "WAT",
         "SEW",
         "9763.0",
         "6088.0",
         "15851.0",
         "134.0",
         "August",
         "2024.0",
         "False"
        ],
        [
         "539",
         "WESTLANDS",
         "KARURA",
         "NGARA",
         "CV-7000573",
         "DOM",
         "DOMESTIC",
         "0.75",
         "ACTUAL",
         "VALID",
         "WAT",
         "SEW",
         "9796.0",
         "6261.0",
         "16057.0",
         "139.0",
         "August",
         "2024.0",
         "False"
        ],
        [
         "549",
         "WESTLANDS",
         "KITUSURU",
         "WAIYAKI WAY",
         "CV-7000598",
         "DOM",
         "DOMESTIC",
         "0.5",
         "ACTUAL",
         "VALID",
         "WAT",
         "SEW",
         "11398.0",
         "7270.0",
         "18668.0",
         "155.0",
         "August",
         "2024.0",
         "False"
        ]
       ],
       "shape": {
        "columns": 18,
        "rows": 220706
       }
      },
      "text/html": [
       "<div>\n",
       "<style scoped>\n",
       "    .dataframe tbody tr th:only-of-type {\n",
       "        vertical-align: middle;\n",
       "    }\n",
       "\n",
       "    .dataframe tbody tr th {\n",
       "        vertical-align: top;\n",
       "    }\n",
       "\n",
       "    .dataframe thead th {\n",
       "        text-align: right;\n",
       "    }\n",
       "</style>\n",
       "<table border=\"1\" class=\"dataframe\">\n",
       "  <thead>\n",
       "    <tr style=\"text-align: right;\">\n",
       "      <th></th>\n",
       "      <th>REGION</th>\n",
       "      <th>ZONE</th>\n",
       "      <th>SUB_ZONE</th>\n",
       "      <th>INSTALLATION_KEY</th>\n",
       "      <th>INST_TYPE_CODE</th>\n",
       "      <th>INSTALLATION_TYPE_DESC</th>\n",
       "      <th>METER_SIZE</th>\n",
       "      <th>BILL_ESTIMATE_ACTUAL</th>\n",
       "      <th>BILL_VALID_INVALID</th>\n",
       "      <th>MAIN_SERVICE</th>\n",
       "      <th>SHADOW_SERVICE</th>\n",
       "      <th>WATER_AMOUNT</th>\n",
       "      <th>SEWER_AMOUNT</th>\n",
       "      <th>BILL_AMOUNT</th>\n",
       "      <th>BILL_VOLUME</th>\n",
       "      <th>MONTH</th>\n",
       "      <th>YEAR</th>\n",
       "      <th>NEGATIVE</th>\n",
       "    </tr>\n",
       "  </thead>\n",
       "  <tbody>\n",
       "    <tr>\n",
       "      <th>8</th>\n",
       "      <td>WESTLANDS</td>\n",
       "      <td>KITUSURU</td>\n",
       "      <td>WAIYAKI WAY</td>\n",
       "      <td>CV-7000010</td>\n",
       "      <td>DOM</td>\n",
       "      <td>DOMESTIC</td>\n",
       "      <td>0.5</td>\n",
       "      <td>ACTUAL</td>\n",
       "      <td>VALID</td>\n",
       "      <td>WAT</td>\n",
       "      <td></td>\n",
       "      <td>7771.0</td>\n",
       "      <td>0.0</td>\n",
       "      <td>7771.0</td>\n",
       "      <td>111.0</td>\n",
       "      <td>August</td>\n",
       "      <td>2024.0</td>\n",
       "      <td>False</td>\n",
       "    </tr>\n",
       "    <tr>\n",
       "      <th>11</th>\n",
       "      <td>KASARANI</td>\n",
       "      <td>HUNTERS -MWIKI</td>\n",
       "      <td>HUNTERS</td>\n",
       "      <td>CV-7000013</td>\n",
       "      <td>DOM</td>\n",
       "      <td>DOMESTIC</td>\n",
       "      <td>0.5</td>\n",
       "      <td>ACTUAL</td>\n",
       "      <td>VALID</td>\n",
       "      <td>WAT</td>\n",
       "      <td></td>\n",
       "      <td>6424.0</td>\n",
       "      <td>0.0</td>\n",
       "      <td>6424.0</td>\n",
       "      <td>91.0</td>\n",
       "      <td>August</td>\n",
       "      <td>2024.0</td>\n",
       "      <td>False</td>\n",
       "    </tr>\n",
       "    <tr>\n",
       "      <th>39</th>\n",
       "      <td>WESTLANDS</td>\n",
       "      <td>KITUSURU</td>\n",
       "      <td>WAIYAKI WAY</td>\n",
       "      <td>CV-7000027</td>\n",
       "      <td>DOM</td>\n",
       "      <td>DOMESTIC</td>\n",
       "      <td>0.5</td>\n",
       "      <td>ACTUAL</td>\n",
       "      <td>VALID</td>\n",
       "      <td>WAT</td>\n",
       "      <td>SEW</td>\n",
       "      <td>4904.0</td>\n",
       "      <td>3127.0</td>\n",
       "      <td>8031.0</td>\n",
       "      <td>71.0</td>\n",
       "      <td>August</td>\n",
       "      <td>2024.0</td>\n",
       "      <td>False</td>\n",
       "    </tr>\n",
       "    <tr>\n",
       "      <th>56</th>\n",
       "      <td>DAGORETTI</td>\n",
       "      <td>KAWANGWARE</td>\n",
       "      <td>RIARA</td>\n",
       "      <td>CV-7000116</td>\n",
       "      <td>COM</td>\n",
       "      <td>COMMERCIAL</td>\n",
       "      <td>2.0</td>\n",
       "      <td>ACTUAL</td>\n",
       "      <td>VALID</td>\n",
       "      <td>WAT</td>\n",
       "      <td>SEW</td>\n",
       "      <td>61550.0</td>\n",
       "      <td>40458.0</td>\n",
       "      <td>102008.0</td>\n",
       "      <td>785.0</td>\n",
       "      <td>August</td>\n",
       "      <td>2024.0</td>\n",
       "      <td>False</td>\n",
       "    </tr>\n",
       "    <tr>\n",
       "      <th>68</th>\n",
       "      <td>WESTLANDS</td>\n",
       "      <td>PARKLANDS</td>\n",
       "      <td>BROOKSIDE</td>\n",
       "      <td>CV-7000128</td>\n",
       "      <td>COM</td>\n",
       "      <td>COMMERCIAL</td>\n",
       "      <td>0.5</td>\n",
       "      <td>ACTUAL</td>\n",
       "      <td>VALID</td>\n",
       "      <td>WAT</td>\n",
       "      <td>SEW</td>\n",
       "      <td>59628.0</td>\n",
       "      <td>39267.0</td>\n",
       "      <td>98895.0</td>\n",
       "      <td>759.0</td>\n",
       "      <td>August</td>\n",
       "      <td>2024.0</td>\n",
       "      <td>False</td>\n",
       "    </tr>\n",
       "    <tr>\n",
       "      <th>...</th>\n",
       "      <td>...</td>\n",
       "      <td>...</td>\n",
       "      <td>...</td>\n",
       "      <td>...</td>\n",
       "      <td>...</td>\n",
       "      <td>...</td>\n",
       "      <td>...</td>\n",
       "      <td>...</td>\n",
       "      <td>...</td>\n",
       "      <td>...</td>\n",
       "      <td>...</td>\n",
       "      <td>...</td>\n",
       "      <td>...</td>\n",
       "      <td>...</td>\n",
       "      <td>...</td>\n",
       "      <td>...</td>\n",
       "      <td>...</td>\n",
       "      <td>...</td>\n",
       "    </tr>\n",
       "    <tr>\n",
       "      <th>2464232</th>\n",
       "      <td>WESTLANDS</td>\n",
       "      <td>PARKLANDS</td>\n",
       "      <td>HIGHRIDGE</td>\n",
       "      <td>CV-7138838</td>\n",
       "      <td>GOV-FND</td>\n",
       "      <td>PRIMARY AND SECONDARY SCHOOLS</td>\n",
       "      <td>1.5</td>\n",
       "      <td>ACTUAL</td>\n",
       "      <td>VALID</td>\n",
       "      <td></td>\n",
       "      <td>SEW</td>\n",
       "      <td>0.0</td>\n",
       "      <td>11051.0</td>\n",
       "      <td>11051.0</td>\n",
       "      <td>257.0</td>\n",
       "      <td>May</td>\n",
       "      <td>2025.0</td>\n",
       "      <td>False</td>\n",
       "    </tr>\n",
       "    <tr>\n",
       "      <th>2464235</th>\n",
       "      <td>WESTLANDS</td>\n",
       "      <td>PARKLANDS</td>\n",
       "      <td>HIGHRIDGE</td>\n",
       "      <td>CV-7172088</td>\n",
       "      <td>COM</td>\n",
       "      <td>COMMERCIAL</td>\n",
       "      <td>0.75</td>\n",
       "      <td>ACTUAL</td>\n",
       "      <td>VALID</td>\n",
       "      <td>WAT</td>\n",
       "      <td>SEW</td>\n",
       "      <td>10751.0</td>\n",
       "      <td>6655.0</td>\n",
       "      <td>17406.0</td>\n",
       "      <td>147.0</td>\n",
       "      <td>May</td>\n",
       "      <td>2025.0</td>\n",
       "      <td>False</td>\n",
       "    </tr>\n",
       "    <tr>\n",
       "      <th>2464237</th>\n",
       "      <td>WESTLANDS</td>\n",
       "      <td>PARKLANDS</td>\n",
       "      <td>HIGHRIDGE</td>\n",
       "      <td>CV-7109951</td>\n",
       "      <td>COM-CONS</td>\n",
       "      <td>MAJOR CONSTRUCTION SITES&gt;300M3</td>\n",
       "      <td>0.5</td>\n",
       "      <td>ACTUAL</td>\n",
       "      <td>VALID</td>\n",
       "      <td>WAT</td>\n",
       "      <td>SEW</td>\n",
       "      <td>7943.0</td>\n",
       "      <td>4900.0</td>\n",
       "      <td>12843.0</td>\n",
       "      <td>111.0</td>\n",
       "      <td>May</td>\n",
       "      <td>2025.0</td>\n",
       "      <td>False</td>\n",
       "    </tr>\n",
       "    <tr>\n",
       "      <th>2464238</th>\n",
       "      <td>WESTLANDS</td>\n",
       "      <td>PARKLANDS</td>\n",
       "      <td>HIGHRIDGE</td>\n",
       "      <td>IN-001239095</td>\n",
       "      <td>COM-CONS</td>\n",
       "      <td>MAJOR CONSTRUCTION SITES&gt;300M3</td>\n",
       "      <td>0.5</td>\n",
       "      <td>ACTUAL</td>\n",
       "      <td>VALID</td>\n",
       "      <td>WAT</td>\n",
       "      <td>SEW</td>\n",
       "      <td>16133.0</td>\n",
       "      <td>10191.0</td>\n",
       "      <td>26324.0</td>\n",
       "      <td>216.0</td>\n",
       "      <td>May</td>\n",
       "      <td>2025.0</td>\n",
       "      <td>False</td>\n",
       "    </tr>\n",
       "    <tr>\n",
       "      <th>2464240</th>\n",
       "      <td>WESTLANDS</td>\n",
       "      <td>PARKLANDS</td>\n",
       "      <td>HIGHRIDGE</td>\n",
       "      <td>CV-7208007</td>\n",
       "      <td>COM</td>\n",
       "      <td>COMMERCIAL</td>\n",
       "      <td>0.5</td>\n",
       "      <td>ACTUAL</td>\n",
       "      <td>VALID</td>\n",
       "      <td>WAT</td>\n",
       "      <td>SEW</td>\n",
       "      <td>54547.0</td>\n",
       "      <td>35587.0</td>\n",
       "      <td>90134.0</td>\n",
       "      <td>699.0</td>\n",
       "      <td>May</td>\n",
       "      <td>2025.0</td>\n",
       "      <td>False</td>\n",
       "    </tr>\n",
       "  </tbody>\n",
       "</table>\n",
       "<p>220706 rows × 18 columns</p>\n",
       "</div>"
      ],
      "text/plain": [
       "            REGION            ZONE     SUB_ZONE INSTALLATION_KEY  \\\n",
       "8        WESTLANDS        KITUSURU  WAIYAKI WAY       CV-7000010   \n",
       "11        KASARANI  HUNTERS -MWIKI      HUNTERS       CV-7000013   \n",
       "39       WESTLANDS        KITUSURU  WAIYAKI WAY       CV-7000027   \n",
       "56       DAGORETTI      KAWANGWARE        RIARA       CV-7000116   \n",
       "68       WESTLANDS       PARKLANDS    BROOKSIDE       CV-7000128   \n",
       "...            ...             ...          ...              ...   \n",
       "2464232  WESTLANDS       PARKLANDS    HIGHRIDGE       CV-7138838   \n",
       "2464235  WESTLANDS       PARKLANDS    HIGHRIDGE       CV-7172088   \n",
       "2464237  WESTLANDS       PARKLANDS    HIGHRIDGE       CV-7109951   \n",
       "2464238  WESTLANDS       PARKLANDS    HIGHRIDGE     IN-001239095   \n",
       "2464240  WESTLANDS       PARKLANDS    HIGHRIDGE       CV-7208007   \n",
       "\n",
       "        INST_TYPE_CODE          INSTALLATION_TYPE_DESC  METER_SIZE  \\\n",
       "8                  DOM                        DOMESTIC         0.5   \n",
       "11                 DOM                        DOMESTIC         0.5   \n",
       "39                 DOM                        DOMESTIC         0.5   \n",
       "56                 COM                      COMMERCIAL         2.0   \n",
       "68                 COM                      COMMERCIAL         0.5   \n",
       "...                ...                             ...         ...   \n",
       "2464232        GOV-FND   PRIMARY AND SECONDARY SCHOOLS         1.5   \n",
       "2464235            COM                      COMMERCIAL        0.75   \n",
       "2464237       COM-CONS  MAJOR CONSTRUCTION SITES>300M3         0.5   \n",
       "2464238       COM-CONS  MAJOR CONSTRUCTION SITES>300M3         0.5   \n",
       "2464240            COM                      COMMERCIAL         0.5   \n",
       "\n",
       "        BILL_ESTIMATE_ACTUAL BILL_VALID_INVALID MAIN_SERVICE SHADOW_SERVICE  \\\n",
       "8                     ACTUAL              VALID          WAT                  \n",
       "11                    ACTUAL              VALID          WAT                  \n",
       "39                    ACTUAL              VALID          WAT            SEW   \n",
       "56                    ACTUAL              VALID          WAT            SEW   \n",
       "68                    ACTUAL              VALID          WAT            SEW   \n",
       "...                      ...                ...          ...            ...   \n",
       "2464232               ACTUAL              VALID                         SEW   \n",
       "2464235               ACTUAL              VALID          WAT            SEW   \n",
       "2464237               ACTUAL              VALID          WAT            SEW   \n",
       "2464238               ACTUAL              VALID          WAT            SEW   \n",
       "2464240               ACTUAL              VALID          WAT            SEW   \n",
       "\n",
       "         WATER_AMOUNT  SEWER_AMOUNT  BILL_AMOUNT  BILL_VOLUME   MONTH    YEAR  \\\n",
       "8              7771.0           0.0       7771.0        111.0  August  2024.0   \n",
       "11             6424.0           0.0       6424.0         91.0  August  2024.0   \n",
       "39             4904.0        3127.0       8031.0         71.0  August  2024.0   \n",
       "56            61550.0       40458.0     102008.0        785.0  August  2024.0   \n",
       "68            59628.0       39267.0      98895.0        759.0  August  2024.0   \n",
       "...               ...           ...          ...          ...     ...     ...   \n",
       "2464232           0.0       11051.0      11051.0        257.0     May  2025.0   \n",
       "2464235       10751.0        6655.0      17406.0        147.0     May  2025.0   \n",
       "2464237        7943.0        4900.0      12843.0        111.0     May  2025.0   \n",
       "2464238       16133.0       10191.0      26324.0        216.0     May  2025.0   \n",
       "2464240       54547.0       35587.0      90134.0        699.0     May  2025.0   \n",
       "\n",
       "         NEGATIVE  \n",
       "8           False  \n",
       "11          False  \n",
       "39          False  \n",
       "56          False  \n",
       "68          False  \n",
       "...           ...  \n",
       "2464232     False  \n",
       "2464235     False  \n",
       "2464237     False  \n",
       "2464238     False  \n",
       "2464240     False  \n",
       "\n",
       "[220706 rows x 18 columns]"
      ]
     },
     "execution_count": 61,
     "metadata": {},
     "output_type": "execute_result"
    }
   ],
   "source": [
    "high_consumers_df = df_filtered[df_filtered['BILL_VOLUME'] > 68]\n",
    "high_consumers_df"
   ]
  }
 ],
 "metadata": {
  "kernelspec": {
   "display_name": "nairobi_water_vev (3.12.1)",
   "language": "python",
   "name": "python3"
  },
  "language_info": {
   "codemirror_mode": {
    "name": "ipython",
    "version": 3
   },
   "file_extension": ".py",
   "mimetype": "text/x-python",
   "name": "python",
   "nbconvert_exporter": "python",
   "pygments_lexer": "ipython3",
   "version": "3.12.1"
  }
 },
 "nbformat": 4,
 "nbformat_minor": 5
}
